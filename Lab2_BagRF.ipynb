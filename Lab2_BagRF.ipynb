{
  "nbformat": 4,
  "nbformat_minor": 0,
  "metadata": {
    "colab": {
      "name": "Lab2_BagRF.ipynb",
      "provenance": [],
      "include_colab_link": true
    },
    "kernelspec": {
      "display_name": "Python 3",
      "language": "python",
      "name": "python3"
    },
    "language_info": {
      "codemirror_mode": {
        "name": "ipython",
        "version": 3
      },
      "file_extension": ".py",
      "mimetype": "text/x-python",
      "name": "python",
      "nbconvert_exporter": "python",
      "pygments_lexer": "ipython3",
      "version": "3.7.10"
    }
  },
  "cells": [
    {
      "cell_type": "markdown",
      "metadata": {
        "id": "view-in-github",
        "colab_type": "text"
      },
      "source": [
        "<a href=\"https://colab.research.google.com/github/vibferreira/machine_learning_2021_UBS/blob/main/Lab2_BagRF.ipynb\" target=\"_parent\"><img src=\"https://colab.research.google.com/assets/colab-badge.svg\" alt=\"Open In Colab\"/></a>"
      ]
    },
    {
      "cell_type": "markdown",
      "metadata": {
        "id": "AZLGTNB9iZ_M"
      },
      "source": [
        "# LAB SESSION 1 - Bagging and Random Forests"
      ]
    },
    {
      "cell_type": "markdown",
      "metadata": {
        "id": "CQnz95HziZ_R"
      },
      "source": [
        "# Utils"
      ]
    },
    {
      "cell_type": "code",
      "metadata": {
        "id": "IfV1ftSOiZ_S"
      },
      "source": [
        "#conda install -c conda-forge scikit-learn, pandas "
      ],
      "execution_count": null,
      "outputs": []
    },
    {
      "cell_type": "code",
      "metadata": {
        "id": "0T5gk0XxiZ_T"
      },
      "source": [
        "#conda install seaborn"
      ],
      "execution_count": null,
      "outputs": []
    },
    {
      "cell_type": "markdown",
      "metadata": {
        "id": "RK4VcS8KiZ_T"
      },
      "source": [
        "## Ex 1: comparison between CART, bagging and random forests "
      ]
    },
    {
      "cell_type": "markdown",
      "metadata": {
        "id": "KDL_n4mTiZ_U"
      },
      "source": [
        "We work with the \"Urban Land Cover\" Machine learning data base (https://archive.ics.uci.edu/ml/datasets/Urban+Land+Cover). There are a test and a train set. These data sets are used for automated mapping of urban land cover (trees, grass, soil, concrete, asphalt, buildings, etc.) in satellite or aerial imagery. 9 types of urban land cover are considered and multi-scale spectral, size, shape, and texture information are use for classification. There are a low number of training samples for each class (14-30) and a high number of classification variables (148). The test set is from a random sampling of the image.\n",
        "\n",
        "Before to start, we: \n",
        " - load the data and look at them (display the dimension and some descriptive statistics) \n",
        " - select the variables that we will use in the exercise, \n"
      ]
    },
    {
      "cell_type": "code",
      "metadata": {
        "colab": {
          "base_uri": "https://localhost:8080/",
          "height": 421
        },
        "id": "9t65lqVmiZ_U",
        "outputId": "b7430227-5a0c-43b6-d0ce-de633edb8b74"
      },
      "source": [
        "# (1) Load the data and display the dimension and a brief statistics summary\n",
        "import pandas as pd # data analysis\n",
        "ulc_train = pd.read_csv(\"ULC_training.csv\") \n",
        "ulc_train.head()"
      ],
      "execution_count": null,
      "outputs": [
        {
          "data": {
            "text/html": [
              "<div>\n",
              "<style scoped>\n",
              "    .dataframe tbody tr th:only-of-type {\n",
              "        vertical-align: middle;\n",
              "    }\n",
              "\n",
              "    .dataframe tbody tr th {\n",
              "        vertical-align: top;\n",
              "    }\n",
              "\n",
              "    .dataframe thead th {\n",
              "        text-align: right;\n",
              "    }\n",
              "</style>\n",
              "<table border=\"1\" class=\"dataframe\">\n",
              "  <thead>\n",
              "    <tr style=\"text-align: right;\">\n",
              "      <th></th>\n",
              "      <th>class</th>\n",
              "      <th>BrdIndx</th>\n",
              "      <th>Area</th>\n",
              "      <th>Round</th>\n",
              "      <th>Bright</th>\n",
              "      <th>Compact</th>\n",
              "      <th>ShpIndx</th>\n",
              "      <th>Mean_G</th>\n",
              "      <th>Mean_R</th>\n",
              "      <th>Mean_NIR</th>\n",
              "      <th>...</th>\n",
              "      <th>SD_NIR_140</th>\n",
              "      <th>LW_140</th>\n",
              "      <th>GLCM1_140</th>\n",
              "      <th>Rect_140</th>\n",
              "      <th>GLCM2_140</th>\n",
              "      <th>Dens_140</th>\n",
              "      <th>Assym_140</th>\n",
              "      <th>NDVI_140</th>\n",
              "      <th>BordLngth_140</th>\n",
              "      <th>GLCM3_140</th>\n",
              "    </tr>\n",
              "  </thead>\n",
              "  <tbody>\n",
              "    <tr>\n",
              "      <th>0</th>\n",
              "      <td>car</td>\n",
              "      <td>1.27</td>\n",
              "      <td>91</td>\n",
              "      <td>0.97</td>\n",
              "      <td>231.38</td>\n",
              "      <td>1.39</td>\n",
              "      <td>1.47</td>\n",
              "      <td>207.92</td>\n",
              "      <td>241.74</td>\n",
              "      <td>244.48</td>\n",
              "      <td>...</td>\n",
              "      <td>26.18</td>\n",
              "      <td>2.00</td>\n",
              "      <td>0.50</td>\n",
              "      <td>0.85</td>\n",
              "      <td>6.29</td>\n",
              "      <td>1.67</td>\n",
              "      <td>0.70</td>\n",
              "      <td>-0.08</td>\n",
              "      <td>56</td>\n",
              "      <td>3806.36</td>\n",
              "    </tr>\n",
              "    <tr>\n",
              "      <th>1</th>\n",
              "      <td>concrete</td>\n",
              "      <td>2.36</td>\n",
              "      <td>241</td>\n",
              "      <td>1.56</td>\n",
              "      <td>216.15</td>\n",
              "      <td>2.46</td>\n",
              "      <td>2.51</td>\n",
              "      <td>187.85</td>\n",
              "      <td>229.39</td>\n",
              "      <td>231.20</td>\n",
              "      <td>...</td>\n",
              "      <td>22.29</td>\n",
              "      <td>2.25</td>\n",
              "      <td>0.79</td>\n",
              "      <td>0.55</td>\n",
              "      <td>8.42</td>\n",
              "      <td>1.38</td>\n",
              "      <td>0.81</td>\n",
              "      <td>-0.09</td>\n",
              "      <td>1746</td>\n",
              "      <td>1450.14</td>\n",
              "    </tr>\n",
              "    <tr>\n",
              "      <th>2</th>\n",
              "      <td>concrete</td>\n",
              "      <td>2.12</td>\n",
              "      <td>266</td>\n",
              "      <td>1.47</td>\n",
              "      <td>232.18</td>\n",
              "      <td>2.07</td>\n",
              "      <td>2.21</td>\n",
              "      <td>206.54</td>\n",
              "      <td>244.22</td>\n",
              "      <td>245.79</td>\n",
              "      <td>...</td>\n",
              "      <td>15.59</td>\n",
              "      <td>2.19</td>\n",
              "      <td>0.76</td>\n",
              "      <td>0.74</td>\n",
              "      <td>7.24</td>\n",
              "      <td>1.68</td>\n",
              "      <td>0.81</td>\n",
              "      <td>-0.07</td>\n",
              "      <td>566</td>\n",
              "      <td>1094.04</td>\n",
              "    </tr>\n",
              "    <tr>\n",
              "      <th>3</th>\n",
              "      <td>concrete</td>\n",
              "      <td>2.42</td>\n",
              "      <td>399</td>\n",
              "      <td>1.28</td>\n",
              "      <td>230.40</td>\n",
              "      <td>2.49</td>\n",
              "      <td>2.73</td>\n",
              "      <td>204.60</td>\n",
              "      <td>243.27</td>\n",
              "      <td>243.32</td>\n",
              "      <td>...</td>\n",
              "      <td>13.51</td>\n",
              "      <td>3.34</td>\n",
              "      <td>0.82</td>\n",
              "      <td>0.74</td>\n",
              "      <td>7.44</td>\n",
              "      <td>1.36</td>\n",
              "      <td>0.92</td>\n",
              "      <td>-0.09</td>\n",
              "      <td>1178</td>\n",
              "      <td>1125.38</td>\n",
              "    </tr>\n",
              "    <tr>\n",
              "      <th>4</th>\n",
              "      <td>concrete</td>\n",
              "      <td>2.15</td>\n",
              "      <td>944</td>\n",
              "      <td>1.73</td>\n",
              "      <td>193.18</td>\n",
              "      <td>2.28</td>\n",
              "      <td>4.10</td>\n",
              "      <td>165.98</td>\n",
              "      <td>205.55</td>\n",
              "      <td>208.00</td>\n",
              "      <td>...</td>\n",
              "      <td>15.65</td>\n",
              "      <td>50.08</td>\n",
              "      <td>0.85</td>\n",
              "      <td>0.49</td>\n",
              "      <td>8.15</td>\n",
              "      <td>0.23</td>\n",
              "      <td>1.00</td>\n",
              "      <td>-0.08</td>\n",
              "      <td>6232</td>\n",
              "      <td>1146.38</td>\n",
              "    </tr>\n",
              "  </tbody>\n",
              "</table>\n",
              "<p>5 rows × 148 columns</p>\n",
              "</div>"
            ],
            "text/plain": [
              "       class  BrdIndx  Area  Round  Bright  Compact  ShpIndx  Mean_G  Mean_R  \\\n",
              "0       car      1.27    91   0.97  231.38     1.39     1.47  207.92  241.74   \n",
              "1  concrete      2.36   241   1.56  216.15     2.46     2.51  187.85  229.39   \n",
              "2  concrete      2.12   266   1.47  232.18     2.07     2.21  206.54  244.22   \n",
              "3  concrete      2.42   399   1.28  230.40     2.49     2.73  204.60  243.27   \n",
              "4  concrete      2.15   944   1.73  193.18     2.28     4.10  165.98  205.55   \n",
              "\n",
              "   Mean_NIR  ...  SD_NIR_140  LW_140  GLCM1_140  Rect_140  GLCM2_140  \\\n",
              "0    244.48  ...       26.18    2.00       0.50      0.85       6.29   \n",
              "1    231.20  ...       22.29    2.25       0.79      0.55       8.42   \n",
              "2    245.79  ...       15.59    2.19       0.76      0.74       7.24   \n",
              "3    243.32  ...       13.51    3.34       0.82      0.74       7.44   \n",
              "4    208.00  ...       15.65   50.08       0.85      0.49       8.15   \n",
              "\n",
              "   Dens_140  Assym_140  NDVI_140  BordLngth_140  GLCM3_140  \n",
              "0      1.67       0.70     -0.08             56    3806.36  \n",
              "1      1.38       0.81     -0.09           1746    1450.14  \n",
              "2      1.68       0.81     -0.07            566    1094.04  \n",
              "3      1.36       0.92     -0.09           1178    1125.38  \n",
              "4      0.23       1.00     -0.08           6232    1146.38  \n",
              "\n",
              "[5 rows x 148 columns]"
            ]
          },
          "execution_count": 3,
          "metadata": {},
          "output_type": "execute_result"
        }
      ]
    },
    {
      "cell_type": "code",
      "metadata": {
        "id": "NLPaDLVxiZ_V",
        "outputId": "3b935a8b-ad94-496e-818c-cdbc4107dfaa"
      },
      "source": [
        "print(ulc_train.shape)\n",
        "print(ulc_train.describe())\n",
        "print(ulc_train['class'].value_counts())"
      ],
      "execution_count": null,
      "outputs": [
        {
          "name": "stdout",
          "output_type": "stream",
          "text": [
            "(168, 148)\n",
            "          BrdIndx         Area       Round      Bright     Compact  \\\n",
            "count  168.000000   168.000000  168.000000  168.000000  168.000000   \n",
            "mean     2.008512   565.869048    1.132976  165.569821    2.077679   \n",
            "std      0.634807   679.852886    0.489150   61.883993    0.699600   \n",
            "min      1.000000    10.000000    0.020000   37.670000    1.000000   \n",
            "25%      1.537500   178.000000    0.787500  133.977500    1.547500   \n",
            "50%      1.920000   315.000000    1.085000  164.485000    1.940000   \n",
            "75%      2.375000   667.000000    1.410000  221.895000    2.460000   \n",
            "max      4.190000  3659.000000    2.890000  244.740000    4.700000   \n",
            "\n",
            "          ShpIndx      Mean_G      Mean_R    Mean_NIR        SD_G  ...  \\\n",
            "count  168.000000  168.000000  168.000000  168.000000  168.000000  ...   \n",
            "mean     2.229881  161.577083  163.672440  171.459226   10.131369  ...   \n",
            "std      0.703572   63.407201   71.306748   67.973969    5.179409  ...   \n",
            "min      1.060000   30.680000   32.210000   40.120000    4.330000  ...   \n",
            "25%      1.700000   91.040000  101.187500  120.165000    6.770000  ...   \n",
            "50%      2.130000  187.560000  160.615000  178.345000    8.010000  ...   \n",
            "75%      2.680000  210.940000  234.815000  236.002500   11.500000  ...   \n",
            "max      4.300000  246.350000  253.080000  253.320000   36.400000  ...   \n",
            "\n",
            "       SD_NIR_140      LW_140   GLCM1_140    Rect_140   GLCM2_140    Dens_140  \\\n",
            "count  168.000000  168.000000  168.000000  168.000000  168.000000  168.000000   \n",
            "mean    23.769881    3.098274    0.796488    0.665000    7.795536    1.594405   \n",
            "std     12.836522    6.101883    0.103930    0.179086    0.670491    0.460627   \n",
            "min      4.020000    1.000000    0.330000    0.240000    6.290000    0.230000   \n",
            "25%     13.965000    1.395000    0.757500    0.560000    7.357500    1.325000   \n",
            "50%     21.135000    1.740000    0.810000    0.690000    7.790000    1.660000   \n",
            "75%     29.957500    2.285000    0.870000    0.810000    8.260000    1.945000   \n",
            "max     60.020000   51.540000    0.950000    0.980000    9.340000    2.340000   \n",
            "\n",
            "        Assym_140    NDVI_140  BordLngth_140    GLCM3_140  \n",
            "count  168.000000  168.000000     168.000000   168.000000  \n",
            "mean     0.615357    0.014583     983.309524  1275.292917  \n",
            "std      0.239900    0.153677     880.013745   603.658611  \n",
            "min      0.070000   -0.360000      56.000000   336.730000  \n",
            "25%      0.460000   -0.080000     320.000000   817.405000  \n",
            "50%      0.620000   -0.040000     776.000000  1187.025000  \n",
            "75%      0.810000    0.120000    1412.500000  1588.427500  \n",
            "max      1.000000    0.350000    6232.000000  3806.360000  \n",
            "\n",
            "[8 rows x 147 columns]\n",
            "grass        29\n",
            "building     25\n",
            "concrete     23\n",
            "tree         17\n",
            "shadow       16\n",
            "car          15\n",
            "pool         15\n",
            "asphalt      14\n",
            "soil         14\n",
            "Name: class, dtype: int64\n"
          ]
        }
      ]
    },
    {
      "cell_type": "code",
      "metadata": {
        "id": "xXOVXMfGiZ_W",
        "outputId": "c6fb2daa-36fc-4cef-9534-bca5f50ca063"
      },
      "source": [
        "ulc_test = pd.read_csv(\"ULC_testing.csv\") \n",
        "print(ulc_test.head())\n",
        "print(ulc_test.shape)"
      ],
      "execution_count": null,
      "outputs": [
        {
          "name": "stdout",
          "output_type": "stream",
          "text": [
            "       class  BrdIndx  Area  Round  Bright  Compact  ShpIndx  Mean_G  Mean_R  \\\n",
            "0  concrete      1.32   131   0.81  222.74     1.66     2.18  192.94  235.11   \n",
            "1    shadow      1.59   864   0.94   47.56     1.41     1.87   36.82   48.78   \n",
            "2    shadow      1.41   409   1.00   51.38     1.37     1.53   41.72   51.96   \n",
            "3      tree      2.58   187   1.91   70.08     3.41     3.11   93.13   55.20   \n",
            "4   asphalt      2.60   116   2.05   89.57     3.06     3.02   73.17   94.89   \n",
            "\n",
            "   Mean_NIR  ...  SD_NIR_140  LW_140  GLCM1_140  Rect_140  GLCM2_140  \\\n",
            "0    240.15  ...       31.15    5.04       0.80      0.58       8.56   \n",
            "1     57.09  ...       12.01    3.70       0.52      0.96       7.01   \n",
            "2     60.48  ...       18.75    3.09       0.90      0.63       8.32   \n",
            "3     61.92  ...       27.67    6.33       0.89      0.70       8.56   \n",
            "4    100.64  ...       32.05    1.01       0.83      0.75       8.62   \n",
            "\n",
            "   Dens_140  Assym_140  NDVI_140  BordLngth_140  GLCM3_140  \n",
            "0      0.82       0.98     -0.10           1512    1287.52  \n",
            "1      1.69       0.86     -0.14            196    2659.74  \n",
            "2      1.38       0.84      0.10           1198     720.38  \n",
            "3      1.10       0.96      0.20            524     891.36  \n",
            "4      2.08       0.08     -0.10            496    1194.76  \n",
            "\n",
            "[5 rows x 148 columns]\n",
            "(507, 148)\n"
          ]
        }
      ]
    },
    {
      "cell_type": "code",
      "metadata": {
        "id": "25_l3kTCiZ_X",
        "outputId": "e7fde7b3-a7a9-400e-ffc6-7733063b7021"
      },
      "source": [
        "# (2) Select the variables that we be used \n",
        "target_column = \"class\" # The response variable that we will consider\n",
        "features_columns = list(ulc_train)\n",
        "features_columns.remove('class') # The predictors/features used to predict the target\n",
        "#print(target_column)\n",
        "print(features_columns)"
      ],
      "execution_count": null,
      "outputs": [
        {
          "name": "stdout",
          "output_type": "stream",
          "text": [
            "['BrdIndx', 'Area', 'Round', 'Bright', 'Compact', 'ShpIndx', 'Mean_G', 'Mean_R', 'Mean_NIR', 'SD_G', 'SD_R', 'SD_NIR', 'LW', 'GLCM1', 'Rect', 'GLCM2', 'Dens', 'Assym', 'NDVI', 'BordLngth', 'GLCM3', 'BrdIndx_40', 'Area_40', 'Round_40', 'Bright_40', 'Compact_40', 'ShpIndx_40', 'Mean_G_40', 'Mean_R_40', 'Mean_NIR_40', 'SD_G_40', 'SD_R_40', 'SD_NIR_40', 'LW_40', 'GLCM1_40', 'Rect_40', 'GLCM2_40', 'Dens_40', 'Assym_40', 'NDVI_40', 'BordLngth_40', 'GLCM3_40', 'BrdIndx_60', 'Area_60', 'Round_60', 'Bright_60', 'Compact_60', 'ShpIndx_60', 'Mean_G_60', 'Mean_R_60', 'Mean_NIR_60', 'SD_G_60', 'SD_R_60', 'SD_NIR_60', 'LW_60', 'GLCM1_60', 'Rect_60', 'GLCM2_60', 'Dens_60', 'Assym_60', 'NDVI_60', 'BordLngth_60', 'GLCM3_60', 'BrdIndx_80', 'Area_80', 'Round_80', 'Bright_80', 'Compact_80', 'ShpIndx_80', 'Mean_G_80', 'Mean_R_80', 'Mean_NIR_80', 'SD_G_80', 'SD_R_80', 'SD_NIR_80', 'LW_80', 'GLCM1_80', 'Rect_80', 'GLCM2_80', 'Dens_80', 'Assym_80', 'NDVI_80', 'BordLngth_80', 'GLCM3_80', 'BrdIndx_100', 'Area_100', 'Round_100', 'Bright_100', 'Compact_100', 'ShpIndx_100', 'Mean_G_100', 'Mean_R_100', 'Mean_NIR_100', 'SD_G_100', 'SD_R_100', 'SD_NIR_100', 'LW_100', 'GLCM1_100', 'Rect_100', 'GLCM2_100', 'Dens_100', 'Assym_100', 'NDVI_100', 'BordLngth_100', 'GLCM3_100', 'BrdIndx_120', 'Area_120', 'Round_120', 'Bright_120', 'Compact_120', 'ShpIndx_120', 'Mean_G_120', 'Mean_R_120', 'Mean_NIR_120', 'SD_G_120', 'SD_R_120', 'SD_NIR_120', 'LW_120', 'GLCM1_120', 'Rect_120', 'GLCM2_120', 'Dens_120', 'Assym_120', 'NDVI_120', 'BordLngth_120', 'GLCM3_120', 'BrdIndx_140', 'Area_140', 'Round_140', 'Bright_140', 'Compact_140', 'ShpIndx_140', 'Mean_G_140', 'Mean_R_140', 'Mean_NIR_140', 'SD_G_140', 'SD_R_140', 'SD_NIR_140', 'LW_140', 'GLCM1_140', 'Rect_140', 'GLCM2_140', 'Dens_140', 'Assym_140', 'NDVI_140', 'BordLngth_140', 'GLCM3_140']\n"
          ]
        }
      ]
    },
    {
      "cell_type": "code",
      "metadata": {
        "id": "pooVrVxYiZ_X"
      },
      "source": [
        "# Splitting the dataset\n",
        "data, target = ulc_train[features_columns], ulc_train[target_column]\n",
        "data_test, target_test = ulc_test[features_columns], ulc_test[target_column]"
      ],
      "execution_count": null,
      "outputs": []
    },
    {
      "cell_type": "markdown",
      "metadata": {
        "id": "kSkxObjViZ_X"
      },
      "source": [
        "**Question 1. Fit a random forest on the training set to explain the type of soil (variable class) according to multi-scale spectral, size, shape, and texture information. You will use the values for $n\\_estimatorsmax = 500 $ and $ max\\_features= \\sqrt(d)$ with $d$ denoting the number of features, $oob\\_score=True$  and $random\\_state=0$. Remind the meaning of $n\\_estimators $ and $ max\\_features$. Compute the oob score and explain. What does it represent ?**\n"
      ]
    },
    {
      "cell_type": "markdown",
      "metadata": {
        "id": "fTckYWvRi2J7"
      },
      "source": [
        "##----- You can write your answer here or on a paper as well-----##\n",
        "\n",
        "The OOB represents the samples, not selected by the bootstrap aggregation step, that were later given to the model as unseen data. The model then predicts the label of those samples using all the trees that have not seen that data before and return a majority of vote of the prediction. The OBB score ilustrates the proportion of samples that were correctly classified by the final decision of the model. Since it is based on data not used to build the model, it is an useful metrics to measure the accuracy of the classification."
      ]
    },
    {
      "cell_type": "code",
      "metadata": {
        "id": "67mFInekiZ_Y"
      },
      "source": [
        "# Splitting the dataset\n",
        "# data_train, data_test, target_train, target_test = train_test_split(data, target, random_state=0, test_size=0.25)"
      ],
      "execution_count": null,
      "outputs": []
    },
    {
      "cell_type": "code",
      "metadata": {
        "id": "zeGuo1reiZ_Y",
        "outputId": "a6f3fd21-156b-43dd-fd58-54a106f7b0c9"
      },
      "source": [
        "##------- Complete the command below by filling in the gaps '...'.-------##\n",
        "## Help: \n",
        "## - import RandomForestClassifier from sklearn.ensemble\n",
        "## - see the documentation about random forest classifier with scikit-learn : https://scikit-learn.org/stable/modules/generated/sklearn.ensemble.RandomForestClassifier.html\n",
        "\n",
        "# Step 1: create the object rfc, it is a RandomForestClassifier object with n_estimators=500, max_features='auto' and random_state=0\n",
        "from sklearn.ensemble import RandomForestClassifier\n",
        "rfc = RandomForestClassifier(n_estimators=500, max_features='auto', random_state=0, oob_score=True)\n",
        "\n",
        "# Step 2: build the random forest on the train set by indicating the input data and the target variable \n",
        "rfc.fit(data,target)\n",
        "\n",
        "# Step 3: look at the parameters used by your forest\n",
        "from pprint import pprint\n",
        "print('Parameters of the forest:\\n')\n",
        "pprint(rfc.get_params())\n",
        "print('\\n')\n",
        "\n",
        "# Step 4: print the oob_score (attributes of rfc named oob_score_)\n",
        "# .....\n",
        "print('OBB score', rfc.oob_score_)\n",
        "print('Accuracy score: ', rfc.score(data_test,target_test))"
      ],
      "execution_count": null,
      "outputs": [
        {
          "name": "stdout",
          "output_type": "stream",
          "text": [
            "Parameters of the forest:\n",
            "\n",
            "{'bootstrap': True,\n",
            " 'ccp_alpha': 0.0,\n",
            " 'class_weight': None,\n",
            " 'criterion': 'gini',\n",
            " 'max_depth': None,\n",
            " 'max_features': 'auto',\n",
            " 'max_leaf_nodes': None,\n",
            " 'max_samples': None,\n",
            " 'min_impurity_decrease': 0.0,\n",
            " 'min_impurity_split': None,\n",
            " 'min_samples_leaf': 1,\n",
            " 'min_samples_split': 2,\n",
            " 'min_weight_fraction_leaf': 0.0,\n",
            " 'n_estimators': 500,\n",
            " 'n_jobs': None,\n",
            " 'oob_score': True,\n",
            " 'random_state': 0,\n",
            " 'verbose': 0,\n",
            " 'warm_start': False}\n",
            "\n",
            "\n",
            "OBB score 0.8452380952380952\n",
            "Accuracy score:  0.8086785009861933\n"
          ]
        }
      ]
    },
    {
      "cell_type": "markdown",
      "metadata": {
        "id": "O_2QlaT8iZ_Z"
      },
      "source": [
        "**Question 2. Predict the class of each observation of the test sample by using the random forest $\\mathtt{rfc}$ and display the confusion matrix. Comment it. How many observations are misclassified ? Compute the accuracy.**"
      ]
    },
    {
      "cell_type": "markdown",
      "metadata": {
        "id": "VxyvFwn3i2J8"
      },
      "source": [
        "##----- You can write your answer here or on a paper as well-----##\n",
        "\n",
        "97 out of 507 samples were misclassfied, with an accuracy score of approximately 80.86%. Accuracy score and OOB score are computed differently and therefore may not be exactly similar. The Accuracy score was computed using the test dataset which is then tested in all the trees of the model. On the other hand, OOB is computed using only the trees that did not see those samples before, which may help reducing variance and therefore returning a better accuracy than than the accuracy score. "
      ]
    },
    {
      "cell_type": "code",
      "metadata": {
        "id": "QVJ_ng6Qi2J8"
      },
      "source": [
        "# (97/507*100)-100"
      ],
      "execution_count": null,
      "outputs": []
    },
    {
      "cell_type": "code",
      "metadata": {
        "id": "L7Mz08_Fi2J9",
        "outputId": "9ebab8f7-2fa7-474e-d750-539ca9ec8d9a"
      },
      "source": [
        "import numpy as np\n",
        "# Number of misclassified samples\n",
        "def correct_incorrect_samples(cm,df):\n",
        "    total_samples = len(df)\n",
        "    correctly_class= np.diagonal(cm).sum()\n",
        "    print('Correctly classified samples: ', correctly_class)\n",
        "    print('Misclassified samples:', total_samples - correctly_class)\n",
        "\n",
        "correct_incorrect_samples(cm, target_test)"
      ],
      "execution_count": null,
      "outputs": [
        {
          "name": "stdout",
          "output_type": "stream",
          "text": [
            "Correctly classified samples:  410\n",
            "Misclassified samples: 97\n"
          ]
        }
      ]
    },
    {
      "cell_type": "code",
      "metadata": {
        "id": "j2rh_K47iZ_Z",
        "outputId": "66c78e4e-5bd0-4851-bccd-c842c70648e5"
      },
      "source": [
        "##------- Complete the command below by filling in the gaps '...'.-------##\n",
        "\n",
        "# Step 1: compute the predictions\n",
        "predictions_test = rfc.predict(data_test) \n",
        "#print(predictions_test)\n",
        "\n",
        "# Step 2: display the confusion matrix\n",
        "\n",
        "from sklearn.metrics import confusion_matrix, ConfusionMatrixDisplay\n",
        "cm = confusion_matrix(y_true=target_test, y_pred=predictions_test) # define the confusion matrix object\n",
        "disp = ConfusionMatrixDisplay(confusion_matrix=cm, display_labels=rfc.classes_) # display the confusion matrix\n",
        "disp.plot() \n",
        "\n",
        "# Step 3: compute the accuracy\n",
        "correct_incorrect_samples(cm, target_test)\n",
        "accuracy = rfc.score(X=data_test,y=target_test);print('Accuracy score', accuracy) "
      ],
      "execution_count": null,
      "outputs": [
        {
          "name": "stdout",
          "output_type": "stream",
          "text": [
            "0.8086785009861933\n"
          ]
        },
        {
          "data": {
            "image/png": "[encoded data removed]",
            "text/plain": [
              "<Figure size 432x288 with 2 Axes>"
            ]
          },
          "metadata": {
            "needs_background": "light"
          },
          "output_type": "display_data"
        }
      ]
    },
    {
      "cell_type": "markdown",
      "metadata": {
        "id": "NxnPMerMiZ_Z"
      },
      "source": [
        "We will now focus on the calibration of some RF parameters: $n\\_estimators$ and $max\\_features$. To calibrate these parameters, we will used the OOB errors.\n",
        "\n",
        "**Question 3.  The code below shows how the OOB error can be measured at the addition of each new tree during training. The resulting plot can be used to approximate a suitable value of $n\\_estimators$ at which the OOB error stabilizes. Comment this plot. What value for $n\\_estimators$ does it seem suitable ?**"
      ]
    },
    {
      "cell_type": "markdown",
      "metadata": {
        "id": "uFPk4Fpti2J9"
      },
      "source": [
        "##----- You can write your answer here or on a paper as well-----##\n",
        "\n",
        "The plot shows the OOB error as a function of the number of trees. A lower number of trees is leading to high variablity in the error, which decreases and stabilises as the number of trees increase. The OBB error stabilizes around 0.16 with n_estimators (number of trees) around 600, with a small variation at around 750."
      ]
    },
    {
      "cell_type": "code",
      "metadata": {
        "id": "4ApcFNdviZ_a",
        "outputId": "b8e82399-7e2b-4e74-f631-4411fa0d61a7"
      },
      "source": [
        "import matplotlib.pyplot as plt\n",
        "\n",
        "RANDOM_STATE = 0\n",
        "\n",
        "\n",
        "# Map a classifier name to a list of (<n_estimators>, <error rate>) pairs.\n",
        "error_rate = []\n",
        "\n",
        "# Range of `n_estimators` values to explore.\n",
        "min_estimators = 100\n",
        "max_estimators = 800\n",
        "step=5\n",
        "\n",
        "for i in range(min_estimators, max_estimators+1, step):\n",
        "    rf = RandomForestClassifier(warm_start=True, n_estimators=i, max_features='auto',random_state=RANDOM_STATE, oob_score=True)\n",
        "    rf.fit(data, target)\n",
        "\n",
        "    # Record the OOB error for each `n_estimators=i` setting.\n",
        "    oob_error = 1 - rf.oob_score_\n",
        "    error_rate.append(oob_error)\n",
        "  \n",
        "\n",
        "# Plot Generate the \"OOB error rate\" vs. \"n_estimators\" plot\n",
        "\n",
        "plt.plot(range(min_estimators, max_estimators +1, step), error_rate, label=\"OOB error rate\")\n",
        "\n",
        "plt.ylim(0, 1.5*max(error_rate)) \n",
        "plt.xlim(min_estimators, max_estimators)\n",
        "plt.xlabel(\"n_estimators\")\n",
        "plt.ylabel(\"OOB error rate vs. number of trees\")\n",
        "plt.legend(loc=\"upper right\")\n",
        "plt.show()\n"
      ],
      "execution_count": null,
      "outputs": [
        {
          "data": {
            "image/png": "[encoded data removed]",
            "text/plain": [
              "<Figure size 432x288 with 1 Axes>"
            ]
          },
          "metadata": {
            "needs_background": "light"
          },
          "output_type": "display_data"
        }
      ]
    },
    {
      "cell_type": "code",
      "metadata": {
        "id": "5dLKbuYMiZ_a"
      },
      "source": [
        "##----- You can write your answer here or on a paper as well-----##\n",
        "# OOB score is the OBB error (1-OOB score)\n",
        "# OOB error is a bit more optmistic because the trees are correlated"
      ],
      "execution_count": null,
      "outputs": []
    },
    {
      "cell_type": "markdown",
      "metadata": {
        "id": "ytDriey7iZ_a"
      },
      "source": [
        "**Question 4. Now, we will repeat 10 times a 3-fold cross validation with the function GridSearchCV to calibrate at the same time the parameters $n\\_estimators$ and $max\\_features$. Comment the result and next build a forest using the best values for the parameters $n\\_estimators$ and $max\\_features$. Compute the accuracy on the test set and display the confusion matrix. Compare the performance of this forest with the previous one.**"
      ]
    },
    {
      "cell_type": "code",
      "metadata": {
        "id": "s6bjxsjQiZ_b",
        "outputId": "d33721c7-32aa-403b-d1b6-42de0efa1f03"
      },
      "source": [
        "# Step 1: create a grid with all the values that we will considers for the two paramters\n",
        "grid = {\n",
        "    'max_features':[0.1,0.2,0.3,0.4,0.5,0.6,0.7,0.8,0.9],\n",
        "    'n_estimators':[200,400,600,800]\n",
        "}\n",
        "\n",
        "# Step 2: use the grid to to search for the best couple of parameters\n",
        "from sklearn.model_selection import GridSearchCV\n",
        "rf = RandomForestClassifier() # create the forest model to tune\n",
        "\n",
        "B=10\n",
        "results_cv=pd.DataFrame()\n",
        "for i in range(B):\n",
        "    rf_cv = GridSearchCV(estimator=rf,param_grid=grid, cv=3,n_jobs=-1)# Search the best values for the parameters using 3-fold cross validation, and use all available cores(n_jobs=-1)\n",
        "    rf_cv.fit(data, target) # Fit the CV search\n",
        "    if i==0: \n",
        "        results_cv=pd.DataFrame(rf_cv.cv_results_)[[\"params\",\"mean_test_score\",\"std_test_score\"]]\n",
        "    else:\n",
        "        results_cv[\"mean_test_score\"]=results_cv[\"mean_test_score\"]+pd.DataFrame(rf_cv.cv_results_)[\"mean_test_score\"]\n",
        "        results_cv[\"std_test_score\"]=results_cv[\"std_test_score\"]+pd.DataFrame(rf_cv.cv_results_)[\"std_test_score\"]  \n",
        "        \n",
        "        \n",
        "\n",
        "results_cv[\"mean_test_score\"]=results_cv[\"mean_test_score\"]/B\n",
        "results_cv[\"std_test_score\"]=results_cv[\"std_test_score\"]/B \n",
        "\n",
        "\n",
        "# Step 3: get the best parameters (with the higher performance)\n",
        "ind_best=results_cv[\"mean_test_score\"].idxmax()\n",
        "print(results_cv[\"params\"].iloc[ind_best])\n",
        "print(results_cv[\"mean_test_score\"].iloc[ind_best])\n",
        "print(results_cv[\"std_test_score\"].iloc[ind_best])\n",
        "results_cv"
      ],
      "execution_count": null,
      "outputs": [
        {
          "name": "stdout",
          "output_type": "stream",
          "text": [
            "{'max_features': 0.1, 'n_estimators': 600}\n",
            "0.8375\n",
            "0.03618441981982034\n"
          ]
        },
        {
          "data": {
            "text/html": [
              "<div>\n",
              "<style scoped>\n",
              "    .dataframe tbody tr th:only-of-type {\n",
              "        vertical-align: middle;\n",
              "    }\n",
              "\n",
              "    .dataframe tbody tr th {\n",
              "        vertical-align: top;\n",
              "    }\n",
              "\n",
              "    .dataframe thead th {\n",
              "        text-align: right;\n",
              "    }\n",
              "</style>\n",
              "<table border=\"1\" class=\"dataframe\">\n",
              "  <thead>\n",
              "    <tr style=\"text-align: right;\">\n",
              "      <th></th>\n",
              "      <th>params</th>\n",
              "      <th>mean_test_score</th>\n",
              "      <th>std_test_score</th>\n",
              "    </tr>\n",
              "  </thead>\n",
              "  <tbody>\n",
              "    <tr>\n",
              "      <th>0</th>\n",
              "      <td>{'max_features': 0.1, 'n_estimators': 200}</td>\n",
              "      <td>0.829167</td>\n",
              "      <td>0.036518</td>\n",
              "    </tr>\n",
              "    <tr>\n",
              "      <th>1</th>\n",
              "      <td>{'max_features': 0.1, 'n_estimators': 400}</td>\n",
              "      <td>0.829762</td>\n",
              "      <td>0.036332</td>\n",
              "    </tr>\n",
              "    <tr>\n",
              "      <th>2</th>\n",
              "      <td>{'max_features': 0.1, 'n_estimators': 600}</td>\n",
              "      <td>0.837500</td>\n",
              "      <td>0.036184</td>\n",
              "    </tr>\n",
              "    <tr>\n",
              "      <th>3</th>\n",
              "      <td>{'max_features': 0.1, 'n_estimators': 800}</td>\n",
              "      <td>0.837500</td>\n",
              "      <td>0.037117</td>\n",
              "    </tr>\n",
              "    <tr>\n",
              "      <th>4</th>\n",
              "      <td>{'max_features': 0.2, 'n_estimators': 200}</td>\n",
              "      <td>0.829762</td>\n",
              "      <td>0.042963</td>\n",
              "    </tr>\n",
              "    <tr>\n",
              "      <th>5</th>\n",
              "      <td>{'max_features': 0.2, 'n_estimators': 400}</td>\n",
              "      <td>0.828571</td>\n",
              "      <td>0.041051</td>\n",
              "    </tr>\n",
              "    <tr>\n",
              "      <th>6</th>\n",
              "      <td>{'max_features': 0.2, 'n_estimators': 600}</td>\n",
              "      <td>0.832143</td>\n",
              "      <td>0.037131</td>\n",
              "    </tr>\n",
              "    <tr>\n",
              "      <th>7</th>\n",
              "      <td>{'max_features': 0.2, 'n_estimators': 800}</td>\n",
              "      <td>0.830952</td>\n",
              "      <td>0.040075</td>\n",
              "    </tr>\n",
              "    <tr>\n",
              "      <th>8</th>\n",
              "      <td>{'max_features': 0.3, 'n_estimators': 200}</td>\n",
              "      <td>0.835119</td>\n",
              "      <td>0.033922</td>\n",
              "    </tr>\n",
              "    <tr>\n",
              "      <th>9</th>\n",
              "      <td>{'max_features': 0.3, 'n_estimators': 400}</td>\n",
              "      <td>0.832738</td>\n",
              "      <td>0.040152</td>\n",
              "    </tr>\n",
              "    <tr>\n",
              "      <th>10</th>\n",
              "      <td>{'max_features': 0.3, 'n_estimators': 600}</td>\n",
              "      <td>0.833333</td>\n",
              "      <td>0.036027</td>\n",
              "    </tr>\n",
              "    <tr>\n",
              "      <th>11</th>\n",
              "      <td>{'max_features': 0.3, 'n_estimators': 800}</td>\n",
              "      <td>0.828571</td>\n",
              "      <td>0.035291</td>\n",
              "    </tr>\n",
              "    <tr>\n",
              "      <th>12</th>\n",
              "      <td>{'max_features': 0.4, 'n_estimators': 200}</td>\n",
              "      <td>0.827976</td>\n",
              "      <td>0.038822</td>\n",
              "    </tr>\n",
              "    <tr>\n",
              "      <th>13</th>\n",
              "      <td>{'max_features': 0.4, 'n_estimators': 400}</td>\n",
              "      <td>0.828571</td>\n",
              "      <td>0.042181</td>\n",
              "    </tr>\n",
              "    <tr>\n",
              "      <th>14</th>\n",
              "      <td>{'max_features': 0.4, 'n_estimators': 600}</td>\n",
              "      <td>0.825000</td>\n",
              "      <td>0.038899</td>\n",
              "    </tr>\n",
              "    <tr>\n",
              "      <th>15</th>\n",
              "      <td>{'max_features': 0.4, 'n_estimators': 800}</td>\n",
              "      <td>0.829167</td>\n",
              "      <td>0.042092</td>\n",
              "    </tr>\n",
              "    <tr>\n",
              "      <th>16</th>\n",
              "      <td>{'max_features': 0.5, 'n_estimators': 200}</td>\n",
              "      <td>0.825000</td>\n",
              "      <td>0.042019</td>\n",
              "    </tr>\n",
              "    <tr>\n",
              "      <th>17</th>\n",
              "      <td>{'max_features': 0.5, 'n_estimators': 400}</td>\n",
              "      <td>0.822024</td>\n",
              "      <td>0.039207</td>\n",
              "    </tr>\n",
              "    <tr>\n",
              "      <th>18</th>\n",
              "      <td>{'max_features': 0.5, 'n_estimators': 600}</td>\n",
              "      <td>0.828571</td>\n",
              "      <td>0.038235</td>\n",
              "    </tr>\n",
              "    <tr>\n",
              "      <th>19</th>\n",
              "      <td>{'max_features': 0.5, 'n_estimators': 800}</td>\n",
              "      <td>0.825000</td>\n",
              "      <td>0.037689</td>\n",
              "    </tr>\n",
              "    <tr>\n",
              "      <th>20</th>\n",
              "      <td>{'max_features': 0.6, 'n_estimators': 200}</td>\n",
              "      <td>0.820833</td>\n",
              "      <td>0.040701</td>\n",
              "    </tr>\n",
              "    <tr>\n",
              "      <th>21</th>\n",
              "      <td>{'max_features': 0.6, 'n_estimators': 400}</td>\n",
              "      <td>0.822024</td>\n",
              "      <td>0.041802</td>\n",
              "    </tr>\n",
              "    <tr>\n",
              "      <th>22</th>\n",
              "      <td>{'max_features': 0.6, 'n_estimators': 600}</td>\n",
              "      <td>0.824405</td>\n",
              "      <td>0.038934</td>\n",
              "    </tr>\n",
              "    <tr>\n",
              "      <th>23</th>\n",
              "      <td>{'max_features': 0.6, 'n_estimators': 800}</td>\n",
              "      <td>0.819643</td>\n",
              "      <td>0.045219</td>\n",
              "    </tr>\n",
              "    <tr>\n",
              "      <th>24</th>\n",
              "      <td>{'max_features': 0.7, 'n_estimators': 200}</td>\n",
              "      <td>0.823214</td>\n",
              "      <td>0.036074</td>\n",
              "    </tr>\n",
              "    <tr>\n",
              "      <th>25</th>\n",
              "      <td>{'max_features': 0.7, 'n_estimators': 400}</td>\n",
              "      <td>0.818452</td>\n",
              "      <td>0.042381</td>\n",
              "    </tr>\n",
              "    <tr>\n",
              "      <th>26</th>\n",
              "      <td>{'max_features': 0.7, 'n_estimators': 600}</td>\n",
              "      <td>0.823810</td>\n",
              "      <td>0.038090</td>\n",
              "    </tr>\n",
              "    <tr>\n",
              "      <th>27</th>\n",
              "      <td>{'max_features': 0.7, 'n_estimators': 800}</td>\n",
              "      <td>0.823214</td>\n",
              "      <td>0.038214</td>\n",
              "    </tr>\n",
              "    <tr>\n",
              "      <th>28</th>\n",
              "      <td>{'max_features': 0.8, 'n_estimators': 200}</td>\n",
              "      <td>0.821429</td>\n",
              "      <td>0.036863</td>\n",
              "    </tr>\n",
              "    <tr>\n",
              "      <th>29</th>\n",
              "      <td>{'max_features': 0.8, 'n_estimators': 400}</td>\n",
              "      <td>0.823214</td>\n",
              "      <td>0.034295</td>\n",
              "    </tr>\n",
              "    <tr>\n",
              "      <th>30</th>\n",
              "      <td>{'max_features': 0.8, 'n_estimators': 600}</td>\n",
              "      <td>0.823214</td>\n",
              "      <td>0.036454</td>\n",
              "    </tr>\n",
              "    <tr>\n",
              "      <th>31</th>\n",
              "      <td>{'max_features': 0.8, 'n_estimators': 800}</td>\n",
              "      <td>0.821429</td>\n",
              "      <td>0.043017</td>\n",
              "    </tr>\n",
              "    <tr>\n",
              "      <th>32</th>\n",
              "      <td>{'max_features': 0.9, 'n_estimators': 200}</td>\n",
              "      <td>0.820238</td>\n",
              "      <td>0.041301</td>\n",
              "    </tr>\n",
              "    <tr>\n",
              "      <th>33</th>\n",
              "      <td>{'max_features': 0.9, 'n_estimators': 400}</td>\n",
              "      <td>0.821429</td>\n",
              "      <td>0.039078</td>\n",
              "    </tr>\n",
              "    <tr>\n",
              "      <th>34</th>\n",
              "      <td>{'max_features': 0.9, 'n_estimators': 600}</td>\n",
              "      <td>0.826786</td>\n",
              "      <td>0.038772</td>\n",
              "    </tr>\n",
              "    <tr>\n",
              "      <th>35</th>\n",
              "      <td>{'max_features': 0.9, 'n_estimators': 800}</td>\n",
              "      <td>0.822619</td>\n",
              "      <td>0.035076</td>\n",
              "    </tr>\n",
              "  </tbody>\n",
              "</table>\n",
              "</div>"
            ],
            "text/plain": [
              "                                        params  mean_test_score  \\\n",
              "0   {'max_features': 0.1, 'n_estimators': 200}         0.829167   \n",
              "1   {'max_features': 0.1, 'n_estimators': 400}         0.829762   \n",
              "2   {'max_features': 0.1, 'n_estimators': 600}         0.837500   \n",
              "3   {'max_features': 0.1, 'n_estimators': 800}         0.837500   \n",
              "4   {'max_features': 0.2, 'n_estimators': 200}         0.829762   \n",
              "5   {'max_features': 0.2, 'n_estimators': 400}         0.828571   \n",
              "6   {'max_features': 0.2, 'n_estimators': 600}         0.832143   \n",
              "7   {'max_features': 0.2, 'n_estimators': 800}         0.830952   \n",
              "8   {'max_features': 0.3, 'n_estimators': 200}         0.835119   \n",
              "9   {'max_features': 0.3, 'n_estimators': 400}         0.832738   \n",
              "10  {'max_features': 0.3, 'n_estimators': 600}         0.833333   \n",
              "11  {'max_features': 0.3, 'n_estimators': 800}         0.828571   \n",
              "12  {'max_features': 0.4, 'n_estimators': 200}         0.827976   \n",
              "13  {'max_features': 0.4, 'n_estimators': 400}         0.828571   \n",
              "14  {'max_features': 0.4, 'n_estimators': 600}         0.825000   \n",
              "15  {'max_features': 0.4, 'n_estimators': 800}         0.829167   \n",
              "16  {'max_features': 0.5, 'n_estimators': 200}         0.825000   \n",
              "17  {'max_features': 0.5, 'n_estimators': 400}         0.822024   \n",
              "18  {'max_features': 0.5, 'n_estimators': 600}         0.828571   \n",
              "19  {'max_features': 0.5, 'n_estimators': 800}         0.825000   \n",
              "20  {'max_features': 0.6, 'n_estimators': 200}         0.820833   \n",
              "21  {'max_features': 0.6, 'n_estimators': 400}         0.822024   \n",
              "22  {'max_features': 0.6, 'n_estimators': 600}         0.824405   \n",
              "23  {'max_features': 0.6, 'n_estimators': 800}         0.819643   \n",
              "24  {'max_features': 0.7, 'n_estimators': 200}         0.823214   \n",
              "25  {'max_features': 0.7, 'n_estimators': 400}         0.818452   \n",
              "26  {'max_features': 0.7, 'n_estimators': 600}         0.823810   \n",
              "27  {'max_features': 0.7, 'n_estimators': 800}         0.823214   \n",
              "28  {'max_features': 0.8, 'n_estimators': 200}         0.821429   \n",
              "29  {'max_features': 0.8, 'n_estimators': 400}         0.823214   \n",
              "30  {'max_features': 0.8, 'n_estimators': 600}         0.823214   \n",
              "31  {'max_features': 0.8, 'n_estimators': 800}         0.821429   \n",
              "32  {'max_features': 0.9, 'n_estimators': 200}         0.820238   \n",
              "33  {'max_features': 0.9, 'n_estimators': 400}         0.821429   \n",
              "34  {'max_features': 0.9, 'n_estimators': 600}         0.826786   \n",
              "35  {'max_features': 0.9, 'n_estimators': 800}         0.822619   \n",
              "\n",
              "    std_test_score  \n",
              "0         0.036518  \n",
              "1         0.036332  \n",
              "2         0.036184  \n",
              "3         0.037117  \n",
              "4         0.042963  \n",
              "5         0.041051  \n",
              "6         0.037131  \n",
              "7         0.040075  \n",
              "8         0.033922  \n",
              "9         0.040152  \n",
              "10        0.036027  \n",
              "11        0.035291  \n",
              "12        0.038822  \n",
              "13        0.042181  \n",
              "14        0.038899  \n",
              "15        0.042092  \n",
              "16        0.042019  \n",
              "17        0.039207  \n",
              "18        0.038235  \n",
              "19        0.037689  \n",
              "20        0.040701  \n",
              "21        0.041802  \n",
              "22        0.038934  \n",
              "23        0.045219  \n",
              "24        0.036074  \n",
              "25        0.042381  \n",
              "26        0.038090  \n",
              "27        0.038214  \n",
              "28        0.036863  \n",
              "29        0.034295  \n",
              "30        0.036454  \n",
              "31        0.043017  \n",
              "32        0.041301  \n",
              "33        0.039078  \n",
              "34        0.038772  \n",
              "35        0.035076  "
            ]
          },
          "execution_count": 15,
          "metadata": {},
          "output_type": "execute_result"
        }
      ]
    },
    {
      "cell_type": "markdown",
      "metadata": {
        "id": "zb0lwpQ3iZ_b"
      },
      "source": [
        "**Question 5. Build a forest using the best values for the parameters $n\\_estimators$ and $max\\_features$. Compute the accuracy on the test set and display the confusion matrix. Compare the performance of this forest with the previous one.**"
      ]
    },
    {
      "cell_type": "markdown",
      "metadata": {
        "id": "mXFhhosVi2J-"
      },
      "source": [
        "##----- You can write your answer here or on a paper as well-----##\n",
        "\n",
        "With the changes on the parameter values the accuracy score experienced a slight improvement from around 80.86% to around 81.45%, with 3 less samples misclassified. "
      ]
    },
    {
      "cell_type": "code",
      "metadata": {
        "id": "6Q4J2opPiZ_b",
        "outputId": "190cb3f4-bdbb-4c34-8188-b65163cafc1b"
      },
      "source": [
        "##------- Complete the command below by filling in the gaps '...'.-------##\n",
        "\n",
        "# Step 1: fit a random forest with the best values for parameters\n",
        "best_rfc = RandomForestClassifier(n_estimators=800, max_features=0.1,oob_score=True,random_state=0)\n",
        "\n",
        "# Step 2: build the random forest on the train set by indicating the input data and the target variable \n",
        "best_rfc.fit(data,target)\n",
        "\n",
        "# Step 3: compute the accuracy and the confusion matrix\n",
        "predictions_test_2 = best_rfc.predict(data_test) \n",
        "cm_2 = confusion_matrix(target_test, predictions_test_2)\n",
        "disp = ConfusionMatrixDisplay(confusion_matrix=cm_2,display_labels=best_rfc.classes_)\n",
        "disp.plot() \n",
        "\n",
        "# Step 4: compute the accuracy\n",
        "accuracy_2 = best_rfc.score(data_test,target_test)\n",
        "print(accuracy_2)"
      ],
      "execution_count": null,
      "outputs": [
        {
          "name": "stdout",
          "output_type": "stream",
          "text": [
            "0.814595660749507\n"
          ]
        },
        {
          "data": {
            "image/png": "[encoded data removed]",
            "text/plain": [
              "<Figure size 432x288 with 2 Axes>"
            ]
          },
          "metadata": {
            "needs_background": "light"
          },
          "output_type": "display_data"
        }
      ]
    },
    {
      "cell_type": "code",
      "metadata": {
        "id": "AuRw_a-gi2J_",
        "outputId": "724001fa-9cfa-45f4-ad56-2b91daefe4f6"
      },
      "source": [
        "correct_incorrect_samples(cm_2,target_test)"
      ],
      "execution_count": null,
      "outputs": [
        {
          "name": "stdout",
          "output_type": "stream",
          "text": [
            "Correctly classified samples:  413\n",
            "Misclassified samples: 94\n"
          ]
        }
      ]
    },
    {
      "cell_type": "code",
      "metadata": {
        "id": "7Ei4nwmxi2J_",
        "outputId": "fc5c5a7f-ea03-4c00-a04f-0c02c81f692c"
      },
      "source": [
        "best_rfc.estimator_params"
      ],
      "execution_count": null,
      "outputs": [
        {
          "data": {
            "text/plain": [
              "('criterion',\n",
              " 'max_depth',\n",
              " 'min_samples_split',\n",
              " 'min_samples_leaf',\n",
              " 'min_weight_fraction_leaf',\n",
              " 'max_features',\n",
              " 'max_leaf_nodes',\n",
              " 'min_impurity_decrease',\n",
              " 'min_impurity_split',\n",
              " 'random_state',\n",
              " 'ccp_alpha')"
            ]
          },
          "execution_count": 18,
          "metadata": {},
          "output_type": "execute_result"
        }
      ]
    },
    {
      "cell_type": "markdown",
      "metadata": {
        "id": "C8cobMX0iZ_b"
      },
      "source": [
        "**Question 6. what value for $max\\_features$ we have to use if we want to apply the bagging algorithm ? Build this model and compute the prediction error of this model based on the test set. Compare this model with the two previous random forests. We will call this model $bag$.**"
      ]
    },
    {
      "cell_type": "markdown",
      "metadata": {
        "id": "jGpcTJvyiZ_c"
      },
      "source": [
        "##----- You can write your answer here or on a paper as well-----##\n",
        "\n",
        "The bag tree has the lowest accuracy score in comparison with the previous random forest models, misclassifing 108 samples. "
      ]
    },
    {
      "cell_type": "code",
      "metadata": {
        "id": "71xd-5fni2J_"
      },
      "source": [
        "# import math\n",
        "# max_features = round(math.sqrt(len(features_columns)))\n",
        "# print('Sqrt of number of features:', max_features)"
      ],
      "execution_count": null,
      "outputs": []
    },
    {
      "cell_type": "code",
      "metadata": {
        "id": "xA-3ljbni2J_"
      },
      "source": [
        "# len(features_columns)*0.1"
      ],
      "execution_count": null,
      "outputs": []
    },
    {
      "cell_type": "code",
      "metadata": {
        "id": "l1h-8O_1iZ_c",
        "outputId": "42c35d74-390d-4e86-a701-01f70927678d"
      },
      "source": [
        "##------- Complete the command below by filling in the gaps '...'.-------##\n",
        "\n",
        "# Step 1: fit a a bagging model (use the best value for n_estimators)\n",
        "bag = RandomForestClassifier(n_estimators=800, max_features=1,oob_score=True,random_state=0)\n",
        "\n",
        "# Step 2: build the random forest on the train set by indicating the input data and the target variable \n",
        "bag.fit(data, target)\n",
        "\n",
        "# # Step 3: compute the accuracy and the confusion matrix\n",
        "predictions_test_bag = bag.predict(data_test) \n",
        "cm_bag = confusion_matrix(target_test, predictions_test_bag)\n",
        "disp = ConfusionMatrixDisplay(confusion_matrix=cm_bag,display_labels=bag.classes_)\n",
        "disp.plot() \n",
        "\n",
        "# # Step 4: compute the accuracy\n",
        "accuracy_bag = bag.score(data_test,target_test)\n",
        "print(accuracy_bag)"
      ],
      "execution_count": null,
      "outputs": [
        {
          "name": "stdout",
          "output_type": "stream",
          "text": [
            "0.7869822485207101\n"
          ]
        },
        {
          "data": {
            "image/png": "[encoded data removed]",
            "text/plain": [
              "<Figure size 432x288 with 2 Axes>"
            ]
          },
          "metadata": {
            "needs_background": "light"
          },
          "output_type": "display_data"
        }
      ]
    },
    {
      "cell_type": "code",
      "metadata": {
        "id": "gUscTm9Ii2KA",
        "outputId": "86f2f093-7bb0-4e3d-f1d7-8aea2f814eb0"
      },
      "source": [
        "correct_incorrect_samples(cm_bag, target_test)"
      ],
      "execution_count": null,
      "outputs": [
        {
          "name": "stdout",
          "output_type": "stream",
          "text": [
            "Correctly classified samples:  399\n",
            "Misclassified samples: 108\n"
          ]
        }
      ]
    },
    {
      "cell_type": "code",
      "metadata": {
        "id": "vdgjuAt8i2KA",
        "outputId": "080051fa-3866-4cbc-af0b-4371bd8f1d78"
      },
      "source": [
        "bag.estimator_params"
      ],
      "execution_count": null,
      "outputs": [
        {
          "data": {
            "text/plain": [
              "('criterion',\n",
              " 'max_depth',\n",
              " 'min_samples_split',\n",
              " 'min_samples_leaf',\n",
              " 'min_weight_fraction_leaf',\n",
              " 'max_features',\n",
              " 'max_leaf_nodes',\n",
              " 'min_impurity_decrease',\n",
              " 'min_impurity_split',\n",
              " 'random_state',\n",
              " 'ccp_alpha')"
            ]
          },
          "execution_count": 23,
          "metadata": {},
          "output_type": "execute_result"
        }
      ]
    },
    {
      "cell_type": "markdown",
      "metadata": {
        "id": "nFOEXs3oiZ_c"
      },
      "source": [
        "**Question 7. Fit a maximal CART tree on the training set. Compute the prediction error of this tree based on the test set. name this tree $single\\_tree$.**\n",
        "\n",
        "*Indication: to get the maximal tree, use max_depth=None (the default value).*"
      ]
    },
    {
      "cell_type": "code",
      "metadata": {
        "id": "oDUwXHgKiZ_c",
        "outputId": "f35e9795-be4b-4328-e1c2-248115239ada"
      },
      "source": [
        "##------- Complete the command below by filling in the gaps '...'.-------##\n",
        "## Help: see TP1\n",
        "\n",
        "# Step 1: Fit the maximum tree with random_state=0\n",
        "from sklearn.tree import DecisionTreeClassifier, plot_tree\n",
        "single_tree = DecisionTreeClassifier(random_state=0)\n",
        "\n",
        "# Step 2: build the tree on the train set by indicating the input data and the traget variable \n",
        "single_tree.fit(data, target)\n",
        "\n",
        "# # Step 3: compute the accuracy and the confusion matrix\n",
        "predictions_test_tree = single_tree.predict(data_test)\n",
        "cm_tree = confusion_matrix(predictions_test_tree,target_test)\n",
        "disp = ConfusionMatrixDisplay(confusion_matrix=cm_tree,display_labels=single_tree.classes_)\n",
        "disp.plot() \n",
        "\n",
        "# ste 4: compute the accuracy on the test set\n",
        "accuracy_tree = single_tree.score(data_test, target_test)\n",
        "print(accuracy_tree)"
      ],
      "execution_count": null,
      "outputs": [
        {
          "name": "stdout",
          "output_type": "stream",
          "text": [
            "0.717948717948718\n"
          ]
        },
        {
          "data": {
            "image/png": "[encoded data removed]",
            "text/plain": [
              "<Figure size 432x288 with 2 Axes>"
            ]
          },
          "metadata": {
            "needs_background": "light"
          },
          "output_type": "display_data"
        }
      ]
    },
    {
      "cell_type": "code",
      "metadata": {
        "id": "Bo4MoqZoiZ_c",
        "outputId": "ca701039-9d14-4168-aa99-41fa7347641f"
      },
      "source": [
        "## Solution\n",
        "print(single_tree.tree_.node_count);\n",
        "print(single_tree.tree_.children_left)\n",
        "print(single_tree.tree_.children_right)\n",
        "print(single_tree.tree_.impurity)\n",
        "print(single_tree.tree_.threshold)\n",
        "# Avoir toutes la meilleure coupure pour chaque variable possible ?"
      ],
      "execution_count": null,
      "outputs": [
        {
          "name": "stdout",
          "output_type": "stream",
          "text": [
            "35\n",
            "[ 1  2 -1  4  5 -1  7 -1 -1 10 11 12 -1 -1 15 16 17 -1 -1 -1 21 -1 -1 -1\n",
            " 25 26 -1 -1 29 30 -1 32 -1 -1 -1]\n",
            "[24  3 -1  9  6 -1  8 -1 -1 23 14 13 -1 -1 20 19 18 -1 -1 -1 22 -1 -1 -1\n",
            " 28 27 -1 -1 34 31 -1 33 -1 -1 -1]\n",
            "[0.8801729  0.84536862 0.         0.818      0.48611111 0.\n",
            " 0.16528926 0.         0.         0.73614958 0.6509003  0.1472\n",
            " 0.         0.         0.54475309 0.24380165 0.44444444 0.\n",
            " 0.         0.         0.24489796 0.         0.         0.\n",
            " 0.59522962 0.42       0.         0.         0.22038567 0.1207076\n",
            " 0.         0.44444444 0.         0.         0.        ]\n",
            "[ 5.49999997e-02 -1.90000005e-01 -2.00000000e+00  9.85349998e+01\n",
            " -9.50000025e-02 -2.00000000e+00  4.45000008e-01 -2.00000000e+00\n",
            " -2.00000000e+00  1.18800001e+01  2.02999997e+00  1.16800000e+03\n",
            " -2.00000000e+00 -2.00000000e+00 -6.49999995e-02  3.94999996e-01\n",
            "  1.42000002e+00 -2.00000000e+00 -2.00000000e+00 -2.00000000e+00\n",
            "  5.38000000e+02 -2.00000000e+00 -2.00000000e+00 -2.00000000e+00\n",
            "  1.40395004e+02  7.15449982e+01 -2.00000000e+00 -2.00000000e+00\n",
            "  1.96334999e+02  2.02399998e+01 -2.00000000e+00  1.27470001e+02\n",
            " -2.00000000e+00 -2.00000000e+00 -2.00000000e+00]\n"
          ]
        }
      ]
    },
    {
      "cell_type": "markdown",
      "metadata": {
        "id": "dQWhYjfSiZ_c"
      },
      "source": [
        "**Question 8. Make a comparison between the bagging model $bag$, the single and maximal tree $single\\_tree$ and the optimized random forest $best\\_rfc$. What model do you choose and why ?**"
      ]
    },
    {
      "cell_type": "markdown",
      "metadata": {
        "id": "BBc3Sp1LiZ_d"
      },
      "source": [
        "##----- You can write your answer here or on a paper as well-----##\n",
        "\n",
        "My choice is the best_rfc model because it is based on prunned parameters. Meaning that the model was optmized based on the minimization and stabilization of the OOB error and the optimal number of features used per tree in each split. Despite of the high accuracy, the single tree model does not generalise as good as a random forest model completly new data, despite of being more sensitive to noise in the dataset. \n",
        "\n",
        "what to say about the bag tree?"
      ]
    },
    {
      "cell_type": "markdown",
      "metadata": {
        "id": "RGmgmxmGiZ_d"
      },
      "source": [
        "**Question 9. Comment the plot. What does it represent ?**\n",
        "\n",
        "The code below show the permutation feature importance computed on the test set. The permutation feature importance score is independently computed $n\\_repeats$ times (using each time another permutation of each feature). The final feature importance score corresponds to the mean over the $n\\_repeats$ computations."
      ]
    },
    {
      "cell_type": "code",
      "metadata": {
        "id": "nkd4k9kuiZ_d",
        "outputId": "d598a494-7c8e-4e74-83c6-5ee8044cfd18"
      },
      "source": [
        "from sklearn.inspection import permutation_importance\n",
        "result = permutation_importance(best_rfc, data_test, target_test, n_repeats=2, random_state=42, n_jobs=2)\n",
        "\n",
        "sorted_idx = result.importances_mean.argsort()\n",
        "invert_sorted_idx=sorted_idx[::-1][:9]\n",
        "\n",
        "fig, ax = plt.subplots()\n",
        "ax.boxplot(result.importances[invert_sorted_idx].T,\n",
        "           vert=False, labels=data_test.columns[invert_sorted_idx])\n",
        "ax.set_title(\"Permutation Importances (test set)\")\n",
        "fig.tight_layout()\n",
        "plt.show()"
      ],
      "execution_count": null,
      "outputs": [
        {
          "data": {
            "image/png": "[encoded data removed]",
            "text/plain": [
              "<Figure size 432x288 with 1 Axes>"
            ]
          },
          "metadata": {
            "needs_background": "light"
          },
          "output_type": "display_data"
        }
      ]
    },
    {
      "cell_type": "markdown",
      "metadata": {
        "id": "b0YgfHXOiZ_d"
      },
      "source": [
        "## Ex 2: introduction to regression trees"
      ]
    },
    {
      "cell_type": "markdown",
      "metadata": {
        "id": "S_244ccxiZ_e"
      },
      "source": [
        "Here, we consider the dataset named *srbct_data*. It is relative to small round blue cell tumors of childhood. This set is composed of :\n",
        "\n",
        "- a response factor of length 63, called class, indicating the class of each sample (4 classes in total).\n",
        "- 2308 predictors. Each predictor represents the expression of one gene. The features are correlated. \n",
        "\n",
        "More information about the data are available on https://www.rdocumentation.org/packages/plsgenomics/versions/1.5-2/topics/SRBCT \n",
        "\n",
        "The table named *genes_name* contains the names of the genes and a description for each gene."
      ]
    },
    {
      "cell_type": "code",
      "metadata": {
        "id": "LybsRRvHiZ_e",
        "outputId": "e452754b-c4b9-44c5-d3f0-367bf6ece11d"
      },
      "source": [
        "# (1) Load the data and display the dimension and a brief statistics summary\n",
        "import pandas as pd # data analysis\n",
        "srbct_data = pd.read_csv(\"cancer_data.csv\")\n",
        "genes_name = pd.read_csv(\"cancer_data_genes_names.csv\")\n",
        "srbct_data.head()"
      ],
      "execution_count": null,
      "outputs": [
        {
          "data": {
            "text/html": [
              "<div>\n",
              "<style scoped>\n",
              "    .dataframe tbody tr th:only-of-type {\n",
              "        vertical-align: middle;\n",
              "    }\n",
              "\n",
              "    .dataframe tbody tr th {\n",
              "        vertical-align: top;\n",
              "    }\n",
              "\n",
              "    .dataframe thead th {\n",
              "        text-align: right;\n",
              "    }\n",
              "</style>\n",
              "<table border=\"1\" class=\"dataframe\">\n",
              "  <thead>\n",
              "    <tr style=\"text-align: right;\">\n",
              "      <th></th>\n",
              "      <th>class</th>\n",
              "      <th>21652</th>\n",
              "      <th>25725</th>\n",
              "      <th>26184</th>\n",
              "      <th>22260</th>\n",
              "      <th>22293</th>\n",
              "      <th>22493</th>\n",
              "      <th>23019</th>\n",
              "      <th>23132</th>\n",
              "      <th>24145</th>\n",
              "      <th>...</th>\n",
              "      <th>809513</th>\n",
              "      <th>504207</th>\n",
              "      <th>810448</th>\n",
              "      <th>810402</th>\n",
              "      <th>782503</th>\n",
              "      <th>795277</th>\n",
              "      <th>809383</th>\n",
              "      <th>809815</th>\n",
              "      <th>810483</th>\n",
              "      <th>503033</th>\n",
              "    </tr>\n",
              "  </thead>\n",
              "  <tbody>\n",
              "    <tr>\n",
              "      <th>0</th>\n",
              "      <td>EWS</td>\n",
              "      <td>3.2025</td>\n",
              "      <td>0.0681</td>\n",
              "      <td>1.0460</td>\n",
              "      <td>0.1243</td>\n",
              "      <td>0.4941</td>\n",
              "      <td>3.1207</td>\n",
              "      <td>3.7106</td>\n",
              "      <td>1.8416</td>\n",
              "      <td>1.2607</td>\n",
              "      <td>...</td>\n",
              "      <td>0.7653</td>\n",
              "      <td>1.6679</td>\n",
              "      <td>0.1493</td>\n",
              "      <td>0.6918</td>\n",
              "      <td>1.4151</td>\n",
              "      <td>0.2756</td>\n",
              "      <td>0.1521</td>\n",
              "      <td>0.3175</td>\n",
              "      <td>0.7240</td>\n",
              "      <td>0.2044</td>\n",
              "    </tr>\n",
              "    <tr>\n",
              "      <th>1</th>\n",
              "      <td>EWS</td>\n",
              "      <td>1.6547</td>\n",
              "      <td>0.0710</td>\n",
              "      <td>1.0409</td>\n",
              "      <td>0.0520</td>\n",
              "      <td>0.2045</td>\n",
              "      <td>2.1609</td>\n",
              "      <td>2.4452</td>\n",
              "      <td>1.1473</td>\n",
              "      <td>0.7371</td>\n",
              "      <td>...</td>\n",
              "      <td>1.0665</td>\n",
              "      <td>3.6014</td>\n",
              "      <td>0.3048</td>\n",
              "      <td>1.7957</td>\n",
              "      <td>1.0701</td>\n",
              "      <td>0.2688</td>\n",
              "      <td>0.1932</td>\n",
              "      <td>0.4140</td>\n",
              "      <td>1.2708</td>\n",
              "      <td>0.2990</td>\n",
              "    </tr>\n",
              "    <tr>\n",
              "      <th>2</th>\n",
              "      <td>EWS</td>\n",
              "      <td>3.2779</td>\n",
              "      <td>0.1160</td>\n",
              "      <td>0.8926</td>\n",
              "      <td>0.1014</td>\n",
              "      <td>0.2818</td>\n",
              "      <td>1.9773</td>\n",
              "      <td>3.2590</td>\n",
              "      <td>1.4106</td>\n",
              "      <td>0.9548</td>\n",
              "      <td>...</td>\n",
              "      <td>1.2674</td>\n",
              "      <td>1.5152</td>\n",
              "      <td>0.2382</td>\n",
              "      <td>0.8720</td>\n",
              "      <td>0.6819</td>\n",
              "      <td>0.3221</td>\n",
              "      <td>0.2156</td>\n",
              "      <td>0.3227</td>\n",
              "      <td>1.2142</td>\n",
              "      <td>0.2230</td>\n",
              "    </tr>\n",
              "    <tr>\n",
              "      <th>3</th>\n",
              "      <td>EWS</td>\n",
              "      <td>1.0060</td>\n",
              "      <td>0.1906</td>\n",
              "      <td>0.4302</td>\n",
              "      <td>0.1035</td>\n",
              "      <td>0.2984</td>\n",
              "      <td>1.6804</td>\n",
              "      <td>5.8901</td>\n",
              "      <td>0.2958</td>\n",
              "      <td>0.7381</td>\n",
              "      <td>...</td>\n",
              "      <td>0.4743</td>\n",
              "      <td>1.0282</td>\n",
              "      <td>0.1049</td>\n",
              "      <td>0.5632</td>\n",
              "      <td>1.2264</td>\n",
              "      <td>0.8123</td>\n",
              "      <td>0.2758</td>\n",
              "      <td>0.3016</td>\n",
              "      <td>0.7235</td>\n",
              "      <td>0.0871</td>\n",
              "    </tr>\n",
              "    <tr>\n",
              "      <th>4</th>\n",
              "      <td>EWS</td>\n",
              "      <td>2.7098</td>\n",
              "      <td>0.2367</td>\n",
              "      <td>0.3693</td>\n",
              "      <td>0.2190</td>\n",
              "      <td>0.3711</td>\n",
              "      <td>1.7800</td>\n",
              "      <td>3.2376</td>\n",
              "      <td>0.6769</td>\n",
              "      <td>0.8546</td>\n",
              "      <td>...</td>\n",
              "      <td>0.7039</td>\n",
              "      <td>0.5961</td>\n",
              "      <td>0.0707</td>\n",
              "      <td>0.4001</td>\n",
              "      <td>1.5271</td>\n",
              "      <td>0.4084</td>\n",
              "      <td>0.6412</td>\n",
              "      <td>0.3552</td>\n",
              "      <td>1.3928</td>\n",
              "      <td>0.2157</td>\n",
              "    </tr>\n",
              "  </tbody>\n",
              "</table>\n",
              "<p>5 rows × 2309 columns</p>\n",
              "</div>"
            ],
            "text/plain": [
              "  class   21652   25725   26184   22260   22293   22493   23019   23132  \\\n",
              "0   EWS  3.2025  0.0681  1.0460  0.1243  0.4941  3.1207  3.7106  1.8416   \n",
              "1   EWS  1.6547  0.0710  1.0409  0.0520  0.2045  2.1609  2.4452  1.1473   \n",
              "2   EWS  3.2779  0.1160  0.8926  0.1014  0.2818  1.9773  3.2590  1.4106   \n",
              "3   EWS  1.0060  0.1906  0.4302  0.1035  0.2984  1.6804  5.8901  0.2958   \n",
              "4   EWS  2.7098  0.2367  0.3693  0.2190  0.3711  1.7800  3.2376  0.6769   \n",
              "\n",
              "    24145  ...  809513  504207  810448  810402  782503  795277  809383  \\\n",
              "0  1.2607  ...  0.7653  1.6679  0.1493  0.6918  1.4151  0.2756  0.1521   \n",
              "1  0.7371  ...  1.0665  3.6014  0.3048  1.7957  1.0701  0.2688  0.1932   \n",
              "2  0.9548  ...  1.2674  1.5152  0.2382  0.8720  0.6819  0.3221  0.2156   \n",
              "3  0.7381  ...  0.4743  1.0282  0.1049  0.5632  1.2264  0.8123  0.2758   \n",
              "4  0.8546  ...  0.7039  0.5961  0.0707  0.4001  1.5271  0.4084  0.6412   \n",
              "\n",
              "   809815  810483  503033  \n",
              "0  0.3175  0.7240  0.2044  \n",
              "1  0.4140  1.2708  0.2990  \n",
              "2  0.3227  1.2142  0.2230  \n",
              "3  0.3016  0.7235  0.0871  \n",
              "4  0.3552  1.3928  0.2157  \n",
              "\n",
              "[5 rows x 2309 columns]"
            ]
          },
          "execution_count": 27,
          "metadata": {},
          "output_type": "execute_result"
        }
      ]
    },
    {
      "cell_type": "code",
      "metadata": {
        "id": "paUFnclKi2KB",
        "outputId": "91d7ef0f-076c-483c-eaf8-ca21fb45c776"
      },
      "source": [
        "srbct_data.describe()"
      ],
      "execution_count": null,
      "outputs": [
        {
          "data": {
            "text/html": [
              "<div>\n",
              "<style scoped>\n",
              "    .dataframe tbody tr th:only-of-type {\n",
              "        vertical-align: middle;\n",
              "    }\n",
              "\n",
              "    .dataframe tbody tr th {\n",
              "        vertical-align: top;\n",
              "    }\n",
              "\n",
              "    .dataframe thead th {\n",
              "        text-align: right;\n",
              "    }\n",
              "</style>\n",
              "<table border=\"1\" class=\"dataframe\">\n",
              "  <thead>\n",
              "    <tr style=\"text-align: right;\">\n",
              "      <th></th>\n",
              "      <th>21652</th>\n",
              "      <th>25725</th>\n",
              "      <th>26184</th>\n",
              "      <th>22260</th>\n",
              "      <th>22293</th>\n",
              "      <th>22493</th>\n",
              "      <th>23019</th>\n",
              "      <th>23132</th>\n",
              "      <th>24145</th>\n",
              "      <th>25584</th>\n",
              "      <th>...</th>\n",
              "      <th>809513</th>\n",
              "      <th>504207</th>\n",
              "      <th>810448</th>\n",
              "      <th>810402</th>\n",
              "      <th>782503</th>\n",
              "      <th>795277</th>\n",
              "      <th>809383</th>\n",
              "      <th>809815</th>\n",
              "      <th>810483</th>\n",
              "      <th>503033</th>\n",
              "    </tr>\n",
              "  </thead>\n",
              "  <tbody>\n",
              "    <tr>\n",
              "      <th>count</th>\n",
              "      <td>63.000000</td>\n",
              "      <td>63.000000</td>\n",
              "      <td>63.000000</td>\n",
              "      <td>63.000000</td>\n",
              "      <td>63.000000</td>\n",
              "      <td>63.000000</td>\n",
              "      <td>63.000000</td>\n",
              "      <td>63.000000</td>\n",
              "      <td>63.00000</td>\n",
              "      <td>63.000000</td>\n",
              "      <td>...</td>\n",
              "      <td>63.000000</td>\n",
              "      <td>63.000000</td>\n",
              "      <td>63.000000</td>\n",
              "      <td>63.000000</td>\n",
              "      <td>63.000000</td>\n",
              "      <td>63.000000</td>\n",
              "      <td>63.000000</td>\n",
              "      <td>63.000000</td>\n",
              "      <td>63.000000</td>\n",
              "      <td>63.000000</td>\n",
              "    </tr>\n",
              "    <tr>\n",
              "      <th>mean</th>\n",
              "      <td>1.499917</td>\n",
              "      <td>0.285963</td>\n",
              "      <td>0.973868</td>\n",
              "      <td>0.624049</td>\n",
              "      <td>0.301108</td>\n",
              "      <td>2.105405</td>\n",
              "      <td>5.077244</td>\n",
              "      <td>1.230895</td>\n",
              "      <td>1.29544</td>\n",
              "      <td>1.580010</td>\n",
              "      <td>...</td>\n",
              "      <td>0.772835</td>\n",
              "      <td>0.779162</td>\n",
              "      <td>0.324937</td>\n",
              "      <td>0.601719</td>\n",
              "      <td>0.903944</td>\n",
              "      <td>0.216938</td>\n",
              "      <td>0.241125</td>\n",
              "      <td>0.404775</td>\n",
              "      <td>0.692781</td>\n",
              "      <td>0.252010</td>\n",
              "    </tr>\n",
              "    <tr>\n",
              "      <th>std</th>\n",
              "      <td>0.894507</td>\n",
              "      <td>0.363846</td>\n",
              "      <td>0.647685</td>\n",
              "      <td>0.590634</td>\n",
              "      <td>0.170785</td>\n",
              "      <td>1.733135</td>\n",
              "      <td>2.296763</td>\n",
              "      <td>0.577145</td>\n",
              "      <td>0.61920</td>\n",
              "      <td>0.688737</td>\n",
              "      <td>...</td>\n",
              "      <td>0.430413</td>\n",
              "      <td>0.537537</td>\n",
              "      <td>0.241680</td>\n",
              "      <td>0.352051</td>\n",
              "      <td>0.669828</td>\n",
              "      <td>0.163477</td>\n",
              "      <td>0.193114</td>\n",
              "      <td>0.258727</td>\n",
              "      <td>0.349197</td>\n",
              "      <td>0.166489</td>\n",
              "    </tr>\n",
              "    <tr>\n",
              "      <th>min</th>\n",
              "      <td>0.068300</td>\n",
              "      <td>0.049400</td>\n",
              "      <td>0.157000</td>\n",
              "      <td>0.052000</td>\n",
              "      <td>0.040100</td>\n",
              "      <td>0.326900</td>\n",
              "      <td>2.172900</td>\n",
              "      <td>0.295800</td>\n",
              "      <td>0.52770</td>\n",
              "      <td>0.207600</td>\n",
              "      <td>...</td>\n",
              "      <td>0.102600</td>\n",
              "      <td>0.107900</td>\n",
              "      <td>0.058000</td>\n",
              "      <td>0.121600</td>\n",
              "      <td>0.052300</td>\n",
              "      <td>0.008200</td>\n",
              "      <td>0.004100</td>\n",
              "      <td>0.043000</td>\n",
              "      <td>0.067800</td>\n",
              "      <td>0.044600</td>\n",
              "    </tr>\n",
              "    <tr>\n",
              "      <th>25%</th>\n",
              "      <td>0.921900</td>\n",
              "      <td>0.088300</td>\n",
              "      <td>0.531350</td>\n",
              "      <td>0.119850</td>\n",
              "      <td>0.155650</td>\n",
              "      <td>1.091300</td>\n",
              "      <td>3.627900</td>\n",
              "      <td>0.725000</td>\n",
              "      <td>0.88420</td>\n",
              "      <td>1.053750</td>\n",
              "      <td>...</td>\n",
              "      <td>0.437450</td>\n",
              "      <td>0.445050</td>\n",
              "      <td>0.149950</td>\n",
              "      <td>0.359600</td>\n",
              "      <td>0.364850</td>\n",
              "      <td>0.090100</td>\n",
              "      <td>0.116650</td>\n",
              "      <td>0.249500</td>\n",
              "      <td>0.443950</td>\n",
              "      <td>0.136300</td>\n",
              "    </tr>\n",
              "    <tr>\n",
              "      <th>50%</th>\n",
              "      <td>1.276600</td>\n",
              "      <td>0.142300</td>\n",
              "      <td>0.892600</td>\n",
              "      <td>0.279600</td>\n",
              "      <td>0.297700</td>\n",
              "      <td>1.719900</td>\n",
              "      <td>4.527500</td>\n",
              "      <td>1.147200</td>\n",
              "      <td>1.14290</td>\n",
              "      <td>1.471900</td>\n",
              "      <td>...</td>\n",
              "      <td>0.747600</td>\n",
              "      <td>0.664900</td>\n",
              "      <td>0.249700</td>\n",
              "      <td>0.517400</td>\n",
              "      <td>0.736000</td>\n",
              "      <td>0.193700</td>\n",
              "      <td>0.181000</td>\n",
              "      <td>0.327600</td>\n",
              "      <td>0.651200</td>\n",
              "      <td>0.223000</td>\n",
              "    </tr>\n",
              "    <tr>\n",
              "      <th>75%</th>\n",
              "      <td>2.086300</td>\n",
              "      <td>0.267950</td>\n",
              "      <td>1.287950</td>\n",
              "      <td>1.265600</td>\n",
              "      <td>0.413800</td>\n",
              "      <td>2.570500</td>\n",
              "      <td>5.999400</td>\n",
              "      <td>1.549450</td>\n",
              "      <td>1.57720</td>\n",
              "      <td>2.000500</td>\n",
              "      <td>...</td>\n",
              "      <td>0.999600</td>\n",
              "      <td>0.973450</td>\n",
              "      <td>0.443250</td>\n",
              "      <td>0.700000</td>\n",
              "      <td>1.369000</td>\n",
              "      <td>0.301200</td>\n",
              "      <td>0.325000</td>\n",
              "      <td>0.420450</td>\n",
              "      <td>0.836950</td>\n",
              "      <td>0.298250</td>\n",
              "    </tr>\n",
              "    <tr>\n",
              "      <th>max</th>\n",
              "      <td>3.616500</td>\n",
              "      <td>1.924700</td>\n",
              "      <td>3.192300</td>\n",
              "      <td>1.792800</td>\n",
              "      <td>0.767400</td>\n",
              "      <td>11.620000</td>\n",
              "      <td>17.533000</td>\n",
              "      <td>2.602900</td>\n",
              "      <td>3.51070</td>\n",
              "      <td>3.072500</td>\n",
              "      <td>...</td>\n",
              "      <td>1.923500</td>\n",
              "      <td>3.601400</td>\n",
              "      <td>1.233900</td>\n",
              "      <td>1.800800</td>\n",
              "      <td>2.829700</td>\n",
              "      <td>0.812300</td>\n",
              "      <td>0.857900</td>\n",
              "      <td>1.562000</td>\n",
              "      <td>1.769100</td>\n",
              "      <td>1.042000</td>\n",
              "    </tr>\n",
              "  </tbody>\n",
              "</table>\n",
              "<p>8 rows × 2308 columns</p>\n",
              "</div>"
            ],
            "text/plain": [
              "           21652      25725      26184      22260      22293      22493  \\\n",
              "count  63.000000  63.000000  63.000000  63.000000  63.000000  63.000000   \n",
              "mean    1.499917   0.285963   0.973868   0.624049   0.301108   2.105405   \n",
              "std     0.894507   0.363846   0.647685   0.590634   0.170785   1.733135   \n",
              "min     0.068300   0.049400   0.157000   0.052000   0.040100   0.326900   \n",
              "25%     0.921900   0.088300   0.531350   0.119850   0.155650   1.091300   \n",
              "50%     1.276600   0.142300   0.892600   0.279600   0.297700   1.719900   \n",
              "75%     2.086300   0.267950   1.287950   1.265600   0.413800   2.570500   \n",
              "max     3.616500   1.924700   3.192300   1.792800   0.767400  11.620000   \n",
              "\n",
              "           23019      23132     24145      25584  ...     809513     504207  \\\n",
              "count  63.000000  63.000000  63.00000  63.000000  ...  63.000000  63.000000   \n",
              "mean    5.077244   1.230895   1.29544   1.580010  ...   0.772835   0.779162   \n",
              "std     2.296763   0.577145   0.61920   0.688737  ...   0.430413   0.537537   \n",
              "min     2.172900   0.295800   0.52770   0.207600  ...   0.102600   0.107900   \n",
              "25%     3.627900   0.725000   0.88420   1.053750  ...   0.437450   0.445050   \n",
              "50%     4.527500   1.147200   1.14290   1.471900  ...   0.747600   0.664900   \n",
              "75%     5.999400   1.549450   1.57720   2.000500  ...   0.999600   0.973450   \n",
              "max    17.533000   2.602900   3.51070   3.072500  ...   1.923500   3.601400   \n",
              "\n",
              "          810448     810402     782503     795277     809383     809815  \\\n",
              "count  63.000000  63.000000  63.000000  63.000000  63.000000  63.000000   \n",
              "mean    0.324937   0.601719   0.903944   0.216938   0.241125   0.404775   \n",
              "std     0.241680   0.352051   0.669828   0.163477   0.193114   0.258727   \n",
              "min     0.058000   0.121600   0.052300   0.008200   0.004100   0.043000   \n",
              "25%     0.149950   0.359600   0.364850   0.090100   0.116650   0.249500   \n",
              "50%     0.249700   0.517400   0.736000   0.193700   0.181000   0.327600   \n",
              "75%     0.443250   0.700000   1.369000   0.301200   0.325000   0.420450   \n",
              "max     1.233900   1.800800   2.829700   0.812300   0.857900   1.562000   \n",
              "\n",
              "          810483     503033  \n",
              "count  63.000000  63.000000  \n",
              "mean    0.692781   0.252010  \n",
              "std     0.349197   0.166489  \n",
              "min     0.067800   0.044600  \n",
              "25%     0.443950   0.136300  \n",
              "50%     0.651200   0.223000  \n",
              "75%     0.836950   0.298250  \n",
              "max     1.769100   1.042000  \n",
              "\n",
              "[8 rows x 2308 columns]"
            ]
          },
          "execution_count": 28,
          "metadata": {},
          "output_type": "execute_result"
        }
      ]
    },
    {
      "cell_type": "code",
      "metadata": {
        "id": "GH070h3uiZ_e",
        "outputId": "9ef70734-a29d-4eb2-a22d-b1a337540dcc"
      },
      "source": [
        "genes_name.head()"
      ],
      "execution_count": null,
      "outputs": [
        {
          "data": {
            "text/html": [
              "<div>\n",
              "<style scoped>\n",
              "    .dataframe tbody tr th:only-of-type {\n",
              "        vertical-align: middle;\n",
              "    }\n",
              "\n",
              "    .dataframe tbody tr th {\n",
              "        vertical-align: top;\n",
              "    }\n",
              "\n",
              "    .dataframe thead th {\n",
              "        text-align: right;\n",
              "    }\n",
              "</style>\n",
              "<table border=\"1\" class=\"dataframe\">\n",
              "  <thead>\n",
              "    <tr style=\"text-align: right;\">\n",
              "      <th></th>\n",
              "      <th>Image.Id.</th>\n",
              "      <th>Gene.Description</th>\n",
              "    </tr>\n",
              "  </thead>\n",
              "  <tbody>\n",
              "    <tr>\n",
              "      <th>0</th>\n",
              "      <td>21652.0</td>\n",
              "      <td>catenin (cadherin-associated protein), alpha 1...</td>\n",
              "    </tr>\n",
              "    <tr>\n",
              "      <th>1</th>\n",
              "      <td>25725.0</td>\n",
              "      <td>farnesyl-diphosphate farnesyltransferase 1</td>\n",
              "    </tr>\n",
              "    <tr>\n",
              "      <th>2</th>\n",
              "      <td>26184.0</td>\n",
              "      <td>phosphofructokinase, platelet</td>\n",
              "    </tr>\n",
              "    <tr>\n",
              "      <th>3</th>\n",
              "      <td>22260.0</td>\n",
              "      <td>cytochrome c-1</td>\n",
              "    </tr>\n",
              "    <tr>\n",
              "      <th>4</th>\n",
              "      <td>22293.0</td>\n",
              "      <td>uroporphyrinogen III synthase (congenital eryt...</td>\n",
              "    </tr>\n",
              "  </tbody>\n",
              "</table>\n",
              "</div>"
            ],
            "text/plain": [
              "   Image.Id.                                   Gene.Description\n",
              "0    21652.0  catenin (cadherin-associated protein), alpha 1...\n",
              "1    25725.0         farnesyl-diphosphate farnesyltransferase 1\n",
              "2    26184.0                      phosphofructokinase, platelet\n",
              "3    22260.0                                     cytochrome c-1\n",
              "4    22293.0  uroporphyrinogen III synthase (congenital eryt..."
            ]
          },
          "execution_count": 29,
          "metadata": {},
          "output_type": "execute_result"
        }
      ]
    },
    {
      "cell_type": "code",
      "metadata": {
        "id": "oPoTl5vKiZ_e"
      },
      "source": [
        "# (2) Select the variables that we be used \n",
        "target_name = \"class\" # The response variable that we will consider\n",
        "features_names = list(srbct_data)\n",
        "features_names.remove('class') # The predictors/features used to predict the target\n",
        "# print(target_column)\n",
        "# print(features_columns)"
      ],
      "execution_count": null,
      "outputs": []
    },
    {
      "cell_type": "code",
      "metadata": {
        "id": "6ErZnh8si2KB"
      },
      "source": [
        "from sklearn.preprocessing import OrdinalEncoder\n",
        "ord_enc = OrdinalEncoder() \n",
        "y_encoded = ord_enc.fit_transform(srbct_data[[target_name]])\n"
      ],
      "execution_count": null,
      "outputs": []
    },
    {
      "cell_type": "code",
      "metadata": {
        "id": "sxj6LAkkiZ_e"
      },
      "source": [
        "# (3) Split the dataset into train and test dataset\n",
        "from sklearn.model_selection import train_test_split\n",
        "X, y = srbct_data[features_names], y_encoded.ravel()\n",
        "X_train, X_test, y_train, y_test = train_test_split(X, y, random_state=42,test_size=0.25)"
      ],
      "execution_count": null,
      "outputs": []
    },
    {
      "cell_type": "markdown",
      "metadata": {
        "id": "ITzeq4N1iZ_e"
      },
      "source": [
        "**Questions:**\n",
        " - 1) Build a random forest on this dataset using the default values for the RF parameters and all the features.\n",
        " - 2) Calibrate the two parameters ($n\\_estimators$ and $max\\_features$) using an approach based on either the oob error or cross validation.\n",
        " - 3) Build a second random forest using the calibrated values for the two parameters.\n",
        " - 4) Because there are lots of features and they are correlated, use the variable importance score to select a small subset of variables. Justify your choice.\n",
        " - 5) Build a third random forest based only the selected subset of features.\n",
        " - 6) Compare all these models with a logistic regression."
      ]
    },
    {
      "cell_type": "markdown",
      "metadata": {
        "id": "7tqEbI-hi2KB"
      },
      "source": [
        "**Parameters tuning**"
      ]
    },
    {
      "cell_type": "code",
      "metadata": {
        "id": "z390EaxmiZ_e",
        "outputId": "0d45b6a9-7359-492a-cd26-c69422c2eb02"
      },
      "source": [
        "##---- Write your answer ----##\n",
        "# Classifier to tune\n",
        "crf = RandomForestClassifier(random_state=42, oob_score=True)\n",
        "\n",
        "# Cross validation with Grid Search\n",
        "parameters = {'n_estimators': np.arange(50,500,50),\n",
        "              'max_features': np.arange(0.1,1,0.1)}\n",
        "\n",
        "grid_search = GridSearchCV(estimator=crf, cv=3, param_grid=parameters, n_jobs=-1)\n",
        "grid_search.fit(X_train, y_train)\n",
        "\n",
        "# Optimal params\n",
        "print('Optimal params', grid_search.best_params_)\n",
        "print('Best score', grid_search.best_score_ )\n",
        "# print('OOB score', grid_search.oob_score_)"
      ],
      "execution_count": null,
      "outputs": [
        {
          "name": "stdout",
          "output_type": "stream",
          "text": [
            "Optimal params {'max_features': 0.2, 'n_estimators': 50}\n",
            "Best score 1.0\n"
          ]
        }
      ]
    },
    {
      "cell_type": "code",
      "metadata": {
        "id": "1xiTtxJvi2KB",
        "outputId": "45b18a01-987f-4da0-c291-5570b762895f"
      },
      "source": [
        "tested_params = pd.DataFrame(grid_search.cv_results_)\n",
        "tested_params.head(3)"
      ],
      "execution_count": null,
      "outputs": [
        {
          "data": {
            "text/html": [
              "<div>\n",
              "<style scoped>\n",
              "    .dataframe tbody tr th:only-of-type {\n",
              "        vertical-align: middle;\n",
              "    }\n",
              "\n",
              "    .dataframe tbody tr th {\n",
              "        vertical-align: top;\n",
              "    }\n",
              "\n",
              "    .dataframe thead th {\n",
              "        text-align: right;\n",
              "    }\n",
              "</style>\n",
              "<table border=\"1\" class=\"dataframe\">\n",
              "  <thead>\n",
              "    <tr style=\"text-align: right;\">\n",
              "      <th></th>\n",
              "      <th>mean_fit_time</th>\n",
              "      <th>std_fit_time</th>\n",
              "      <th>mean_score_time</th>\n",
              "      <th>std_score_time</th>\n",
              "      <th>param_max_features</th>\n",
              "      <th>param_n_estimators</th>\n",
              "      <th>params</th>\n",
              "      <th>split0_test_score</th>\n",
              "      <th>split1_test_score</th>\n",
              "      <th>split2_test_score</th>\n",
              "      <th>mean_test_score</th>\n",
              "      <th>std_test_score</th>\n",
              "      <th>rank_test_score</th>\n",
              "    </tr>\n",
              "  </thead>\n",
              "  <tbody>\n",
              "    <tr>\n",
              "      <th>0</th>\n",
              "      <td>0.172525</td>\n",
              "      <td>0.007307</td>\n",
              "      <td>0.030914</td>\n",
              "      <td>0.001807</td>\n",
              "      <td>0.1</td>\n",
              "      <td>50</td>\n",
              "      <td>{'max_features': 0.1, 'n_estimators': 50}</td>\n",
              "      <td>1.0</td>\n",
              "      <td>0.9375</td>\n",
              "      <td>1.0</td>\n",
              "      <td>0.979167</td>\n",
              "      <td>0.029463</td>\n",
              "      <td>27</td>\n",
              "    </tr>\n",
              "    <tr>\n",
              "      <th>1</th>\n",
              "      <td>0.320048</td>\n",
              "      <td>0.005027</td>\n",
              "      <td>0.035319</td>\n",
              "      <td>0.001731</td>\n",
              "      <td>0.1</td>\n",
              "      <td>100</td>\n",
              "      <td>{'max_features': 0.1, 'n_estimators': 100}</td>\n",
              "      <td>1.0</td>\n",
              "      <td>0.9375</td>\n",
              "      <td>1.0</td>\n",
              "      <td>0.979167</td>\n",
              "      <td>0.029463</td>\n",
              "      <td>27</td>\n",
              "    </tr>\n",
              "    <tr>\n",
              "      <th>2</th>\n",
              "      <td>0.470637</td>\n",
              "      <td>0.004278</td>\n",
              "      <td>0.041086</td>\n",
              "      <td>0.007428</td>\n",
              "      <td>0.1</td>\n",
              "      <td>150</td>\n",
              "      <td>{'max_features': 0.1, 'n_estimators': 150}</td>\n",
              "      <td>1.0</td>\n",
              "      <td>0.9375</td>\n",
              "      <td>1.0</td>\n",
              "      <td>0.979167</td>\n",
              "      <td>0.029463</td>\n",
              "      <td>27</td>\n",
              "    </tr>\n",
              "  </tbody>\n",
              "</table>\n",
              "</div>"
            ],
            "text/plain": [
              "   mean_fit_time  std_fit_time  mean_score_time  std_score_time  \\\n",
              "0       0.172525      0.007307         0.030914        0.001807   \n",
              "1       0.320048      0.005027         0.035319        0.001731   \n",
              "2       0.470637      0.004278         0.041086        0.007428   \n",
              "\n",
              "  param_max_features param_n_estimators  \\\n",
              "0                0.1                 50   \n",
              "1                0.1                100   \n",
              "2                0.1                150   \n",
              "\n",
              "                                       params  split0_test_score  \\\n",
              "0   {'max_features': 0.1, 'n_estimators': 50}                1.0   \n",
              "1  {'max_features': 0.1, 'n_estimators': 100}                1.0   \n",
              "2  {'max_features': 0.1, 'n_estimators': 150}                1.0   \n",
              "\n",
              "   split1_test_score  split2_test_score  mean_test_score  std_test_score  \\\n",
              "0             0.9375                1.0         0.979167        0.029463   \n",
              "1             0.9375                1.0         0.979167        0.029463   \n",
              "2             0.9375                1.0         0.979167        0.029463   \n",
              "\n",
              "   rank_test_score  \n",
              "0               27  \n",
              "1               27  \n",
              "2               27  "
            ]
          },
          "execution_count": 222,
          "metadata": {},
          "output_type": "execute_result"
        }
      ]
    },
    {
      "cell_type": "code",
      "metadata": {
        "id": "oYyFA5yhi2KC",
        "outputId": "707c3de4-55e1-47d4-95f4-0463307a6a92"
      },
      "source": [
        "best_n_estimator = grid_search.best_params_['n_estimators']\n",
        "best_max_features = grid_search.best_params_['max_features']\n",
        "\n",
        "crf_optim = RandomForestClassifier(n_estimators=500, max_features=best_max_features, random_state=42, oob_score=True)\n",
        "crf_optim.fit(X_train, y_train)\n",
        "\n",
        "y_pred = crf_optim.predict(X_test)\n",
        "\n",
        "# Confusion matrix\n",
        "cm_optim = confusion_matrix(y_pred,y_test)\n",
        "disp = ConfusionMatrixDisplay(confusion_matrix=cm_optim,display_labels=crf_optim.classes_)\n",
        "disp.plot()\n",
        "\n",
        "# Accuracy score\n",
        "print('Acuracy score', crf_optim.score(X_test, y_test))\n",
        "print('OOB score', crf_optim.oob_score_)"
      ],
      "execution_count": null,
      "outputs": [
        {
          "name": "stdout",
          "output_type": "stream",
          "text": [
            "Acuracy score 1.0\n",
            "OOB score 0.9787234042553191\n"
          ]
        },
        {
          "data": {
            "image/png": "[encoded data removed]",
            "text/plain": [
              "<Figure size 432x288 with 2 Axes>"
            ]
          },
          "metadata": {
            "needs_background": "light"
          },
          "output_type": "display_data"
        }
      ]
    },
    {
      "cell_type": "markdown",
      "metadata": {
        "id": "Su79RLiGi2KC"
      },
      "source": [
        "**Feature Importance**"
      ]
    },
    {
      "cell_type": "code",
      "metadata": {
        "id": "qBuYMNxji2KC"
      },
      "source": [
        "# Taking too much time to run\n",
        "\n",
        "# result = permutation_importance(crf_optim, X_test, y_test, n_repeats=2, random_state=0, n_jobs=-1)\n",
        "# sorted_idx = result.importances_mean.argsort()\n",
        "\n",
        "# invert_sorted_idx=sorted_idx[::-1][:9]\n",
        "\n",
        "# fig, ax = plt.subplots()\n",
        "# ax.boxplot(result.importances[invert_sorted_idx].T,\n",
        "#            vert=False, labels=data_test.columns[invert_sorted_idx])\n",
        "# ax.set_title(\"Permutation Importances (test set)\")\n",
        "# fig.tight_layout()\n",
        "# plt.show()"
      ],
      "execution_count": null,
      "outputs": []
    },
    {
      "cell_type": "code",
      "metadata": {
        "id": "xVMkRM_ui2KC",
        "outputId": "a88c3e94-db0b-4d1b-ec61-c575e21c0373"
      },
      "source": [
        "feature_imp = pd.DataFrame(data= {'importance': crf_optim.feature_importances_,\n",
        "                                  'name':srbct_data.columns[1:]}).sort_values(by=['importance'], ascending=False)\n",
        "feature_imp.set_index('name',inplace=True)\n",
        "\n",
        "# select the features with higher importance based on the model attribute feature_importance_\n",
        "update_features_names= list(feature_imp[feature_imp.importance > 0.03].index)\n",
        "\n",
        "viz = feature_imp[:len(update_features_names)]\n",
        "viz.plot.barh().invert_yaxis()\n",
        "plt.xlabel('Importance Score')\n",
        "plt.ylabel('Features')\n",
        "plt.title(\"10th Most Important Features\")\n",
        "plt.legend()\n",
        "plt.show()"
      ],
      "execution_count": null,
      "outputs": [
        {
          "data": {
            "image/png": "[encoded data removed]",
            "text/plain": [
              "<Figure size 432x288 with 1 Axes>"
            ]
          },
          "metadata": {
            "needs_background": "light"
          },
          "output_type": "display_data"
        }
      ]
    },
    {
      "cell_type": "code",
      "metadata": {
        "id": "9QcEl-Lfi2KC"
      },
      "source": [
        "# Random Forest based on the selection of features \n",
        "X = srbct_data[update_features_names]\n",
        "X_train_2, X_test_2, y_train_2, y_test_2 = train_test_split(X, y, random_state=42,test_size=0.25)"
      ],
      "execution_count": null,
      "outputs": []
    },
    {
      "cell_type": "code",
      "metadata": {
        "id": "IABExh4ri2KC",
        "outputId": "703ab544-e2a6-4cb0-fbe1-715e5a00b78d"
      },
      "source": [
        "crf_optim_feat = RandomForestClassifier(n_estimators=500, max_features=best_max_features, random_state=42, oob_score=True)\n",
        "crf_optim_feat.fit(X_train_2, y_train_2)\n",
        "\n",
        "y_pred_2 = crf_optim_feat.predict(X_test_2)\n",
        "\n",
        "# # Confusion matrix\n",
        "cm_feat = confusion_matrix(y_pred_2,y_test_2)\n",
        "disp = ConfusionMatrixDisplay(confusion_matrix=cm_feat,display_labels=crf_optim_feat.classes_)\n",
        "disp.plot()\n",
        "\n",
        "# Accuracy score\n",
        "crf_optim_acc = crf_optim_feat.score(X_test_2, y_test_2)\n",
        "print('Acuracy score', crf_optim_acc)\n",
        "print('OOB score', crf_optim_feat.oob_score_)"
      ],
      "execution_count": null,
      "outputs": [
        {
          "name": "stdout",
          "output_type": "stream",
          "text": [
            "Acuracy score 0.9375\n",
            "OOB score 0.9361702127659575\n"
          ]
        },
        {
          "data": {
            "image/png": "[encoded data removed]",
            "text/plain": [
              "<Figure size 432x288 with 2 Axes>"
            ]
          },
          "metadata": {
            "needs_background": "light"
          },
          "output_type": "display_data"
        }
      ]
    },
    {
      "cell_type": "markdown",
      "metadata": {
        "id": "2i9lYVb_i2KC"
      },
      "source": [
        "**Logistic Regression**"
      ]
    },
    {
      "cell_type": "code",
      "metadata": {
        "id": "Vnq7qH87i2KC",
        "outputId": "bc0e0896-6aa7-4c20-9a0b-b5037a66f893"
      },
      "source": [
        "from sklearn.linear_model import LogisticRegression\n",
        "\n",
        "lr = LogisticRegression(random_state=42).fit(X_train_2, y_train_2)\n",
        "y_pred_lr = lr.predict(X_test_2)\n",
        "\n",
        "# Accuracy score\n",
        "lr_acc = lr.score(X_test_2, y_test_2)\n",
        "print('Logistic Regression Accuracy score: ', lr_acc)\n"
      ],
      "execution_count": null,
      "outputs": [
        {
          "name": "stdout",
          "output_type": "stream",
          "text": [
            "Logistic Regression Accuracy score:  0.875\n"
          ]
        }
      ]
    },
    {
      "cell_type": "code",
      "metadata": {
        "id": "xfFa7Ug_i2KC",
        "outputId": "08797417-e502-4f74-81c3-952a3ffc7c2a"
      },
      "source": [
        "# Plotting the model \n",
        "X_test_stand = (X_test_2-X_test_2.mean(axis=0))/X_test_2.std(axis=0) #standardise the features\n",
        "X_test_stand['class']=y_pred_lr\n",
        "\n",
        "# Range of X\n",
        "min_x = np.sort(X_test_stand.min())[0]\n",
        "max_x = np.sort(X_test_stand.max())[-1]\n",
        "\n",
        "X_test_stand.head()"
      ],
      "execution_count": null,
      "outputs": [
        {
          "data": {
            "text/html": [
              "<div>\n",
              "<style scoped>\n",
              "    .dataframe tbody tr th:only-of-type {\n",
              "        vertical-align: middle;\n",
              "    }\n",
              "\n",
              "    .dataframe tbody tr th {\n",
              "        vertical-align: top;\n",
              "    }\n",
              "\n",
              "    .dataframe thead th {\n",
              "        text-align: right;\n",
              "    }\n",
              "</style>\n",
              "<table border=\"1\" class=\"dataframe\">\n",
              "  <thead>\n",
              "    <tr style=\"text-align: right;\">\n",
              "      <th></th>\n",
              "      <th>1435862</th>\n",
              "      <th>295985</th>\n",
              "      <th>770394</th>\n",
              "      <th>796258</th>\n",
              "      <th>814260</th>\n",
              "      <th>769716</th>\n",
              "      <th>866702</th>\n",
              "      <th>class</th>\n",
              "    </tr>\n",
              "  </thead>\n",
              "  <tbody>\n",
              "    <tr>\n",
              "      <th>61</th>\n",
              "      <td>0.192115</td>\n",
              "      <td>1.475286</td>\n",
              "      <td>-0.486508</td>\n",
              "      <td>0.078309</td>\n",
              "      <td>-0.547832</td>\n",
              "      <td>0.245946</td>\n",
              "      <td>-0.475810</td>\n",
              "      <td>3.0</td>\n",
              "    </tr>\n",
              "    <tr>\n",
              "      <th>57</th>\n",
              "      <td>-1.044654</td>\n",
              "      <td>-0.362486</td>\n",
              "      <td>-0.139421</td>\n",
              "      <td>-0.261476</td>\n",
              "      <td>-0.795568</td>\n",
              "      <td>0.246666</td>\n",
              "      <td>-0.635032</td>\n",
              "      <td>0.0</td>\n",
              "    </tr>\n",
              "    <tr>\n",
              "      <th>0</th>\n",
              "      <td>0.733217</td>\n",
              "      <td>-0.736340</td>\n",
              "      <td>1.412819</td>\n",
              "      <td>-0.664806</td>\n",
              "      <td>1.693507</td>\n",
              "      <td>-0.293119</td>\n",
              "      <td>1.709793</td>\n",
              "      <td>1.0</td>\n",
              "    </tr>\n",
              "    <tr>\n",
              "      <th>43</th>\n",
              "      <td>-0.173213</td>\n",
              "      <td>1.767637</td>\n",
              "      <td>-0.803555</td>\n",
              "      <td>0.575276</td>\n",
              "      <td>-0.815442</td>\n",
              "      <td>-0.177528</td>\n",
              "      <td>-0.630341</td>\n",
              "      <td>3.0</td>\n",
              "    </tr>\n",
              "    <tr>\n",
              "      <th>5</th>\n",
              "      <td>1.289672</td>\n",
              "      <td>-0.761223</td>\n",
              "      <td>1.046671</td>\n",
              "      <td>-0.478845</td>\n",
              "      <td>1.676923</td>\n",
              "      <td>-0.478568</td>\n",
              "      <td>1.386565</td>\n",
              "      <td>1.0</td>\n",
              "    </tr>\n",
              "  </tbody>\n",
              "</table>\n",
              "</div>"
            ],
            "text/plain": [
              "     1435862    295985    770394    796258    814260    769716    866702  \\\n",
              "61  0.192115  1.475286 -0.486508  0.078309 -0.547832  0.245946 -0.475810   \n",
              "57 -1.044654 -0.362486 -0.139421 -0.261476 -0.795568  0.246666 -0.635032   \n",
              "0   0.733217 -0.736340  1.412819 -0.664806  1.693507 -0.293119  1.709793   \n",
              "43 -0.173213  1.767637 -0.803555  0.575276 -0.815442 -0.177528 -0.630341   \n",
              "5   1.289672 -0.761223  1.046671 -0.478845  1.676923 -0.478568  1.386565   \n",
              "\n",
              "    class  \n",
              "61    3.0  \n",
              "57    0.0  \n",
              "0     1.0  \n",
              "43    3.0  \n",
              "5     1.0  "
            ]
          },
          "execution_count": 281,
          "metadata": {},
          "output_type": "execute_result"
        }
      ]
    },
    {
      "cell_type": "code",
      "metadata": {
        "id": "QR2rpF0ri2KC",
        "outputId": "52f46fa2-2559-485f-94b8-c5f0555dd1ac"
      },
      "source": [
        "fig, (ax1, ax2) = plt.subplots(ncols=2, figsize=(15, 5))\n",
        "x = np.linspace(min_x,max_x,16)\n",
        "\n",
        "# Regression Trees\n",
        "ax1.scatter(x, np.sort(y_test_2), c='orange', label='y_test')\n",
        "ax1.plot(x, np.sort(y_pred_2), label='y pred')\n",
        "ax1.set_xlabel('x')\n",
        "ax1.set_ylabel('y')\n",
        "ax1.set_title(f'Regression Trees\\n Accuracy: {crf_optim_acc}')\n",
        "ax1.legend()\n",
        "\n",
        "# Logistic Regression\n",
        "ax2.scatter(x, np.sort(y_test_2), c='orange', label='y_test')\n",
        "ax2.plot(x, np.sort(y_pred_lr), label='y pred')\n",
        "ax2.set_xlabel('x')\n",
        "ax2.set_ylabel('y')\n",
        "ax2.set_title(f'Logistic Regression\\n Accuracy: {lr_acc}')\n",
        "ax2.legend()\n",
        "\n",
        "plt.show()"
      ],
      "execution_count": null,
      "outputs": [
        {
          "data": {
            "image/png": "[encoded data removed]",
            "text/plain": [
              "<Figure size 1080x360 with 2 Axes>"
            ]
          },
          "metadata": {
            "needs_background": "light"
          },
          "output_type": "display_data"
        }
      ]
    },
    {
      "cell_type": "markdown",
      "metadata": {
        "id": "6JvSHBEwi2KC"
      },
      "source": [
        "**FINAL COMMENTS:**\n",
        "\n",
        "The parameter tuning and feature importance selection on Regression Trees helped on reducing the overfitting effect and therefore increasing the prediction capability of the model. The Final Pruned Regression Tree model had a better accuracy then the non-prunned Logistic Regression. However, since no pruning tecnique was applied on the Logistic Regression model, it is hard to tell if the Regression Tree performs better in general for this dataset. "
      ]
    }
  ]
}