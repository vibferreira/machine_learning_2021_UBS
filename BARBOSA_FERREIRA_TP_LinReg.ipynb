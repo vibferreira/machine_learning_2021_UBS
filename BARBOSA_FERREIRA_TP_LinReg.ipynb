{
  "nbformat": 4,
  "nbformat_minor": 0,
  "metadata": {
    "colab": {
      "name": "BARBOSA_FERREIRA_TP-LinReg.ipynb",
      "provenance": [],
      "collapsed_sections": [],
      "include_colab_link": true
    },
    "kernelspec": {
      "display_name": "Python 3",
      "language": "python",
      "name": "python3"
    },
    "language_info": {
      "codemirror_mode": {
        "name": "ipython",
        "version": 3
      },
      "file_extension": ".py",
      "mimetype": "text/x-python",
      "name": "python",
      "nbconvert_exporter": "python",
      "pygments_lexer": "ipython3",
      "version": "3.7.10"
    }
  },
  "cells": [
    {
      "cell_type": "markdown",
      "metadata": {
        "id": "view-in-github",
        "colab_type": "text"
      },
      "source": [
        "<a href=\"https://colab.research.google.com/github/vibferreira/machine_learning_2021_UBS/blob/main/BARBOSA_FERREIRA_TP_LinReg.ipynb\" target=\"_parent\"><img src=\"https://colab.research.google.com/assets/colab-badge.svg\" alt=\"Open In Colab\"/></a>"
      ]
    },
    {
      "cell_type": "markdown",
      "metadata": {
        "id": "FSbYgWnWKgqG"
      },
      "source": [
        "# Practical Lab: Linear Regression by using the gradient descent algorithm\n",
        "\n",
        "Vitória Barbosa Ferreira - e2008984"
      ]
    },
    {
      "cell_type": "markdown",
      "metadata": {
        "id": "MvBEdb3sKgqJ"
      },
      "source": [
        "## Utils"
      ]
    },
    {
      "cell_type": "code",
      "metadata": {
        "id": "9ZI30o7IKgqJ"
      },
      "source": [
        "from sklearn import datasets # donnees\n",
        "import os # rep de travail\n",
        "import pandas as pd # data analysis\n",
        "from scipy import stats # stat desc\n",
        "import matplotlib.pyplot as plt # graphiques\n",
        "import numpy as np # maths\n",
        "from numpy.linalg import inv, lstsq\n",
        "import seaborn as sns"
      ],
      "execution_count": null,
      "outputs": []
    },
    {
      "cell_type": "code",
      "metadata": {
        "id": "lSwCoKgxablt",
        "colab": {
          "base_uri": "https://localhost:8080/"
        },
        "outputId": "2ed781de-76f9-4bdd-cfb1-724d011344f7"
      },
      "source": [
        "from google.colab import drive\n",
        "drive.mount('/content/gdrive')\n",
        "\n",
        "file = '/content/gdrive/MyDrive/vitoria.barbosa.ferreira@usp.br 2021-08-09 21:44/Master/Copernicus - 15 01/Classes/3 semester/Machine Learning/Practice/Linear Regression/pm25_train_data.csv'"
      ],
      "execution_count": null,
      "outputs": [
        {
          "output_type": "stream",
          "name": "stdout",
          "text": [
            "Mounted at /content/gdrive\n"
          ]
        }
      ]
    },
    {
      "cell_type": "markdown",
      "metadata": {
        "id": "v5pGsRZsKgqK"
      },
      "source": [
        "## Data"
      ]
    },
    {
      "cell_type": "code",
      "metadata": {
        "id": "qPfptfjWKgqK",
        "colab": {
          "base_uri": "https://localhost:8080/",
          "height": 417
        },
        "outputId": "151d42a2-0ac8-473c-d630-ad499ab75e79"
      },
      "source": [
        "# file = 'pm25_train_data.csv'\n",
        "# Read the data\n",
        "data = pd.read_csv(file, delimiter=';')\n",
        "data"
      ],
      "execution_count": null,
      "outputs": [
        {
          "output_type": "execute_result",
          "data": {
            "text/html": [
              "<div>\n",
              "<style scoped>\n",
              "    .dataframe tbody tr th:only-of-type {\n",
              "        vertical-align: middle;\n",
              "    }\n",
              "\n",
              "    .dataframe tbody tr th {\n",
              "        vertical-align: top;\n",
              "    }\n",
              "\n",
              "    .dataframe thead th {\n",
              "        text-align: right;\n",
              "    }\n",
              "</style>\n",
              "<table border=\"1\" class=\"dataframe\">\n",
              "  <thead>\n",
              "    <tr style=\"text-align: right;\">\n",
              "      <th></th>\n",
              "      <th>PM2.5</th>\n",
              "      <th>SO2</th>\n",
              "      <th>NO2</th>\n",
              "      <th>CO</th>\n",
              "      <th>O3</th>\n",
              "      <th>temperature</th>\n",
              "      <th>pressure</th>\n",
              "      <th>dew point</th>\n",
              "      <th>rainfall</th>\n",
              "      <th>windspeed</th>\n",
              "    </tr>\n",
              "  </thead>\n",
              "  <tbody>\n",
              "    <tr>\n",
              "      <th>0</th>\n",
              "      <td>24.0</td>\n",
              "      <td>7.0</td>\n",
              "      <td>13.0</td>\n",
              "      <td>300.0</td>\n",
              "      <td>74.0</td>\n",
              "      <td>3.9</td>\n",
              "      <td>1027.3</td>\n",
              "      <td>-19.7</td>\n",
              "      <td>0.0</td>\n",
              "      <td>5.1</td>\n",
              "    </tr>\n",
              "    <tr>\n",
              "      <th>1</th>\n",
              "      <td>93.0</td>\n",
              "      <td>25.0</td>\n",
              "      <td>76.0</td>\n",
              "      <td>900.0</td>\n",
              "      <td>22.0</td>\n",
              "      <td>2.7</td>\n",
              "      <td>1027.3</td>\n",
              "      <td>-16.4</td>\n",
              "      <td>0.0</td>\n",
              "      <td>2.7</td>\n",
              "    </tr>\n",
              "    <tr>\n",
              "      <th>2</th>\n",
              "      <td>117.0</td>\n",
              "      <td>77.0</td>\n",
              "      <td>99.0</td>\n",
              "      <td>1600.0</td>\n",
              "      <td>14.0</td>\n",
              "      <td>13.8</td>\n",
              "      <td>1012.5</td>\n",
              "      <td>-13.3</td>\n",
              "      <td>0.0</td>\n",
              "      <td>1.1</td>\n",
              "    </tr>\n",
              "    <tr>\n",
              "      <th>3</th>\n",
              "      <td>58.0</td>\n",
              "      <td>12.0</td>\n",
              "      <td>14.0</td>\n",
              "      <td>400.0</td>\n",
              "      <td>77.0</td>\n",
              "      <td>14.2</td>\n",
              "      <td>1018.9</td>\n",
              "      <td>-13.9</td>\n",
              "      <td>0.0</td>\n",
              "      <td>2.7</td>\n",
              "    </tr>\n",
              "    <tr>\n",
              "      <th>4</th>\n",
              "      <td>226.0</td>\n",
              "      <td>104.0</td>\n",
              "      <td>136.0</td>\n",
              "      <td>2299.0</td>\n",
              "      <td>15.0</td>\n",
              "      <td>11.9</td>\n",
              "      <td>1009.7</td>\n",
              "      <td>-7.5</td>\n",
              "      <td>0.0</td>\n",
              "      <td>1.3</td>\n",
              "    </tr>\n",
              "    <tr>\n",
              "      <th>...</th>\n",
              "      <td>...</td>\n",
              "      <td>...</td>\n",
              "      <td>...</td>\n",
              "      <td>...</td>\n",
              "      <td>...</td>\n",
              "      <td>...</td>\n",
              "      <td>...</td>\n",
              "      <td>...</td>\n",
              "      <td>...</td>\n",
              "      <td>...</td>\n",
              "    </tr>\n",
              "    <tr>\n",
              "      <th>11913</th>\n",
              "      <td>89.0</td>\n",
              "      <td>19.0</td>\n",
              "      <td>41.0</td>\n",
              "      <td>1300.0</td>\n",
              "      <td>21.0</td>\n",
              "      <td>-5.3</td>\n",
              "      <td>1035.3</td>\n",
              "      <td>-14.1</td>\n",
              "      <td>0.0</td>\n",
              "      <td>1.0</td>\n",
              "    </tr>\n",
              "    <tr>\n",
              "      <th>11914</th>\n",
              "      <td>281.0</td>\n",
              "      <td>22.0</td>\n",
              "      <td>60.0</td>\n",
              "      <td>2100.0</td>\n",
              "      <td>20.0</td>\n",
              "      <td>-0.8</td>\n",
              "      <td>1031.6</td>\n",
              "      <td>-11.6</td>\n",
              "      <td>0.0</td>\n",
              "      <td>1.4</td>\n",
              "    </tr>\n",
              "    <tr>\n",
              "      <th>11915</th>\n",
              "      <td>543.0</td>\n",
              "      <td>46.0</td>\n",
              "      <td>99.0</td>\n",
              "      <td>3000.0</td>\n",
              "      <td>12.0</td>\n",
              "      <td>0.4</td>\n",
              "      <td>1024.0</td>\n",
              "      <td>-7.1</td>\n",
              "      <td>0.0</td>\n",
              "      <td>1.3</td>\n",
              "    </tr>\n",
              "    <tr>\n",
              "      <th>11916</th>\n",
              "      <td>505.0</td>\n",
              "      <td>7.0</td>\n",
              "      <td>15.0</td>\n",
              "      <td>500.0</td>\n",
              "      <td>63.0</td>\n",
              "      <td>4.1</td>\n",
              "      <td>1026.7</td>\n",
              "      <td>-10.8</td>\n",
              "      <td>0.0</td>\n",
              "      <td>4.1</td>\n",
              "    </tr>\n",
              "    <tr>\n",
              "      <th>11917</th>\n",
              "      <td>227.0</td>\n",
              "      <td>12.0</td>\n",
              "      <td>54.0</td>\n",
              "      <td>1200.0</td>\n",
              "      <td>24.0</td>\n",
              "      <td>1.6</td>\n",
              "      <td>1029.3</td>\n",
              "      <td>-10.3</td>\n",
              "      <td>0.0</td>\n",
              "      <td>1.3</td>\n",
              "    </tr>\n",
              "  </tbody>\n",
              "</table>\n",
              "<p>11918 rows × 10 columns</p>\n",
              "</div>"
            ],
            "text/plain": [
              "       PM2.5    SO2    NO2      CO  ...  pressure  dew point  rainfall  windspeed\n",
              "0       24.0    7.0   13.0   300.0  ...    1027.3      -19.7       0.0        5.1\n",
              "1       93.0   25.0   76.0   900.0  ...    1027.3      -16.4       0.0        2.7\n",
              "2      117.0   77.0   99.0  1600.0  ...    1012.5      -13.3       0.0        1.1\n",
              "3       58.0   12.0   14.0   400.0  ...    1018.9      -13.9       0.0        2.7\n",
              "4      226.0  104.0  136.0  2299.0  ...    1009.7       -7.5       0.0        1.3\n",
              "...      ...    ...    ...     ...  ...       ...        ...       ...        ...\n",
              "11913   89.0   19.0   41.0  1300.0  ...    1035.3      -14.1       0.0        1.0\n",
              "11914  281.0   22.0   60.0  2100.0  ...    1031.6      -11.6       0.0        1.4\n",
              "11915  543.0   46.0   99.0  3000.0  ...    1024.0       -7.1       0.0        1.3\n",
              "11916  505.0    7.0   15.0   500.0  ...    1026.7      -10.8       0.0        4.1\n",
              "11917  227.0   12.0   54.0  1200.0  ...    1029.3      -10.3       0.0        1.3\n",
              "\n",
              "[11918 rows x 10 columns]"
            ]
          },
          "metadata": {},
          "execution_count": 3
        }
      ]
    },
    {
      "cell_type": "code",
      "metadata": {
        "id": "AcH0kHx7KgqM",
        "colab": {
          "base_uri": "https://localhost:8080/",
          "height": 295
        },
        "outputId": "2c28cf6b-a5cb-475c-aad8-82d7d67e9117"
      },
      "source": [
        "#-- Display some statistics on the data by using the describe function on the dataframe\n",
        "data.describe()"
      ],
      "execution_count": null,
      "outputs": [
        {
          "output_type": "execute_result",
          "data": {
            "text/html": [
              "<div>\n",
              "<style scoped>\n",
              "    .dataframe tbody tr th:only-of-type {\n",
              "        vertical-align: middle;\n",
              "    }\n",
              "\n",
              "    .dataframe tbody tr th {\n",
              "        vertical-align: top;\n",
              "    }\n",
              "\n",
              "    .dataframe thead th {\n",
              "        text-align: right;\n",
              "    }\n",
              "</style>\n",
              "<table border=\"1\" class=\"dataframe\">\n",
              "  <thead>\n",
              "    <tr style=\"text-align: right;\">\n",
              "      <th></th>\n",
              "      <th>PM2.5</th>\n",
              "      <th>SO2</th>\n",
              "      <th>NO2</th>\n",
              "      <th>CO</th>\n",
              "      <th>O3</th>\n",
              "      <th>temperature</th>\n",
              "      <th>pressure</th>\n",
              "      <th>dew point</th>\n",
              "      <th>rainfall</th>\n",
              "      <th>windspeed</th>\n",
              "    </tr>\n",
              "  </thead>\n",
              "  <tbody>\n",
              "    <tr>\n",
              "      <th>count</th>\n",
              "      <td>11918.000000</td>\n",
              "      <td>11667.000000</td>\n",
              "      <td>11636.000000</td>\n",
              "      <td>11462.000000</td>\n",
              "      <td>11677.000000</td>\n",
              "      <td>11898.000000</td>\n",
              "      <td>11898.000000</td>\n",
              "      <td>11898.000000</td>\n",
              "      <td>11898.000000</td>\n",
              "      <td>11900.000000</td>\n",
              "    </tr>\n",
              "    <tr>\n",
              "      <th>mean</th>\n",
              "      <td>144.962326</td>\n",
              "      <td>21.960768</td>\n",
              "      <td>44.788865</td>\n",
              "      <td>1165.367650</td>\n",
              "      <td>73.894402</td>\n",
              "      <td>17.924920</td>\n",
              "      <td>1009.787557</td>\n",
              "      <td>2.765969</td>\n",
              "      <td>0.047630</td>\n",
              "      <td>2.243664</td>\n",
              "    </tr>\n",
              "    <tr>\n",
              "      <th>std</th>\n",
              "      <td>103.807565</td>\n",
              "      <td>27.065010</td>\n",
              "      <td>33.186310</td>\n",
              "      <td>1019.736671</td>\n",
              "      <td>51.840188</td>\n",
              "      <td>10.751675</td>\n",
              "      <td>10.074917</td>\n",
              "      <td>13.483896</td>\n",
              "      <td>0.532651</td>\n",
              "      <td>1.346997</td>\n",
              "    </tr>\n",
              "    <tr>\n",
              "      <th>min</th>\n",
              "      <td>3.000000</td>\n",
              "      <td>0.571200</td>\n",
              "      <td>2.000000</td>\n",
              "      <td>100.000000</td>\n",
              "      <td>0.214200</td>\n",
              "      <td>-6.800000</td>\n",
              "      <td>984.500000</td>\n",
              "      <td>-31.300000</td>\n",
              "      <td>0.000000</td>\n",
              "      <td>0.000000</td>\n",
              "    </tr>\n",
              "    <tr>\n",
              "      <th>25%</th>\n",
              "      <td>71.000000</td>\n",
              "      <td>4.000000</td>\n",
              "      <td>19.000000</td>\n",
              "      <td>500.000000</td>\n",
              "      <td>34.000000</td>\n",
              "      <td>8.200000</td>\n",
              "      <td>1001.800000</td>\n",
              "      <td>-8.300000</td>\n",
              "      <td>0.000000</td>\n",
              "      <td>1.300000</td>\n",
              "    </tr>\n",
              "    <tr>\n",
              "      <th>50%</th>\n",
              "      <td>120.000000</td>\n",
              "      <td>12.000000</td>\n",
              "      <td>37.000000</td>\n",
              "      <td>900.000000</td>\n",
              "      <td>66.000000</td>\n",
              "      <td>19.900000</td>\n",
              "      <td>1009.400000</td>\n",
              "      <td>3.100000</td>\n",
              "      <td>0.000000</td>\n",
              "      <td>1.900000</td>\n",
              "    </tr>\n",
              "    <tr>\n",
              "      <th>75%</th>\n",
              "      <td>192.000000</td>\n",
              "      <td>29.000000</td>\n",
              "      <td>62.000000</td>\n",
              "      <td>1500.000000</td>\n",
              "      <td>103.000000</td>\n",
              "      <td>27.400000</td>\n",
              "      <td>1017.600000</td>\n",
              "      <td>15.000000</td>\n",
              "      <td>0.000000</td>\n",
              "      <td>2.700000</td>\n",
              "    </tr>\n",
              "    <tr>\n",
              "      <th>max</th>\n",
              "      <td>844.000000</td>\n",
              "      <td>224.000000</td>\n",
              "      <td>273.000000</td>\n",
              "      <td>10000.000000</td>\n",
              "      <td>345.000000</td>\n",
              "      <td>39.800000</td>\n",
              "      <td>1036.300000</td>\n",
              "      <td>28.500000</td>\n",
              "      <td>31.200000</td>\n",
              "      <td>12.900000</td>\n",
              "    </tr>\n",
              "  </tbody>\n",
              "</table>\n",
              "</div>"
            ],
            "text/plain": [
              "              PM2.5           SO2  ...      rainfall     windspeed\n",
              "count  11918.000000  11667.000000  ...  11898.000000  11900.000000\n",
              "mean     144.962326     21.960768  ...      0.047630      2.243664\n",
              "std      103.807565     27.065010  ...      0.532651      1.346997\n",
              "min        3.000000      0.571200  ...      0.000000      0.000000\n",
              "25%       71.000000      4.000000  ...      0.000000      1.300000\n",
              "50%      120.000000     12.000000  ...      0.000000      1.900000\n",
              "75%      192.000000     29.000000  ...      0.000000      2.700000\n",
              "max      844.000000    224.000000  ...     31.200000     12.900000\n",
              "\n",
              "[8 rows x 10 columns]"
            ]
          },
          "metadata": {},
          "execution_count": 4
        }
      ]
    },
    {
      "cell_type": "code",
      "metadata": {
        "id": "oM3g4xZVuK-f",
        "colab": {
          "base_uri": "https://localhost:8080/",
          "height": 295
        },
        "outputId": "7dadca3a-95ed-4573-ee63-89eba4c70334"
      },
      "source": [
        "# drop na values\n",
        "data = data.dropna()\n",
        "data.describe()"
      ],
      "execution_count": null,
      "outputs": [
        {
          "output_type": "execute_result",
          "data": {
            "text/html": [
              "<div>\n",
              "<style scoped>\n",
              "    .dataframe tbody tr th:only-of-type {\n",
              "        vertical-align: middle;\n",
              "    }\n",
              "\n",
              "    .dataframe tbody tr th {\n",
              "        vertical-align: top;\n",
              "    }\n",
              "\n",
              "    .dataframe thead th {\n",
              "        text-align: right;\n",
              "    }\n",
              "</style>\n",
              "<table border=\"1\" class=\"dataframe\">\n",
              "  <thead>\n",
              "    <tr style=\"text-align: right;\">\n",
              "      <th></th>\n",
              "      <th>PM2.5</th>\n",
              "      <th>SO2</th>\n",
              "      <th>NO2</th>\n",
              "      <th>CO</th>\n",
              "      <th>O3</th>\n",
              "      <th>temperature</th>\n",
              "      <th>pressure</th>\n",
              "      <th>dew point</th>\n",
              "      <th>rainfall</th>\n",
              "      <th>windspeed</th>\n",
              "    </tr>\n",
              "  </thead>\n",
              "  <tbody>\n",
              "    <tr>\n",
              "      <th>count</th>\n",
              "      <td>11160.000000</td>\n",
              "      <td>11160.000000</td>\n",
              "      <td>11160.000000</td>\n",
              "      <td>11160.000000</td>\n",
              "      <td>11160.000000</td>\n",
              "      <td>11160.000000</td>\n",
              "      <td>11160.000000</td>\n",
              "      <td>11160.000000</td>\n",
              "      <td>11160.000000</td>\n",
              "      <td>11160.000000</td>\n",
              "    </tr>\n",
              "    <tr>\n",
              "      <th>mean</th>\n",
              "      <td>144.785609</td>\n",
              "      <td>21.803471</td>\n",
              "      <td>44.614596</td>\n",
              "      <td>1165.918100</td>\n",
              "      <td>74.123981</td>\n",
              "      <td>17.943513</td>\n",
              "      <td>1009.810802</td>\n",
              "      <td>2.826747</td>\n",
              "      <td>0.046918</td>\n",
              "      <td>2.235968</td>\n",
              "    </tr>\n",
              "    <tr>\n",
              "      <th>std</th>\n",
              "      <td>102.926739</td>\n",
              "      <td>26.880259</td>\n",
              "      <td>32.895568</td>\n",
              "      <td>1010.439512</td>\n",
              "      <td>51.904421</td>\n",
              "      <td>10.751609</td>\n",
              "      <td>10.075603</td>\n",
              "      <td>13.450111</td>\n",
              "      <td>0.535652</td>\n",
              "      <td>1.337821</td>\n",
              "    </tr>\n",
              "    <tr>\n",
              "      <th>min</th>\n",
              "      <td>3.000000</td>\n",
              "      <td>0.856800</td>\n",
              "      <td>2.000000</td>\n",
              "      <td>100.000000</td>\n",
              "      <td>0.214200</td>\n",
              "      <td>-6.800000</td>\n",
              "      <td>984.500000</td>\n",
              "      <td>-31.300000</td>\n",
              "      <td>0.000000</td>\n",
              "      <td>0.000000</td>\n",
              "    </tr>\n",
              "    <tr>\n",
              "      <th>25%</th>\n",
              "      <td>71.000000</td>\n",
              "      <td>4.000000</td>\n",
              "      <td>19.000000</td>\n",
              "      <td>500.000000</td>\n",
              "      <td>34.000000</td>\n",
              "      <td>8.200000</td>\n",
              "      <td>1001.800000</td>\n",
              "      <td>-8.200000</td>\n",
              "      <td>0.000000</td>\n",
              "      <td>1.300000</td>\n",
              "    </tr>\n",
              "    <tr>\n",
              "      <th>50%</th>\n",
              "      <td>120.000000</td>\n",
              "      <td>12.000000</td>\n",
              "      <td>36.000000</td>\n",
              "      <td>900.000000</td>\n",
              "      <td>66.000000</td>\n",
              "      <td>20.000000</td>\n",
              "      <td>1009.300000</td>\n",
              "      <td>3.100000</td>\n",
              "      <td>0.000000</td>\n",
              "      <td>1.900000</td>\n",
              "    </tr>\n",
              "    <tr>\n",
              "      <th>75%</th>\n",
              "      <td>192.000000</td>\n",
              "      <td>28.000000</td>\n",
              "      <td>62.000000</td>\n",
              "      <td>1500.000000</td>\n",
              "      <td>103.000000</td>\n",
              "      <td>27.400000</td>\n",
              "      <td>1017.600000</td>\n",
              "      <td>15.000000</td>\n",
              "      <td>0.000000</td>\n",
              "      <td>2.700000</td>\n",
              "    </tr>\n",
              "    <tr>\n",
              "      <th>max</th>\n",
              "      <td>844.000000</td>\n",
              "      <td>224.000000</td>\n",
              "      <td>273.000000</td>\n",
              "      <td>10000.000000</td>\n",
              "      <td>345.000000</td>\n",
              "      <td>39.800000</td>\n",
              "      <td>1036.300000</td>\n",
              "      <td>28.500000</td>\n",
              "      <td>31.200000</td>\n",
              "      <td>12.900000</td>\n",
              "    </tr>\n",
              "  </tbody>\n",
              "</table>\n",
              "</div>"
            ],
            "text/plain": [
              "              PM2.5           SO2  ...      rainfall     windspeed\n",
              "count  11160.000000  11160.000000  ...  11160.000000  11160.000000\n",
              "mean     144.785609     21.803471  ...      0.046918      2.235968\n",
              "std      102.926739     26.880259  ...      0.535652      1.337821\n",
              "min        3.000000      0.856800  ...      0.000000      0.000000\n",
              "25%       71.000000      4.000000  ...      0.000000      1.300000\n",
              "50%      120.000000     12.000000  ...      0.000000      1.900000\n",
              "75%      192.000000     28.000000  ...      0.000000      2.700000\n",
              "max      844.000000    224.000000  ...     31.200000     12.900000\n",
              "\n",
              "[8 rows x 10 columns]"
            ]
          },
          "metadata": {},
          "execution_count": 5
        }
      ]
    },
    {
      "cell_type": "code",
      "metadata": {
        "id": "gwvQI8smKgqL",
        "colab": {
          "base_uri": "https://localhost:8080/",
          "height": 417
        },
        "outputId": "22ce375c-2750-4d08-8d9f-ffd97bb90895"
      },
      "source": [
        "#-- Save the explanatory variables in a variable X (and their names in a varaible feature_names), and the target variable in Y\n",
        "X = data.iloc[:, 1:len(data.columns)]\n",
        "y = data['PM2.5']\n",
        "X"
      ],
      "execution_count": null,
      "outputs": [
        {
          "output_type": "execute_result",
          "data": {
            "text/html": [
              "<div>\n",
              "<style scoped>\n",
              "    .dataframe tbody tr th:only-of-type {\n",
              "        vertical-align: middle;\n",
              "    }\n",
              "\n",
              "    .dataframe tbody tr th {\n",
              "        vertical-align: top;\n",
              "    }\n",
              "\n",
              "    .dataframe thead th {\n",
              "        text-align: right;\n",
              "    }\n",
              "</style>\n",
              "<table border=\"1\" class=\"dataframe\">\n",
              "  <thead>\n",
              "    <tr style=\"text-align: right;\">\n",
              "      <th></th>\n",
              "      <th>SO2</th>\n",
              "      <th>NO2</th>\n",
              "      <th>CO</th>\n",
              "      <th>O3</th>\n",
              "      <th>temperature</th>\n",
              "      <th>pressure</th>\n",
              "      <th>dew point</th>\n",
              "      <th>rainfall</th>\n",
              "      <th>windspeed</th>\n",
              "    </tr>\n",
              "  </thead>\n",
              "  <tbody>\n",
              "    <tr>\n",
              "      <th>0</th>\n",
              "      <td>7.0</td>\n",
              "      <td>13.0</td>\n",
              "      <td>300.0</td>\n",
              "      <td>74.0</td>\n",
              "      <td>3.9</td>\n",
              "      <td>1027.3</td>\n",
              "      <td>-19.7</td>\n",
              "      <td>0.0</td>\n",
              "      <td>5.1</td>\n",
              "    </tr>\n",
              "    <tr>\n",
              "      <th>1</th>\n",
              "      <td>25.0</td>\n",
              "      <td>76.0</td>\n",
              "      <td>900.0</td>\n",
              "      <td>22.0</td>\n",
              "      <td>2.7</td>\n",
              "      <td>1027.3</td>\n",
              "      <td>-16.4</td>\n",
              "      <td>0.0</td>\n",
              "      <td>2.7</td>\n",
              "    </tr>\n",
              "    <tr>\n",
              "      <th>2</th>\n",
              "      <td>77.0</td>\n",
              "      <td>99.0</td>\n",
              "      <td>1600.0</td>\n",
              "      <td>14.0</td>\n",
              "      <td>13.8</td>\n",
              "      <td>1012.5</td>\n",
              "      <td>-13.3</td>\n",
              "      <td>0.0</td>\n",
              "      <td>1.1</td>\n",
              "    </tr>\n",
              "    <tr>\n",
              "      <th>3</th>\n",
              "      <td>12.0</td>\n",
              "      <td>14.0</td>\n",
              "      <td>400.0</td>\n",
              "      <td>77.0</td>\n",
              "      <td>14.2</td>\n",
              "      <td>1018.9</td>\n",
              "      <td>-13.9</td>\n",
              "      <td>0.0</td>\n",
              "      <td>2.7</td>\n",
              "    </tr>\n",
              "    <tr>\n",
              "      <th>4</th>\n",
              "      <td>104.0</td>\n",
              "      <td>136.0</td>\n",
              "      <td>2299.0</td>\n",
              "      <td>15.0</td>\n",
              "      <td>11.9</td>\n",
              "      <td>1009.7</td>\n",
              "      <td>-7.5</td>\n",
              "      <td>0.0</td>\n",
              "      <td>1.3</td>\n",
              "    </tr>\n",
              "    <tr>\n",
              "      <th>...</th>\n",
              "      <td>...</td>\n",
              "      <td>...</td>\n",
              "      <td>...</td>\n",
              "      <td>...</td>\n",
              "      <td>...</td>\n",
              "      <td>...</td>\n",
              "      <td>...</td>\n",
              "      <td>...</td>\n",
              "      <td>...</td>\n",
              "    </tr>\n",
              "    <tr>\n",
              "      <th>11913</th>\n",
              "      <td>19.0</td>\n",
              "      <td>41.0</td>\n",
              "      <td>1300.0</td>\n",
              "      <td>21.0</td>\n",
              "      <td>-5.3</td>\n",
              "      <td>1035.3</td>\n",
              "      <td>-14.1</td>\n",
              "      <td>0.0</td>\n",
              "      <td>1.0</td>\n",
              "    </tr>\n",
              "    <tr>\n",
              "      <th>11914</th>\n",
              "      <td>22.0</td>\n",
              "      <td>60.0</td>\n",
              "      <td>2100.0</td>\n",
              "      <td>20.0</td>\n",
              "      <td>-0.8</td>\n",
              "      <td>1031.6</td>\n",
              "      <td>-11.6</td>\n",
              "      <td>0.0</td>\n",
              "      <td>1.4</td>\n",
              "    </tr>\n",
              "    <tr>\n",
              "      <th>11915</th>\n",
              "      <td>46.0</td>\n",
              "      <td>99.0</td>\n",
              "      <td>3000.0</td>\n",
              "      <td>12.0</td>\n",
              "      <td>0.4</td>\n",
              "      <td>1024.0</td>\n",
              "      <td>-7.1</td>\n",
              "      <td>0.0</td>\n",
              "      <td>1.3</td>\n",
              "    </tr>\n",
              "    <tr>\n",
              "      <th>11916</th>\n",
              "      <td>7.0</td>\n",
              "      <td>15.0</td>\n",
              "      <td>500.0</td>\n",
              "      <td>63.0</td>\n",
              "      <td>4.1</td>\n",
              "      <td>1026.7</td>\n",
              "      <td>-10.8</td>\n",
              "      <td>0.0</td>\n",
              "      <td>4.1</td>\n",
              "    </tr>\n",
              "    <tr>\n",
              "      <th>11917</th>\n",
              "      <td>12.0</td>\n",
              "      <td>54.0</td>\n",
              "      <td>1200.0</td>\n",
              "      <td>24.0</td>\n",
              "      <td>1.6</td>\n",
              "      <td>1029.3</td>\n",
              "      <td>-10.3</td>\n",
              "      <td>0.0</td>\n",
              "      <td>1.3</td>\n",
              "    </tr>\n",
              "  </tbody>\n",
              "</table>\n",
              "<p>11160 rows × 9 columns</p>\n",
              "</div>"
            ],
            "text/plain": [
              "         SO2    NO2      CO    O3  ...  pressure  dew point  rainfall  windspeed\n",
              "0        7.0   13.0   300.0  74.0  ...    1027.3      -19.7       0.0        5.1\n",
              "1       25.0   76.0   900.0  22.0  ...    1027.3      -16.4       0.0        2.7\n",
              "2       77.0   99.0  1600.0  14.0  ...    1012.5      -13.3       0.0        1.1\n",
              "3       12.0   14.0   400.0  77.0  ...    1018.9      -13.9       0.0        2.7\n",
              "4      104.0  136.0  2299.0  15.0  ...    1009.7       -7.5       0.0        1.3\n",
              "...      ...    ...     ...   ...  ...       ...        ...       ...        ...\n",
              "11913   19.0   41.0  1300.0  21.0  ...    1035.3      -14.1       0.0        1.0\n",
              "11914   22.0   60.0  2100.0  20.0  ...    1031.6      -11.6       0.0        1.4\n",
              "11915   46.0   99.0  3000.0  12.0  ...    1024.0       -7.1       0.0        1.3\n",
              "11916    7.0   15.0   500.0  63.0  ...    1026.7      -10.8       0.0        4.1\n",
              "11917   12.0   54.0  1200.0  24.0  ...    1029.3      -10.3       0.0        1.3\n",
              "\n",
              "[11160 rows x 9 columns]"
            ]
          },
          "metadata": {},
          "execution_count": 6
        }
      ]
    },
    {
      "cell_type": "markdown",
      "metadata": {
        "id": "qO5zZZJsKgqM"
      },
      "source": [
        "### Analyser et sélectionner les données étudiées"
      ]
    },
    {
      "cell_type": "code",
      "metadata": {
        "id": "lpF1Z8gMKgqM",
        "colab": {
          "base_uri": "https://localhost:8080/",
          "height": 1000
        },
        "outputId": "c3c98e5a-55f0-461a-8592-dc0bc9a14e7a"
      },
      "source": [
        "#-- Scatterplots for each explanatory variable\n",
        "for i in X.columns:\n",
        "    data.plot.scatter(x=i,\n",
        "                 y='PM2.5')\n"
      ],
      "execution_count": null,
      "outputs": [
        {
          "output_type": "display_data",
          "data": {
            "image/png": "[encoded data removed]",
            "text/plain": [
              "<Figure size 432x288 with 1 Axes>"
            ]
          },
          "metadata": {
            "needs_background": "light"
          }
        },
        {
          "output_type": "display_data",
          "data": {
            "image/png": "[encoded data removed]",
            "text/plain": [
              "<Figure size 432x288 with 1 Axes>"
            ]
          },
          "metadata": {
            "needs_background": "light"
          }
        },
        {
          "output_type": "display_data",
          "data": {
            "image/png": "[encoded data removed]",
            "text/plain": [
              "<Figure size 432x288 with 1 Axes>"
            ]
          },
          "metadata": {
            "needs_background": "light"
          }
        },
        {
          "output_type": "display_data",
          "data": {
            "image/png": "[encoded data removed]",
            "text/plain": [
              "<Figure size 432x288 with 1 Axes>"
            ]
          },
          "metadata": {
            "needs_background": "light"
          }
        },
        {
          "output_type": "display_data",
          "data": {
            "image/png": "[encoded data removed]",
            "text/plain": [
              "<Figure size 432x288 with 1 Axes>"
            ]
          },
          "metadata": {
            "needs_background": "light"
          }
        },
        {
          "output_type": "display_data",
          "data": {
            "image/png": "[encoded data removed]",
            "text/plain": [
              "<Figure size 432x288 with 1 Axes>"
            ]
          },
          "metadata": {
            "needs_background": "light"
          }
        },
        {
          "output_type": "display_data",
          "data": {
            "image/png": "[encoded data removed]",
            "text/plain": [
              "<Figure size 432x288 with 1 Axes>"
            ]
          },
          "metadata": {
            "needs_background": "light"
          }
        },
        {
          "output_type": "display_data",
          "data": {
            "image/png": "[encoded data removed]",
            "text/plain": [
              "<Figure size 432x288 with 1 Axes>"
            ]
          },
          "metadata": {
            "needs_background": "light"
          }
        },
        {
          "output_type": "display_data",
          "data": {
            "image/png": "[encoded data removed]",
            "text/plain": [
              "<Figure size 432x288 with 1 Axes>"
            ]
          },
          "metadata": {
            "needs_background": "light"
          }
        }
      ]
    },
    {
      "cell_type": "code",
      "metadata": {
        "colab": {
          "base_uri": "https://localhost:8080/",
          "height": 357
        },
        "id": "Q4i42E_XKgqN",
        "outputId": "08d8b953-8971-408a-a9b4-a03f6f45d0d1"
      },
      "source": [
        "# correlation\n",
        "data.corr()"
      ],
      "execution_count": null,
      "outputs": [
        {
          "output_type": "execute_result",
          "data": {
            "text/html": [
              "<div>\n",
              "<style scoped>\n",
              "    .dataframe tbody tr th:only-of-type {\n",
              "        vertical-align: middle;\n",
              "    }\n",
              "\n",
              "    .dataframe tbody tr th {\n",
              "        vertical-align: top;\n",
              "    }\n",
              "\n",
              "    .dataframe thead th {\n",
              "        text-align: right;\n",
              "    }\n",
              "</style>\n",
              "<table border=\"1\" class=\"dataframe\">\n",
              "  <thead>\n",
              "    <tr style=\"text-align: right;\">\n",
              "      <th></th>\n",
              "      <th>PM2.5</th>\n",
              "      <th>SO2</th>\n",
              "      <th>NO2</th>\n",
              "      <th>CO</th>\n",
              "      <th>O3</th>\n",
              "      <th>temperature</th>\n",
              "      <th>pressure</th>\n",
              "      <th>dew point</th>\n",
              "      <th>rainfall</th>\n",
              "      <th>windspeed</th>\n",
              "    </tr>\n",
              "  </thead>\n",
              "  <tbody>\n",
              "    <tr>\n",
              "      <th>PM2.5</th>\n",
              "      <td>1.000000</td>\n",
              "      <td>0.485462</td>\n",
              "      <td>0.572813</td>\n",
              "      <td>0.636648</td>\n",
              "      <td>-0.218340</td>\n",
              "      <td>-0.246685</td>\n",
              "      <td>0.140336</td>\n",
              "      <td>-0.029720</td>\n",
              "      <td>-0.037032</td>\n",
              "      <td>-0.187595</td>\n",
              "    </tr>\n",
              "    <tr>\n",
              "      <th>SO2</th>\n",
              "      <td>0.485462</td>\n",
              "      <td>1.000000</td>\n",
              "      <td>0.598753</td>\n",
              "      <td>0.630310</td>\n",
              "      <td>-0.287325</td>\n",
              "      <td>-0.366533</td>\n",
              "      <td>0.231831</td>\n",
              "      <td>-0.242011</td>\n",
              "      <td>-0.041511</td>\n",
              "      <td>-0.163247</td>\n",
              "    </tr>\n",
              "    <tr>\n",
              "      <th>NO2</th>\n",
              "      <td>0.572813</td>\n",
              "      <td>0.598753</td>\n",
              "      <td>1.000000</td>\n",
              "      <td>0.744382</td>\n",
              "      <td>-0.417748</td>\n",
              "      <td>-0.217173</td>\n",
              "      <td>0.146548</td>\n",
              "      <td>0.014724</td>\n",
              "      <td>-0.009562</td>\n",
              "      <td>-0.347697</td>\n",
              "    </tr>\n",
              "    <tr>\n",
              "      <th>CO</th>\n",
              "      <td>0.636648</td>\n",
              "      <td>0.630310</td>\n",
              "      <td>0.744382</td>\n",
              "      <td>1.000000</td>\n",
              "      <td>-0.323917</td>\n",
              "      <td>-0.273665</td>\n",
              "      <td>0.139458</td>\n",
              "      <td>0.041599</td>\n",
              "      <td>0.022054</td>\n",
              "      <td>-0.313852</td>\n",
              "    </tr>\n",
              "    <tr>\n",
              "      <th>O3</th>\n",
              "      <td>-0.218340</td>\n",
              "      <td>-0.287325</td>\n",
              "      <td>-0.417748</td>\n",
              "      <td>-0.323917</td>\n",
              "      <td>1.000000</td>\n",
              "      <td>0.683293</td>\n",
              "      <td>-0.555046</td>\n",
              "      <td>0.459740</td>\n",
              "      <td>-0.030031</td>\n",
              "      <td>0.100689</td>\n",
              "    </tr>\n",
              "    <tr>\n",
              "      <th>temperature</th>\n",
              "      <td>-0.246685</td>\n",
              "      <td>-0.366533</td>\n",
              "      <td>-0.217173</td>\n",
              "      <td>-0.273665</td>\n",
              "      <td>0.683293</td>\n",
              "      <td>1.000000</td>\n",
              "      <td>-0.811459</td>\n",
              "      <td>0.810234</td>\n",
              "      <td>-0.001144</td>\n",
              "      <td>-0.093390</td>\n",
              "    </tr>\n",
              "    <tr>\n",
              "      <th>pressure</th>\n",
              "      <td>0.140336</td>\n",
              "      <td>0.231831</td>\n",
              "      <td>0.146548</td>\n",
              "      <td>0.139458</td>\n",
              "      <td>-0.555046</td>\n",
              "      <td>-0.811459</td>\n",
              "      <td>1.000000</td>\n",
              "      <td>-0.716093</td>\n",
              "      <td>-0.030913</td>\n",
              "      <td>0.062114</td>\n",
              "    </tr>\n",
              "    <tr>\n",
              "      <th>dew point</th>\n",
              "      <td>-0.029720</td>\n",
              "      <td>-0.242011</td>\n",
              "      <td>0.014724</td>\n",
              "      <td>0.041599</td>\n",
              "      <td>0.459740</td>\n",
              "      <td>0.810234</td>\n",
              "      <td>-0.716093</td>\n",
              "      <td>1.000000</td>\n",
              "      <td>0.087952</td>\n",
              "      <td>-0.350106</td>\n",
              "    </tr>\n",
              "    <tr>\n",
              "      <th>rainfall</th>\n",
              "      <td>-0.037032</td>\n",
              "      <td>-0.041511</td>\n",
              "      <td>-0.009562</td>\n",
              "      <td>0.022054</td>\n",
              "      <td>-0.030031</td>\n",
              "      <td>-0.001144</td>\n",
              "      <td>-0.030913</td>\n",
              "      <td>0.087952</td>\n",
              "      <td>1.000000</td>\n",
              "      <td>-0.035374</td>\n",
              "    </tr>\n",
              "    <tr>\n",
              "      <th>windspeed</th>\n",
              "      <td>-0.187595</td>\n",
              "      <td>-0.163247</td>\n",
              "      <td>-0.347697</td>\n",
              "      <td>-0.313852</td>\n",
              "      <td>0.100689</td>\n",
              "      <td>-0.093390</td>\n",
              "      <td>0.062114</td>\n",
              "      <td>-0.350106</td>\n",
              "      <td>-0.035374</td>\n",
              "      <td>1.000000</td>\n",
              "    </tr>\n",
              "  </tbody>\n",
              "</table>\n",
              "</div>"
            ],
            "text/plain": [
              "                PM2.5       SO2       NO2  ...  dew point  rainfall  windspeed\n",
              "PM2.5        1.000000  0.485462  0.572813  ...  -0.029720 -0.037032  -0.187595\n",
              "SO2          0.485462  1.000000  0.598753  ...  -0.242011 -0.041511  -0.163247\n",
              "NO2          0.572813  0.598753  1.000000  ...   0.014724 -0.009562  -0.347697\n",
              "CO           0.636648  0.630310  0.744382  ...   0.041599  0.022054  -0.313852\n",
              "O3          -0.218340 -0.287325 -0.417748  ...   0.459740 -0.030031   0.100689\n",
              "temperature -0.246685 -0.366533 -0.217173  ...   0.810234 -0.001144  -0.093390\n",
              "pressure     0.140336  0.231831  0.146548  ...  -0.716093 -0.030913   0.062114\n",
              "dew point   -0.029720 -0.242011  0.014724  ...   1.000000  0.087952  -0.350106\n",
              "rainfall    -0.037032 -0.041511 -0.009562  ...   0.087952  1.000000  -0.035374\n",
              "windspeed   -0.187595 -0.163247 -0.347697  ...  -0.350106 -0.035374   1.000000\n",
              "\n",
              "[10 rows x 10 columns]"
            ]
          },
          "metadata": {},
          "execution_count": 8
        }
      ]
    },
    {
      "cell_type": "code",
      "metadata": {
        "colab": {
          "base_uri": "https://localhost:8080/",
          "height": 320
        },
        "id": "SWxpemWlKgqN",
        "outputId": "d8a8ffec-e54c-4c0f-90cf-16c7319faf6f"
      },
      "source": [
        "#-- Select the explanatory variables for the simple linear regression, then the multiple linear regression, and display the scatter plots\n",
        "plt.figure(figsize=(10,5))\n",
        "\n",
        "#SO2\n",
        "plt.subplot(131)\n",
        "plt.scatter(data['PM2.5'],data['SO2'])\n",
        "\n",
        "plt.subplot(132)\n",
        "plt.scatter(data['PM2.5'],data['NO2'])\n",
        "\n",
        "plt.subplot(133)\n",
        "plt.scatter(data['PM2.5'],data['CO'])\n",
        "\n",
        "plt.show()\n",
        "\n"
      ],
      "execution_count": null,
      "outputs": [
        {
          "output_type": "display_data",
          "data": {
            "image/png": "[encoded data removed]",
            "text/plain": [
              "<Figure size 720x360 with 3 Axes>"
            ]
          },
          "metadata": {
            "needs_background": "light"
          }
        }
      ]
    },
    {
      "cell_type": "code",
      "metadata": {
        "colab": {
          "base_uri": "https://localhost:8080/"
        },
        "id": "SR6ZYQJyKgqO",
        "outputId": "8dda15c2-55ff-4112-c1ca-df3531d47bac"
      },
      "source": [
        "#-- Extract the data and creates two X matrices that will be used for the regression (have a look at page 26 to know the form of X):\n",
        "#---- Xs for simple lin reg and Xm for multiple lin reg\n",
        "Xs = np.vstack(X['CO'])\n",
        "\n",
        "Xm = X[['CO', 'SO2', 'NO2']].to_numpy()\n",
        "#-- Check the size of both matrices\n",
        "\n",
        "print(Xs.shape, Xm.shape)\n",
        "## Hint: use stack/hstack/vstack"
      ],
      "execution_count": null,
      "outputs": [
        {
          "output_type": "stream",
          "name": "stdout",
          "text": [
            "(11160, 1) (11160, 3)\n"
          ]
        }
      ]
    },
    {
      "cell_type": "code",
      "metadata": {
        "colab": {
          "base_uri": "https://localhost:8080/"
        },
        "id": "Cao73wwIAJCc",
        "outputId": "935dadfe-b082-41a5-a136-06306dc591e4"
      },
      "source": [
        "Xm"
      ],
      "execution_count": null,
      "outputs": [
        {
          "output_type": "execute_result",
          "data": {
            "text/plain": [
              "array([[ 300.,    7.,   13.],\n",
              "       [ 900.,   25.,   76.],\n",
              "       [1600.,   77.,   99.],\n",
              "       ...,\n",
              "       [3000.,   46.,   99.],\n",
              "       [ 500.,    7.,   15.],\n",
              "       [1200.,   12.,   54.]])"
            ]
          },
          "metadata": {},
          "execution_count": 11
        }
      ]
    },
    {
      "cell_type": "markdown",
      "metadata": {
        "id": "NOYb8RpfnD5a"
      },
      "source": [
        "** You want to standardise the data around its mean so the have the same range (scale)\n",
        "And the the best linear regression MUST pass trough the centroid of X,Y (mean X and mean Y)"
      ]
    },
    {
      "cell_type": "code",
      "metadata": {
        "id": "p8xIVua4KgqO"
      },
      "source": [
        "#--- Write the standardisation function to mean-center the X data \n",
        "# each new standardized value indicates how many std the original data is from the mean (z-scores)\n",
        "\n",
        "def standardisation(X:np.array) -> np.array:\n",
        "  \"\"\" \n",
        "  X: single or multiple variables to be standardised \n",
        "  Returns np.array with standardized values around the mean center for each variable\n",
        "  \"\"\"\n",
        "  mean = np.mean(X, axis=0)\n",
        "  std = np.std(X, axis=0, ddof=1)\n",
        "  return (X-mean)/std\n",
        "    \n",
        "#-- Test 1 - simple lin reg\n",
        "Xs_stand = standardisation(Xs)\n",
        "\n",
        "#-- Test 2 - multiple lin reg\n",
        "Xm_stand = standardisation(Xm)"
      ],
      "execution_count": null,
      "outputs": []
    },
    {
      "cell_type": "code",
      "metadata": {
        "colab": {
          "base_uri": "https://localhost:8080/"
        },
        "id": "1UZisk3Bm9QV",
        "outputId": "511199a0-a531-4e6e-a91e-f76f76e733fa"
      },
      "source": [
        "stats.describe(Xs_stand)"
      ],
      "execution_count": null,
      "outputs": [
        {
          "output_type": "execute_result",
          "data": {
            "text/plain": [
              "DescribeResult(nobs=11160, minmax=(array([-1.0549054]), array([8.74281122])), mean=array([9.677643e-17]), variance=array([1.]), skewness=array([2.39100859]), kurtosis=array([9.40441346]))"
            ]
          },
          "metadata": {},
          "execution_count": 13
        }
      ]
    },
    {
      "cell_type": "code",
      "metadata": {
        "colab": {
          "base_uri": "https://localhost:8080/"
        },
        "id": "cwgga1aRKgqO",
        "outputId": "b854e2ad-a0ba-4144-9f6a-5df5d52b13c5"
      },
      "source": [
        "#-- Preparing the matrix used for the regression linear when using the gradient descent algorithm (add 1 column)\n",
        "ones = np.ones((X.shape[0],1))\n",
        "\n",
        "Xm_stand_r = np.hstack((ones, Xm_stand))\n",
        "Xs_stand_r = np.hstack((ones, Xs_stand))\n",
        "\n",
        "Xs_stand_r"
      ],
      "execution_count": null,
      "outputs": [
        {
          "output_type": "execute_result",
          "data": {
            "text/plain": [
              "array([[ 1.        , -0.85697173],\n",
              "       [ 1.        , -0.26317073],\n",
              "       [ 1.        ,  0.42959712],\n",
              "       ...,\n",
              "       [ 1.        ,  1.8151328 ],\n",
              "       [ 1.        , -0.65903806],\n",
              "       [ 1.        ,  0.03372978]])"
            ]
          },
          "metadata": {},
          "execution_count": 14
        }
      ]
    },
    {
      "cell_type": "code",
      "metadata": {
        "colab": {
          "base_uri": "https://localhost:8080/"
        },
        "id": "jn5aLcPgh7XT",
        "outputId": "d71eba82-2912-4999-b0bf-b9d49608c94b"
      },
      "source": [
        "Xm.shape"
      ],
      "execution_count": null,
      "outputs": [
        {
          "output_type": "execute_result",
          "data": {
            "text/plain": [
              "(11160, 3)"
            ]
          },
          "metadata": {},
          "execution_count": 15
        }
      ]
    },
    {
      "cell_type": "code",
      "metadata": {
        "colab": {
          "base_uri": "https://localhost:8080/"
        },
        "id": "vOUJ3noOrWvs",
        "outputId": "2c62d432-dde7-451d-9880-1d92fa1f65f4"
      },
      "source": [
        "stats.describe(Xm_stand_r)"
      ],
      "execution_count": null,
      "outputs": [
        {
          "output_type": "execute_result",
          "data": {
            "text/plain": [
              "DescribeResult(nobs=11160, minmax=(array([ 1.        , -1.0549054 , -0.77925853, -1.29545098]), array([1.        , 8.74281122, 7.52211995, 6.94274076])), mean=array([ 1.00000000e+00,  9.67764300e-17,  0.00000000e+00, -2.03739853e-17]), variance=array([0., 1., 1., 1.]), skewness=array([0.        , 2.39100859, 2.35821185, 1.25159044]), kurtosis=array([-3.        ,  9.40441346,  6.99219605,  1.98891919]))"
            ]
          },
          "metadata": {},
          "execution_count": 16
        }
      ]
    },
    {
      "cell_type": "markdown",
      "metadata": {
        "id": "1RnUe-DvKgqQ"
      },
      "source": [
        "## Least squares or maximum likelihood solution"
      ]
    },
    {
      "cell_type": "markdown",
      "metadata": {
        "id": "Jrrhme6r1kSv"
      },
      "source": [
        "*start by calculating the best start parameters!!!!\n",
        "*for each explanatory value you have two parameters (B0 and Bx)"
      ]
    },
    {
      "cell_type": "code",
      "metadata": {
        "id": "g_LA4ka5KgqQ"
      },
      "source": [
        "#-- To compare the results of the gradient descent algorithm, we will first implement an exact solution with the maximum likelihood\n",
        "#Formulae recall: (X^T X)^-1 X^T Y\n",
        "\n",
        "def coef_ml(X:np.array, \n",
        "            y: np.array) -> np.array:\n",
        "  \"\"\"\n",
        "  X: np.array, indepedent variable\n",
        "  y: np.arraym, depedent variable\n",
        "  Returns np.array hyperparameters: b0 and b1\"\"\"\n",
        "\n",
        "  transpose = X.transpose()\n",
        "  return inv((transpose.dot(X))).dot(transpose).dot(y)\n",
        "  \n",
        "#-- Test 1  - simple reg\n",
        "Xm_beta = coef_ml(Xm_stand_r, y)\n",
        "#-- Test 2 - multiple reg\n",
        "Xs_beta = coef_ml(Xs_stand_r,y)\n",
        "\n",
        "#-- (We can also use the native functions of Scikit-Learn, but they are more parameters that needs to be tuned)"
      ],
      "execution_count": null,
      "outputs": []
    },
    {
      "cell_type": "code",
      "metadata": {
        "colab": {
          "base_uri": "https://localhost:8080/"
        },
        "id": "ao7GpOAI1gyq",
        "outputId": "3215f43a-8849-40ee-eb35-83eab6845b69"
      },
      "source": [
        "print(Xs_beta)\n",
        "print(Xm_beta)"
      ],
      "execution_count": null,
      "outputs": [
        {
          "output_type": "stream",
          "name": "stdout",
          "text": [
            "[144.78560932  65.52805564]\n",
            "[144.78560932  44.35291959  10.09815632  19.89592831]\n"
          ]
        }
      ]
    },
    {
      "cell_type": "code",
      "metadata": {
        "colab": {
          "base_uri": "https://localhost:8080/"
        },
        "id": "3wZq64iX_KXD",
        "outputId": "2d092a2a-d188-49ba-d44e-6cad4159473c"
      },
      "source": [
        "# or by using numpy built-in function\n",
        "beta0, beta1 = lstsq(Xs_stand_r, y, rcond=None)[0]\n",
        "beta0,beta1"
      ],
      "execution_count": null,
      "outputs": [
        {
          "output_type": "execute_result",
          "data": {
            "text/plain": [
              "(144.78560931899636, 65.52805563850977)"
            ]
          },
          "metadata": {},
          "execution_count": 19
        }
      ]
    },
    {
      "cell_type": "code",
      "metadata": {
        "colab": {
          "base_uri": "https://localhost:8080/",
          "height": 310
        },
        "id": "e9O33AeyB2i_",
        "outputId": "78d16e69-64be-4fdd-c030-8be2de06005e"
      },
      "source": [
        "# Plotting the line of the 'exact solution' or the Regression line that describes our sample data\n",
        "# NOTE: Only for the first 50 values of the dataset\n",
        "\n",
        "# y_stand = standardisation(y) # recalculate the beta values based on the standardised y\n",
        "y_hat = (Xs_beta[1]*Xs_stand_r[:50,-1] + Xs_beta[0])\n",
        "error = np.sqrt(np.square(y[:50]-y_hat[:50]))\n",
        "\n",
        "plt.plot(Xs_stand_r[:50,-1], y[:50], 'o', label='Original data')\n",
        "plt.title(f'Least Square (Single variable)  \\n Parameters: {Xs_beta}')\n",
        "plt.plot(Xs_stand_r[:50,-1], y_hat[:50], 'r', label='Fitted line')\n",
        "plt.plot(Xs_stand_r[:50,-1], y_hat[:50], 'o', label='Predicted Values')\n",
        "plt.plot(np.mean(Xs_stand_r[:50,-1]), np.mean(y[:50]),'o', label='Centroid', markersize=10)\n",
        "plt.xlabel('CO')\n",
        "plt.ylabel('PM2.5')\n",
        "plt.legend()\n",
        "plt.show()"
      ],
      "execution_count": null,
      "outputs": [
        {
          "output_type": "display_data",
          "data": {
            "image/png": "[encoded data removed]",
            "text/plain": [
              "<Figure size 432x288 with 1 Axes>"
            ]
          },
          "metadata": {
            "needs_background": "light"
          }
        }
      ]
    },
    {
      "cell_type": "markdown",
      "metadata": {
        "id": "D1NXHKhWKgqQ"
      },
      "source": [
        "## Gradient descent algorithm\n",
        "\n",
        "In the following we will implement several functions to apply linear regression.\n",
        "These functions should be generic and work for any number of explanatory variables. You should be able to apply them to Xs and Xm standardized variables.\n",
        "\n",
        "WARNING: parameters of the functions needs to be completed"
      ]
    },
    {
      "cell_type": "code",
      "metadata": {
        "colab": {
          "base_uri": "https://localhost:8080/"
        },
        "id": "jtyZxQS6KgqR",
        "outputId": "90159395-16d5-4ddf-d91d-2bacb9a63076"
      },
      "source": [
        "# no for loop (matrix multiplication)\n",
        "#-- Model\n",
        "def f(X:np.array, \n",
        "      betas:np.array) -> np.array:\n",
        "  \"\"\"\n",
        "  X: np.array, independent variable\n",
        "  betas: np.array, hyperparameters b0 and b1\n",
        "  Returns np.array of the predicted values (regression line)\n",
        "  \"\"\"\n",
        "  return np.dot(X,betas) \n",
        "\n",
        "Yhat1 = f(Xs_stand_r,Xs_beta)\n",
        "Yhat3 = f(Xm_stand_r,Xm_beta)\n",
        "\n",
        "#-- Test 1 - simple reg\n",
        "print('Simple regression:',Yhat1[:5])\n",
        "\n",
        "#-- Test 2 - multiple reg\n",
        "print('Multiple regression:',Yhat3[:5])"
      ],
      "execution_count": null,
      "outputs": [
        {
          "output_type": "stream",
          "name": "stdout",
          "text": [
            "Simple regression: [ 88.62991786 127.54054331 172.93627301  95.1150221  218.26715166]\n",
            "Multiple regression: [ 82.09399419 153.29661435 217.46870806  88.9666424  280.67260401]\n"
          ]
        }
      ]
    },
    {
      "cell_type": "code",
      "metadata": {
        "id": "StekGQJlfO5k"
      },
      "source": [
        "# Xs_stand.shape\n",
        "# Xs_beta.shape\n",
        "# np.dot(Xs_stand,Xs_beta)"
      ],
      "execution_count": null,
      "outputs": []
    },
    {
      "cell_type": "code",
      "metadata": {
        "colab": {
          "base_uri": "https://localhost:8080/"
        },
        "id": "YhlXypmrKgqR",
        "outputId": "1398a147-4aa5-41bc-88fa-069011b34c56"
      },
      "source": [
        "#%% Cost function \n",
        "# A cost function will be used to calculate the sum of the squared residuals for each regression line \n",
        "\n",
        "def cost(betas: np.array,\n",
        "         X:np.array,\n",
        "         y:np.array) -> np.array:\n",
        "  \"\"\"\n",
        "  betas: np.array, hyperparameters b0 and b1\n",
        "  X: np.array, independent variable\n",
        "  y: np.array, depedent variable\n",
        "  Return the mean of the squared residuals\"\"\"\n",
        "\n",
        "  y_hat = f(X,betas)\n",
        "  return 1/(2*len(y))*np.sum(np.square(y_hat-y),axis=0)\n",
        "\n",
        "#%% Test 1 - simple reg\n",
        "print('Simple regression: ', cost(Xs_beta,Xs_stand_r,y))\n",
        "\n",
        "#%% Test 2 - multiple reg\n",
        "print('Multiple regression: ',cost(Xm_beta,Xm_stand_r,y))"
      ],
      "execution_count": null,
      "outputs": [
        {
          "output_type": "stream",
          "name": "stdout",
          "text": [
            "Simple regression:  3149.7114780201705\n",
            "Multiple regression:  3004.710579669741\n"
          ]
        }
      ]
    },
    {
      "cell_type": "code",
      "metadata": {
        "colab": {
          "base_uri": "https://localhost:8080/"
        },
        "id": "NYnnC-0LKgqS",
        "outputId": "13145630-6ea3-4f53-baba-38b3c1e75857"
      },
      "source": [
        "#%% Computation of the gradient\n",
        "def grad(X: np.array, \n",
        "         betas: np.array, \n",
        "         Y: np.array) -> np.array:\n",
        "  \"\"\"\n",
        "  X: np.array, independent variable\n",
        "  betas: np.array, hyperparameters b0 and b1\n",
        "  y: np.array, depedent variable\n",
        "  Return np.array of the gradients of the function (derivatives in relation to the intercept and the slope)\n",
        "  \"\"\"\n",
        "  m = X.shape\n",
        "  return 1/m[0]*np.dot(f(X, betas)-Y,X) # Derivative error / Derivative  weights \n",
        "    \n",
        "#%% Test 1 - simple reg\n",
        "grad_simple = grad(Xs_stand_r,Xs_beta,y)\n",
        "print('Simple regression: ', grad_simple)\n",
        "\n",
        "#%% Test 2 - multiple reg\n",
        "grad_multiple = grad(Xm_stand_r,Xm_beta,y)\n",
        "print('Multiple regression: ', grad_multiple)"
      ],
      "execution_count": null,
      "outputs": [
        {
          "output_type": "stream",
          "name": "stdout",
          "text": [
            "Simple regression:  [6.87825742e-14 6.23443949e-14]\n",
            "Multiple regression:  [-1.86218225e-14  4.12675071e-14 -3.07035958e-14  1.16539196e-14]\n"
          ]
        }
      ]
    },
    {
      "cell_type": "code",
      "metadata": {
        "id": "twdxWFeYKgqS"
      },
      "source": [
        "#%% Gradient descent algorithm\n",
        "def grad_descent(betas: np.array, \n",
        "                 X:np.array, \n",
        "                 y:np.array, \n",
        "                 n_interations: int, \n",
        "                 learn_rate: float) -> (np.array,int):\n",
        "\n",
        "  \"\"\"\n",
        "  betas: np.array, hyperparameters b0 and b1 (initialisation)\n",
        "  X: np.array, independent variable\n",
        "  y: np.array, depedent variable\n",
        "  n_interations: int, number of interations\n",
        "  learn_rate: float, the step in which the function learn the optimal parameters\n",
        "  \"\"\"               \n",
        "  beta_array = list()\n",
        "  cost_array = list()\n",
        "\n",
        "  for _ in range(n_interations):\n",
        "    # step size\n",
        "    betas -= learn_rate * grad(X, betas, y)\n",
        "\n",
        "    # cost function\n",
        "    cost_tosave = cost(betas, X, y)\n",
        "\n",
        "    # check if the diff of two consecutive interations is low\n",
        "    if len(cost_array) > 2 and (cost_array[-1] - cost_tosave < 0.0000000001):\n",
        "      break\n",
        "\n",
        "    # saving list of numpy arrays \n",
        "    cost_array.append(cost_tosave)\n",
        "    beta_array.append(betas.copy()) # copying the betas to solve numpy pointer to the memory issue\n",
        "\n",
        "  return np.array(beta_array), np.array(cost_array)\n"
      ],
      "execution_count": null,
      "outputs": []
    },
    {
      "cell_type": "code",
      "metadata": {
        "colab": {
          "base_uri": "https://localhost:8080/"
        },
        "id": "JMY0_vmQKvHD",
        "outputId": "738f33d7-2bd0-4d86-b4e5-0e48ad8f8cb7"
      },
      "source": [
        "\n",
        "\n",
        "#-- Test 1  - simple reg\n",
        "start = [0,  1]  \n",
        "n_interations = 5000\n",
        "new_betas, cost_f= grad_descent(start, Xs_stand_r, y, n_interations, 0.001)\n",
        "print('Optimal betas \\n \\nSingle variable: ', new_betas[-1], 'Least error: ', np.min(cost_f))\n",
        "\n",
        "#-- Test 2 - multiple reg\n",
        "start_m = [0,  1, 0 , 5] \n",
        "new_betas_m, cost_f_m = grad_descent(start_m, Xm_stand_r, y, n_interations, 0.001)\n",
        "print('\\nMultiple variable: ', new_betas_m[-1], 'Least error: ', np.min(cost_f_m))"
      ],
      "execution_count": null,
      "outputs": [
        {
          "output_type": "stream",
          "name": "stdout",
          "text": [
            "Optimal betas \n",
            " \n",
            "Single variable:  [143.81248903  65.0941608 ] Least error:  3150.279083499\n",
            "\n",
            "Multiple variable:  [143.81248903  39.47047907  11.82305362  23.2272004 ] Least error:  3010.164082181931\n"
          ]
        }
      ]
    },
    {
      "cell_type": "markdown",
      "metadata": {
        "id": "UcCFIXUbKgqS"
      },
      "source": [
        "## Experiment with several initialisations: visualisation of the cost function and parameter values during the iterations"
      ]
    },
    {
      "cell_type": "code",
      "metadata": {
        "id": "HDVoVhYKDbJO"
      },
      "source": [
        "# simple reg\n",
        "param = [[0,1],[50,25],[180,85]]\n",
        "\n",
        "_,cost_f_2= grad_descent(param[1], Xs_stand_r, y, n_interations, 0.005)\n",
        "_,cost_f_3= grad_descent(param[2], Xs_stand_r, y, n_interations, 0.005)\n",
        "\n",
        "y_axis_s = [cost_f, cost_f_2, cost_f_3]\n",
        "\n",
        "# multiple reg \n",
        "param_m = [[0,  1, 0 , 5],[75, 25, 5, 10],  [180, 85, 20, 40]]\n",
        "\n",
        "_, cost_f_m_2= grad_descent(param_m[1], Xm_stand_r, y, n_interations, 0.005)\n",
        "_, cost_f_m_3= grad_descent(param_m[2], Xm_stand_r, y, n_interations, 0.005)\n",
        "\n",
        "y_axis_m = [cost_f_m, cost_f_m_2, cost_f_m_3]\n"
      ],
      "execution_count": null,
      "outputs": []
    },
    {
      "cell_type": "code",
      "metadata": {
        "colab": {
          "base_uri": "https://localhost:8080/",
          "height": 351
        },
        "id": "MIoQPBpfOpg3",
        "outputId": "2e1de1f6-7933-4b5d-ba53-fcfb6303c9db"
      },
      "source": [
        "def plot_comparison(y_axis_s:list, \n",
        "                    y_axis_m:list,\n",
        "                    param_s:list,\n",
        "                    param_m:list, \n",
        "                    x_axis_s=None,\n",
        "                    x_axis_m=None,\n",
        "                    legend:str = ''):\n",
        "\n",
        "    \"\"\" Plot a comparison between single and multiple regression \"\"\"\n",
        "\n",
        "    #-- Test 1  - simple reg \n",
        "    fig, (ax1, ax2) = plt.subplots(ncols=2, figsize=(15, 5))\n",
        "    ax1.plot(y_axis_s[0], label = f'{param_s[0]}')\n",
        "    ax1.plot(y_axis_s[1], label = f'{param_s[1]}')\n",
        "    ax1.plot(y_axis_s[2], label = f'{param_s[2]}')\n",
        "    ax1.set_title(f'Cost X Interations (Simple Regression)\\n {legend}')\n",
        "    ax1.set_ylabel('MSE')\n",
        "    ax1.legend()\n",
        "\n",
        "    #-- Test 2 - multiple reg\n",
        "    ax2.plot(y_axis_m[0], label = f'{param_m[0]}')\n",
        "    ax2.plot(y_axis_m[1], label = f'{param_m[1]}')\n",
        "    ax2.plot(y_axis_m[2], label = f'{param_m[2]}')\n",
        "    ax2.set_title(f'Cost X Interations (Multiple Regression)\\n {legend}')\n",
        "    ax2.set_ylabel('MSE')\n",
        "    ax2.legend()\n",
        "\n",
        "    plt.show()\n",
        "\n",
        "plot_comparison(y_axis_s, y_axis_m, param, param_m, legend=\"Different Initialisation Values\" )"
      ],
      "execution_count": null,
      "outputs": [
        {
          "output_type": "display_data",
          "data": {
            "image/png": "[encoded data removed]",
            "text/plain": [
              "<Figure size 1080x360 with 2 Axes>"
            ]
          },
          "metadata": {
            "needs_background": "light"
          }
        }
      ]
    },
    {
      "cell_type": "markdown",
      "metadata": {
        "id": "Z_Gsz_87KgqT"
      },
      "source": [
        "**Notes:**\n",
        "The initialisation values (b0 and b1) play an important role on how the algorithm will learn the optimal parameters. If too low, it might be necessary a very high number of interations to achieve the optimal results. If too high, you may overshoot your estimation. The graphs above shows that smaller init values take longer to achieve the lowest MSE values while higher scores achieve then faster. However, the highest init values [180, 85] and [180, 85, 20, 40] shows that the error starts low, but never achieve as low as the previous init values, since they are already higher than the optimal parameters that would provide the lowest MSE. \n"
      ]
    },
    {
      "cell_type": "markdown",
      "metadata": {
        "id": "DhP-jOMRKgqT"
      },
      "source": [
        "## Experiment with several learning rates: visualisation of the cost function and parameter values during the iterations"
      ]
    },
    {
      "cell_type": "code",
      "metadata": {
        "id": "GCaeVQCTTX83"
      },
      "source": [
        "# simple reg\n",
        "learn = [0.001, 0.0001, 0.00001]\n",
        "\n",
        "_,cost_f_2_lr = grad_descent(param[0], Xs_stand_r, y, n_interations, learn[1])\n",
        "_,cost_f_3_lr = grad_descent(param[0], Xs_stand_r, y, n_interations, learn[2])\n",
        "\n",
        "y_axis_s_learn = [cost_f, cost_f_2_lr, cost_f_3_lr]\n",
        "\n",
        "# multiple reg \n",
        "\n",
        "_, cost_f_m_2_lr= grad_descent(param_m[0], Xm_stand_r, y, n_interations, learn[1])\n",
        "_, cost_f_m_3_lr= grad_descent(param_m[0], Xm_stand_r, y, n_interations, learn[2])\n",
        "\n",
        "y_axis_m_learn = [cost_f_m, cost_f_m_2_lr, cost_f_m_3_lr]"
      ],
      "execution_count": null,
      "outputs": []
    },
    {
      "cell_type": "code",
      "metadata": {
        "id": "5_YElMxaVj3U"
      },
      "source": [
        "plot_comparison(y_axis_s_learn, y_axis_m_learn, learn, learn, legend=\"Different Learning Rates\" )"
      ],
      "execution_count": null,
      "outputs": []
    },
    {
      "cell_type": "markdown",
      "metadata": {
        "id": "zjOXg-bVKgqT"
      },
      "source": [
        "**Notes:**\n",
        "The graph above uses the same init parameters [0, 1] and [0,1,0,5] for simple and multiple regression, respectively. The learning rate defines how big is the step between two consecutive tested hyperparameters. If too small (orange and green line) it will require more interactions in order to stabilises the error. "
      ]
    },
    {
      "cell_type": "markdown",
      "metadata": {
        "id": "xNw9Ecc-KgqT"
      },
      "source": [
        "## Notes\n",
        "**on the choice of the stopping criterion:** It is not always necessary to run the algorithm until the end of the pre-defined number of interactions (since you do not know how mamy exactly you would need). Therefore, an additional stopping criteria was added in order to stop the loop if the difference between two consecutive MSE values were smaller than 0.0000000001, which indicates that from this error onwards the algorithm is no longer improving. \n",
        "\n",
        "\n",
        "\n",
        "\n",
        "**on the data normalisation:** Data normalisation is an important pre-processing step that facilitates the interpretations of the results, specially among variables that are in different scales, once all the normalised variables are rescaled in reference to how close or far, in terms of standard deviations, they are from their mean center.\n",
        "\n",
        "\n",
        "\n"
      ]
    },
    {
      "cell_type": "markdown",
      "metadata": {
        "id": "x7pPW8ZaKgqT"
      },
      "source": [
        "**Notes:**\n",
        "\n",
        "Linear regression is a straight forward approach for modelling the relationship between dependent and independent variables, when the indepedent variable is a continous variable."
      ]
    }
  ]
}