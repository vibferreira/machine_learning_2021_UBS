{
  "nbformat": 4,
  "nbformat_minor": 0,
  "metadata": {
    "kernelspec": {
      "display_name": "Python 3",
      "language": "python",
      "name": "python3"
    },
    "language_info": {
      "codemirror_mode": {
        "name": "ipython",
        "version": 3
      },
      "file_extension": ".py",
      "mimetype": "text/x-python",
      "name": "python",
      "nbconvert_exporter": "python",
      "pygments_lexer": "ipython3",
      "version": "3.8.5"
    },
    "colab": {
      "name": "BARBOSA_FERREIRA_Lab_LogReg.ipynb",
      "provenance": [],
      "collapsed_sections": [],
      "include_colab_link": true
    }
  },
  "cells": [
    {
      "cell_type": "markdown",
      "metadata": {
        "id": "view-in-github",
        "colab_type": "text"
      },
      "source": [
        "<a href=\"https://colab.research.google.com/github/vibferreira/machine_learning_2021_UBS/blob/main/BARBOSA_FERREIRA_Lab_LogReg.ipynb\" target=\"_parent\"><img src=\"https://colab.research.google.com/assets/colab-badge.svg\" alt=\"Open In Colab\"/></a>"
      ]
    },
    {
      "cell_type": "markdown",
      "metadata": {
        "id": "NXc4t1PpSe7t"
      },
      "source": [
        "# Practical lab: Logistic Regression by using the gradient descent algorithm"
      ]
    },
    {
      "cell_type": "markdown",
      "metadata": {
        "id": "JAUyHNUPSe7x"
      },
      "source": [
        "## Utils"
      ]
    },
    {
      "cell_type": "code",
      "metadata": {
        "id": "maZfEu8MSe7y"
      },
      "source": [
        "import os # working directory\n",
        "import pandas as pd # data analysis\n",
        "from scipy import stats # descriptive statistics\n",
        "import matplotlib.pyplot as plt # graphics\n",
        "import numpy as np # maths\n",
        "import sklearn.preprocessing # data standardisation\n",
        "from collections import Counter # table frequency\n",
        "from sklearn.metrics import accuracy_score\n",
        "import seaborn as sns\n",
        "\n",
        "from sklearn import datasets # data\n",
        "from sklearn.linear_model import LogisticRegression, ElasticNet, Ridge # Logistic Regression\n",
        "from sklearn.model_selection import train_test_split, KFold, cross_val_score, GridSearchCV # train and test samples\n",
        "from sklearn.metrics import confusion_matrix # confusion matrix\n",
        "from scipy import optimize # optimisation algorithms"
      ],
      "execution_count": null,
      "outputs": []
    },
    {
      "cell_type": "markdown",
      "metadata": {
        "id": "pCvquYiSSe7z"
      },
      "source": [
        "## Data"
      ]
    },
    {
      "cell_type": "markdown",
      "metadata": {
        "id": "4KAm9rIySe7z"
      },
      "source": [
        "The data relates to a breast cancer clinical study conducted at the University of Winconsin. This is to predict the status of the tumor (malignant=1 or benign=0) from characteristics of cells taken from patients\n",
        "* radius (mean of distances from center to points on the perimeter)\n",
        "* texture (standard deviation of gray-scale values)\n",
        "* perimeter\n",
        "* area\n",
        "* ···\n",
        "\n",
        "Objective: to study the probability of having a malignant tumor depending on certain characteristics\n",
        "\n",
        "The data was originally published by W.N. Street, W.H. Wolberg and O.L. Mangasarian. Nuclear feature extraction for breast tumor diagnosis. IS&T/SPIE 1993 International Symposium on Electronic Imaging : Science and Technology, volume 1905, pages 861-870, San Jose, CA, 1993."
      ]
    },
    {
      "cell_type": "markdown",
      "metadata": {
        "id": "UefmjH17Se70"
      },
      "source": [
        "The practical lab includes the following steps (you must fill in the different notebook cells)\n",
        "* Import data\n",
        "* Build the necessary functions: f, cost, gradient then implement the gradient descent algorithm (some functions are identical to those produced in the case of the linear regression)\n",
        "* Test for the case of simple logistic regression\n",
        "* Then extend the test to multiple logistic regression\n",
        "* Return the model coefficients and the values of the cost function for all iterations\n",
        "* Vary the parameters of the algorithm (initialization, learning rate) and comment.\n",
        "* Compare with native Python optimization solutions (no exact solution here)"
      ]
    },
    {
      "cell_type": "code",
      "metadata": {
        "colab": {
          "base_uri": "https://localhost:8080/"
        },
        "id": "mglS0I8jSe70",
        "outputId": "ba22093d-e49f-47b8-fa5e-e1c80fd7261a"
      },
      "source": [
        "#-- Data import\n",
        "breast_cancer = datasets.load_breast_cancer()\n",
        "print(breast_cancer.DESCR)\n",
        "#Data Set Characteristics:\n",
        "#    :Number of Instances: 569\n",
        "#\n",
        "#    :Number of Attributes: 30 numeric, predictive attributes and the class\n",
        "#\n",
        "#    :Attribute Information:\n",
        "#        - radius (mean of distances from center to points on the perimeter)\n",
        "#        - texture (standard deviation of gray-scale values)\n",
        "#        - perimeter\n",
        "#        - area\n",
        "#        - smoothness (local variation in radius lengths)\n",
        "#        - compactness (perimeter^2 / area - 1.0)\n",
        "#        - concavity (severity of concave portions of the contour)\n",
        "#        - concave points (number of concave portions of the contour)\n",
        "#        - symmetry\n",
        "#        - fractal dimension (\"coastline approximation\" - 1)\n",
        "#\n",
        "#        The mean, standard error, and \"worst\" or largest (mean of the three\n",
        "#        largest values) of these features were computed for each image,\n",
        "#        resulting in 30 features.  For instance, field 3 is Mean Radius, field\n",
        "#        13 is Radius SE, field 23 is Worst Radius.\n",
        "#\n",
        "#        - class:\n",
        "#                - WDBC-Malignant\n",
        "#                - WDBC-Benign"
      ],
      "execution_count": null,
      "outputs": [
        {
          "output_type": "stream",
          "name": "stdout",
          "text": [
            ".. _breast_cancer_dataset:\n",
            "\n",
            "Breast cancer wisconsin (diagnostic) dataset\n",
            "--------------------------------------------\n",
            "\n",
            "**Data Set Characteristics:**\n",
            "\n",
            "    :Number of Instances: 569\n",
            "\n",
            "    :Number of Attributes: 30 numeric, predictive attributes and the class\n",
            "\n",
            "    :Attribute Information:\n",
            "        - radius (mean of distances from center to points on the perimeter)\n",
            "        - texture (standard deviation of gray-scale values)\n",
            "        - perimeter\n",
            "        - area\n",
            "        - smoothness (local variation in radius lengths)\n",
            "        - compactness (perimeter^2 / area - 1.0)\n",
            "        - concavity (severity of concave portions of the contour)\n",
            "        - concave points (number of concave portions of the contour)\n",
            "        - symmetry \n",
            "        - fractal dimension (\"coastline approximation\" - 1)\n",
            "\n",
            "        The mean, standard error, and \"worst\" or largest (mean of the three\n",
            "        largest values) of these features were computed for each image,\n",
            "        resulting in 30 features.  For instance, field 3 is Mean Radius, field\n",
            "        13 is Radius SE, field 23 is Worst Radius.\n",
            "\n",
            "        - class:\n",
            "                - WDBC-Malignant\n",
            "                - WDBC-Benign\n",
            "\n",
            "    :Summary Statistics:\n",
            "\n",
            "    ===================================== ====== ======\n",
            "                                           Min    Max\n",
            "    ===================================== ====== ======\n",
            "    radius (mean):                        6.981  28.11\n",
            "    texture (mean):                       9.71   39.28\n",
            "    perimeter (mean):                     43.79  188.5\n",
            "    area (mean):                          143.5  2501.0\n",
            "    smoothness (mean):                    0.053  0.163\n",
            "    compactness (mean):                   0.019  0.345\n",
            "    concavity (mean):                     0.0    0.427\n",
            "    concave points (mean):                0.0    0.201\n",
            "    symmetry (mean):                      0.106  0.304\n",
            "    fractal dimension (mean):             0.05   0.097\n",
            "    radius (standard error):              0.112  2.873\n",
            "    texture (standard error):             0.36   4.885\n",
            "    perimeter (standard error):           0.757  21.98\n",
            "    area (standard error):                6.802  542.2\n",
            "    smoothness (standard error):          0.002  0.031\n",
            "    compactness (standard error):         0.002  0.135\n",
            "    concavity (standard error):           0.0    0.396\n",
            "    concave points (standard error):      0.0    0.053\n",
            "    symmetry (standard error):            0.008  0.079\n",
            "    fractal dimension (standard error):   0.001  0.03\n",
            "    radius (worst):                       7.93   36.04\n",
            "    texture (worst):                      12.02  49.54\n",
            "    perimeter (worst):                    50.41  251.2\n",
            "    area (worst):                         185.2  4254.0\n",
            "    smoothness (worst):                   0.071  0.223\n",
            "    compactness (worst):                  0.027  1.058\n",
            "    concavity (worst):                    0.0    1.252\n",
            "    concave points (worst):               0.0    0.291\n",
            "    symmetry (worst):                     0.156  0.664\n",
            "    fractal dimension (worst):            0.055  0.208\n",
            "    ===================================== ====== ======\n",
            "\n",
            "    :Missing Attribute Values: None\n",
            "\n",
            "    :Class Distribution: 212 - Malignant, 357 - Benign\n",
            "\n",
            "    :Creator:  Dr. William H. Wolberg, W. Nick Street, Olvi L. Mangasarian\n",
            "\n",
            "    :Donor: Nick Street\n",
            "\n",
            "    :Date: November, 1995\n",
            "\n",
            "This is a copy of UCI ML Breast Cancer Wisconsin (Diagnostic) datasets.\n",
            "https://goo.gl/U2Uwz2\n",
            "\n",
            "Features are computed from a digitized image of a fine needle\n",
            "aspirate (FNA) of a breast mass.  They describe\n",
            "characteristics of the cell nuclei present in the image.\n",
            "\n",
            "Separating plane described above was obtained using\n",
            "Multisurface Method-Tree (MSM-T) [K. P. Bennett, \"Decision Tree\n",
            "Construction Via Linear Programming.\" Proceedings of the 4th\n",
            "Midwest Artificial Intelligence and Cognitive Science Society,\n",
            "pp. 97-101, 1992], a classification method which uses linear\n",
            "programming to construct a decision tree.  Relevant features\n",
            "were selected using an exhaustive search in the space of 1-4\n",
            "features and 1-3 separating planes.\n",
            "\n",
            "The actual linear program used to obtain the separating plane\n",
            "in the 3-dimensional space is that described in:\n",
            "[K. P. Bennett and O. L. Mangasarian: \"Robust Linear\n",
            "Programming Discrimination of Two Linearly Inseparable Sets\",\n",
            "Optimization Methods and Software 1, 1992, 23-34].\n",
            "\n",
            "This database is also available through the UW CS ftp server:\n",
            "\n",
            "ftp ftp.cs.wisc.edu\n",
            "cd math-prog/cpo-dataset/machine-learn/WDBC/\n",
            "\n",
            ".. topic:: References\n",
            "\n",
            "   - W.N. Street, W.H. Wolberg and O.L. Mangasarian. Nuclear feature extraction \n",
            "     for breast tumor diagnosis. IS&T/SPIE 1993 International Symposium on \n",
            "     Electronic Imaging: Science and Technology, volume 1905, pages 861-870,\n",
            "     San Jose, CA, 1993.\n",
            "   - O.L. Mangasarian, W.N. Street and W.H. Wolberg. Breast cancer diagnosis and \n",
            "     prognosis via linear programming. Operations Research, 43(4), pages 570-577, \n",
            "     July-August 1995.\n",
            "   - W.H. Wolberg, W.N. Street, and O.L. Mangasarian. Machine learning techniques\n",
            "     to diagnose breast cancer from fine-needle aspirates. Cancer Letters 77 (1994) \n",
            "     163-171.\n"
          ]
        }
      ]
    },
    {
      "cell_type": "code",
      "metadata": {
        "id": "kqR963IASe73"
      },
      "source": [
        "#-- Descriptive stat\n",
        "dat=breast_cancer.data\n",
        "Y=breast_cancer.target\n",
        "names = breast_cancer.feature_names\n",
        "\n",
        "#%% Stat descriptives\n",
        "df=pd.DataFrame(dat)\n",
        "df_y=pd.DataFrame(Y)\n",
        "df.columns=names # pour ajouter les noms de colonnes\n",
        "df['Y'] = df_y"
      ],
      "execution_count": null,
      "outputs": []
    },
    {
      "cell_type": "code",
      "metadata": {
        "id": "LaFUcGu3Se74",
        "colab": {
          "base_uri": "https://localhost:8080/",
          "height": 164
        },
        "outputId": "716e30ff-4416-44a7-9880-b4ca93a991ae"
      },
      "source": [
        "# Some stats with Counter\n",
        "Counter(Y) # nb of cases / controls\n",
        "df.groupby(Y).mean()"
      ],
      "execution_count": null,
      "outputs": [
        {
          "output_type": "execute_result",
          "data": {
            "text/html": [
              "<div>\n",
              "<style scoped>\n",
              "    .dataframe tbody tr th:only-of-type {\n",
              "        vertical-align: middle;\n",
              "    }\n",
              "\n",
              "    .dataframe tbody tr th {\n",
              "        vertical-align: top;\n",
              "    }\n",
              "\n",
              "    .dataframe thead th {\n",
              "        text-align: right;\n",
              "    }\n",
              "</style>\n",
              "<table border=\"1\" class=\"dataframe\">\n",
              "  <thead>\n",
              "    <tr style=\"text-align: right;\">\n",
              "      <th></th>\n",
              "      <th>mean radius</th>\n",
              "      <th>mean texture</th>\n",
              "      <th>mean perimeter</th>\n",
              "      <th>mean area</th>\n",
              "      <th>mean smoothness</th>\n",
              "      <th>mean compactness</th>\n",
              "      <th>mean concavity</th>\n",
              "      <th>mean concave points</th>\n",
              "      <th>mean symmetry</th>\n",
              "      <th>mean fractal dimension</th>\n",
              "      <th>radius error</th>\n",
              "      <th>texture error</th>\n",
              "      <th>perimeter error</th>\n",
              "      <th>area error</th>\n",
              "      <th>smoothness error</th>\n",
              "      <th>compactness error</th>\n",
              "      <th>concavity error</th>\n",
              "      <th>concave points error</th>\n",
              "      <th>symmetry error</th>\n",
              "      <th>fractal dimension error</th>\n",
              "      <th>worst radius</th>\n",
              "      <th>worst texture</th>\n",
              "      <th>worst perimeter</th>\n",
              "      <th>worst area</th>\n",
              "      <th>worst smoothness</th>\n",
              "      <th>worst compactness</th>\n",
              "      <th>worst concavity</th>\n",
              "      <th>worst concave points</th>\n",
              "      <th>worst symmetry</th>\n",
              "      <th>worst fractal dimension</th>\n",
              "      <th>Y</th>\n",
              "    </tr>\n",
              "  </thead>\n",
              "  <tbody>\n",
              "    <tr>\n",
              "      <th>0</th>\n",
              "      <td>17.462830</td>\n",
              "      <td>21.604906</td>\n",
              "      <td>115.365377</td>\n",
              "      <td>978.376415</td>\n",
              "      <td>0.102898</td>\n",
              "      <td>0.145188</td>\n",
              "      <td>0.160775</td>\n",
              "      <td>0.087990</td>\n",
              "      <td>0.192909</td>\n",
              "      <td>0.062680</td>\n",
              "      <td>0.609083</td>\n",
              "      <td>1.210915</td>\n",
              "      <td>4.323929</td>\n",
              "      <td>72.672406</td>\n",
              "      <td>0.006780</td>\n",
              "      <td>0.032281</td>\n",
              "      <td>0.041824</td>\n",
              "      <td>0.015060</td>\n",
              "      <td>0.020472</td>\n",
              "      <td>0.004062</td>\n",
              "      <td>21.134811</td>\n",
              "      <td>29.318208</td>\n",
              "      <td>141.370330</td>\n",
              "      <td>1422.286321</td>\n",
              "      <td>0.144845</td>\n",
              "      <td>0.374824</td>\n",
              "      <td>0.450606</td>\n",
              "      <td>0.182237</td>\n",
              "      <td>0.323468</td>\n",
              "      <td>0.091530</td>\n",
              "      <td>0</td>\n",
              "    </tr>\n",
              "    <tr>\n",
              "      <th>1</th>\n",
              "      <td>12.146524</td>\n",
              "      <td>17.914762</td>\n",
              "      <td>78.075406</td>\n",
              "      <td>462.790196</td>\n",
              "      <td>0.092478</td>\n",
              "      <td>0.080085</td>\n",
              "      <td>0.046058</td>\n",
              "      <td>0.025717</td>\n",
              "      <td>0.174186</td>\n",
              "      <td>0.062867</td>\n",
              "      <td>0.284082</td>\n",
              "      <td>1.220380</td>\n",
              "      <td>2.000321</td>\n",
              "      <td>21.135148</td>\n",
              "      <td>0.007196</td>\n",
              "      <td>0.021438</td>\n",
              "      <td>0.025997</td>\n",
              "      <td>0.009858</td>\n",
              "      <td>0.020584</td>\n",
              "      <td>0.003636</td>\n",
              "      <td>13.379801</td>\n",
              "      <td>23.515070</td>\n",
              "      <td>87.005938</td>\n",
              "      <td>558.899440</td>\n",
              "      <td>0.124959</td>\n",
              "      <td>0.182673</td>\n",
              "      <td>0.166238</td>\n",
              "      <td>0.074444</td>\n",
              "      <td>0.270246</td>\n",
              "      <td>0.079442</td>\n",
              "      <td>1</td>\n",
              "    </tr>\n",
              "  </tbody>\n",
              "</table>\n",
              "</div>"
            ],
            "text/plain": [
              "   mean radius  mean texture  ...  worst fractal dimension  Y\n",
              "0    17.462830     21.604906  ...                 0.091530  0\n",
              "1    12.146524     17.914762  ...                 0.079442  1\n",
              "\n",
              "[2 rows x 31 columns]"
            ]
          },
          "metadata": {},
          "execution_count": 4
        }
      ]
    },
    {
      "cell_type": "code",
      "metadata": {
        "colab": {
          "base_uri": "https://localhost:8080/",
          "height": 279
        },
        "id": "I3TgSt7q98AL",
        "outputId": "ce4f7686-894e-4b5d-e7a4-7e6f29a396cd"
      },
      "source": [
        "# Retrieving 3 first smallest negative correlactions \n",
        "corr = df.corr().sort_values(by=['Y'])[:3]\n",
        "corr"
      ],
      "execution_count": null,
      "outputs": [
        {
          "output_type": "execute_result",
          "data": {
            "text/html": [
              "<div>\n",
              "<style scoped>\n",
              "    .dataframe tbody tr th:only-of-type {\n",
              "        vertical-align: middle;\n",
              "    }\n",
              "\n",
              "    .dataframe tbody tr th {\n",
              "        vertical-align: top;\n",
              "    }\n",
              "\n",
              "    .dataframe thead th {\n",
              "        text-align: right;\n",
              "    }\n",
              "</style>\n",
              "<table border=\"1\" class=\"dataframe\">\n",
              "  <thead>\n",
              "    <tr style=\"text-align: right;\">\n",
              "      <th></th>\n",
              "      <th>mean radius</th>\n",
              "      <th>mean texture</th>\n",
              "      <th>mean perimeter</th>\n",
              "      <th>mean area</th>\n",
              "      <th>mean smoothness</th>\n",
              "      <th>mean compactness</th>\n",
              "      <th>mean concavity</th>\n",
              "      <th>mean concave points</th>\n",
              "      <th>mean symmetry</th>\n",
              "      <th>mean fractal dimension</th>\n",
              "      <th>radius error</th>\n",
              "      <th>texture error</th>\n",
              "      <th>perimeter error</th>\n",
              "      <th>area error</th>\n",
              "      <th>smoothness error</th>\n",
              "      <th>compactness error</th>\n",
              "      <th>concavity error</th>\n",
              "      <th>concave points error</th>\n",
              "      <th>symmetry error</th>\n",
              "      <th>fractal dimension error</th>\n",
              "      <th>worst radius</th>\n",
              "      <th>worst texture</th>\n",
              "      <th>worst perimeter</th>\n",
              "      <th>worst area</th>\n",
              "      <th>worst smoothness</th>\n",
              "      <th>worst compactness</th>\n",
              "      <th>worst concavity</th>\n",
              "      <th>worst concave points</th>\n",
              "      <th>worst symmetry</th>\n",
              "      <th>worst fractal dimension</th>\n",
              "      <th>Y</th>\n",
              "    </tr>\n",
              "  </thead>\n",
              "  <tbody>\n",
              "    <tr>\n",
              "      <th>worst concave points</th>\n",
              "      <td>0.744214</td>\n",
              "      <td>0.295316</td>\n",
              "      <td>0.771241</td>\n",
              "      <td>0.722017</td>\n",
              "      <td>0.503053</td>\n",
              "      <td>0.815573</td>\n",
              "      <td>0.861323</td>\n",
              "      <td>0.910155</td>\n",
              "      <td>0.430297</td>\n",
              "      <td>0.175325</td>\n",
              "      <td>0.531062</td>\n",
              "      <td>-0.119638</td>\n",
              "      <td>0.554897</td>\n",
              "      <td>0.538166</td>\n",
              "      <td>-0.102007</td>\n",
              "      <td>0.483208</td>\n",
              "      <td>0.440472</td>\n",
              "      <td>0.602450</td>\n",
              "      <td>-0.030413</td>\n",
              "      <td>0.215204</td>\n",
              "      <td>0.787424</td>\n",
              "      <td>0.359755</td>\n",
              "      <td>0.816322</td>\n",
              "      <td>0.747419</td>\n",
              "      <td>0.547691</td>\n",
              "      <td>0.801080</td>\n",
              "      <td>0.855434</td>\n",
              "      <td>1.000000</td>\n",
              "      <td>0.502528</td>\n",
              "      <td>0.511114</td>\n",
              "      <td>-0.793566</td>\n",
              "    </tr>\n",
              "    <tr>\n",
              "      <th>worst perimeter</th>\n",
              "      <td>0.965137</td>\n",
              "      <td>0.358040</td>\n",
              "      <td>0.970387</td>\n",
              "      <td>0.959120</td>\n",
              "      <td>0.238853</td>\n",
              "      <td>0.590210</td>\n",
              "      <td>0.729565</td>\n",
              "      <td>0.855923</td>\n",
              "      <td>0.219169</td>\n",
              "      <td>-0.205151</td>\n",
              "      <td>0.719684</td>\n",
              "      <td>-0.102242</td>\n",
              "      <td>0.721031</td>\n",
              "      <td>0.761213</td>\n",
              "      <td>-0.217304</td>\n",
              "      <td>0.260516</td>\n",
              "      <td>0.226680</td>\n",
              "      <td>0.394999</td>\n",
              "      <td>-0.103753</td>\n",
              "      <td>-0.001000</td>\n",
              "      <td>0.993708</td>\n",
              "      <td>0.365098</td>\n",
              "      <td>1.000000</td>\n",
              "      <td>0.977578</td>\n",
              "      <td>0.236775</td>\n",
              "      <td>0.529408</td>\n",
              "      <td>0.618344</td>\n",
              "      <td>0.816322</td>\n",
              "      <td>0.269493</td>\n",
              "      <td>0.138957</td>\n",
              "      <td>-0.782914</td>\n",
              "    </tr>\n",
              "    <tr>\n",
              "      <th>mean concave points</th>\n",
              "      <td>0.822529</td>\n",
              "      <td>0.293464</td>\n",
              "      <td>0.850977</td>\n",
              "      <td>0.823269</td>\n",
              "      <td>0.553695</td>\n",
              "      <td>0.831135</td>\n",
              "      <td>0.921391</td>\n",
              "      <td>1.000000</td>\n",
              "      <td>0.462497</td>\n",
              "      <td>0.166917</td>\n",
              "      <td>0.698050</td>\n",
              "      <td>0.021480</td>\n",
              "      <td>0.710650</td>\n",
              "      <td>0.690299</td>\n",
              "      <td>0.027653</td>\n",
              "      <td>0.490424</td>\n",
              "      <td>0.439167</td>\n",
              "      <td>0.615634</td>\n",
              "      <td>0.095351</td>\n",
              "      <td>0.257584</td>\n",
              "      <td>0.830318</td>\n",
              "      <td>0.292752</td>\n",
              "      <td>0.855923</td>\n",
              "      <td>0.809630</td>\n",
              "      <td>0.452753</td>\n",
              "      <td>0.667454</td>\n",
              "      <td>0.752399</td>\n",
              "      <td>0.910155</td>\n",
              "      <td>0.375744</td>\n",
              "      <td>0.368661</td>\n",
              "      <td>-0.776614</td>\n",
              "    </tr>\n",
              "  </tbody>\n",
              "</table>\n",
              "</div>"
            ],
            "text/plain": [
              "                      mean radius  ...         Y\n",
              "worst concave points     0.744214  ... -0.793566\n",
              "worst perimeter          0.965137  ... -0.782914\n",
              "mean concave points      0.822529  ... -0.776614\n",
              "\n",
              "[3 rows x 31 columns]"
            ]
          },
          "metadata": {},
          "execution_count": 5
        }
      ]
    },
    {
      "cell_type": "code",
      "metadata": {
        "id": "cs5fwlvKSe75",
        "colab": {
          "base_uri": "https://localhost:8080/",
          "height": 803
        },
        "outputId": "fe835ff4-1745-479d-8dcc-7dfa32eaf653"
      },
      "source": [
        "#-- Plots\n",
        "for i in corr.index:\n",
        "    df.plot.scatter(x=i, y='Y')"
      ],
      "execution_count": null,
      "outputs": [
        {
          "output_type": "display_data",
          "data": {
            "image/png": "[encoded data removed]",
            "text/plain": [
              "<Figure size 432x288 with 1 Axes>"
            ]
          },
          "metadata": {
            "needs_background": "light"
          }
        },
        {
          "output_type": "display_data",
          "data": {
            "image/png": "[encoded data removed]",
            "text/plain": [
              "<Figure size 432x288 with 1 Axes>"
            ]
          },
          "metadata": {
            "needs_background": "light"
          }
        },
        {
          "output_type": "display_data",
          "data": {
            "image/png": "[encoded data removed]",
            "text/plain": [
              "<Figure size 432x288 with 1 Axes>"
            ]
          },
          "metadata": {
            "needs_background": "light"
          }
        }
      ]
    },
    {
      "cell_type": "code",
      "metadata": {
        "id": "mqjyvM0iSe75",
        "colab": {
          "base_uri": "https://localhost:8080/"
        },
        "outputId": "428d7ab2-7364-48c6-aa4c-077ae6ffaf24"
      },
      "source": [
        "#-- Buils Xs and Xm for simple and multiple logistic regresstion\n",
        "Xs = np.vstack(df[corr.index[0]])\n",
        "Xm = df[corr.index].to_numpy()\n",
        "\n",
        "print(Xs.shape, Xm.shape)"
      ],
      "execution_count": null,
      "outputs": [
        {
          "output_type": "stream",
          "name": "stdout",
          "text": [
            "(569, 1) (569, 3)\n"
          ]
        }
      ]
    },
    {
      "cell_type": "code",
      "metadata": {
        "colab": {
          "base_uri": "https://localhost:8080/"
        },
        "id": "8vMZzp41sFJN",
        "outputId": "b2ac6fd2-362d-4e28-a010-ab8f9c509bcb"
      },
      "source": [
        "Xm\n"
      ],
      "execution_count": null,
      "outputs": [
        {
          "output_type": "execute_result",
          "data": {
            "text/plain": [
              "array([[2.654e-01, 1.846e+02, 1.471e-01],\n",
              "       [1.860e-01, 1.588e+02, 7.017e-02],\n",
              "       [2.430e-01, 1.525e+02, 1.279e-01],\n",
              "       ...,\n",
              "       [1.418e-01, 1.267e+02, 5.302e-02],\n",
              "       [2.650e-01, 1.846e+02, 1.520e-01],\n",
              "       [0.000e+00, 5.916e+01, 0.000e+00]])"
            ]
          },
          "metadata": {},
          "execution_count": 8
        }
      ]
    },
    {
      "cell_type": "markdown",
      "metadata": {
        "id": "Xwak6MV9Se75"
      },
      "source": [
        "## Logistic regression by using the gradient descent algorithm\n"
      ]
    },
    {
      "cell_type": "code",
      "metadata": {
        "id": "qAlQEwCPSe75"
      },
      "source": [
        "###### -- X standardisation\n",
        "def standardisation(X:np.array)-> np.array:\n",
        "  \"\"\" \n",
        "  X: variable(s) to be standardised \n",
        "  Returns np.array with standardized values around the mean center for each variable\n",
        "  \"\"\"\n",
        "  return (X-X.mean(axis=0))/X.std(axis=0,ddof=1)\n",
        "\n",
        "#-- Test 1 - simple regression\n",
        "Xs_stand = standardisation(Xs)\n",
        "\n",
        "#-- Test 2 - multiple regression\n",
        "Xm_stand = standardisation(Xm)"
      ],
      "execution_count": null,
      "outputs": []
    },
    {
      "cell_type": "code",
      "metadata": {
        "colab": {
          "base_uri": "https://localhost:8080/"
        },
        "id": "MGppILAefopa",
        "outputId": "00b8c61a-d553-4762-b483-007139dbc8a8"
      },
      "source": [
        "#-- Preparing the matrix used for the regression linear when using the gradient descent algorithm (add 1 column)\n",
        "ones = np.ones((Xs.shape[0],1))\n",
        "\n",
        "Xm_stand_r = np.hstack((ones, Xm_stand))\n",
        "Xs_stand_r = np.hstack((ones, Xs_stand))\n",
        "\n",
        "Xm_stand_r"
      ],
      "execution_count": null,
      "outputs": [
        {
          "output_type": "execute_result",
          "data": {
            "text/plain": [
              "array([[ 1.        ,  2.2940576 ,  2.30157548,  2.53024886],\n",
              "       [ 1.        ,  1.08612862,  1.53377643,  0.54766227],\n",
              "       [ 1.        ,  1.95328166,  1.34629062,  2.03543978],\n",
              "       ...,\n",
              "       [ 1.        ,  0.41370467,  0.57849157,  0.10568437],\n",
              "       [ 1.        ,  2.28797231,  2.30157548,  2.65652826],\n",
              "       [ 1.        , -1.7435287 , -1.4314754 , -1.26071029]])"
            ]
          },
          "metadata": {},
          "execution_count": 10
        }
      ]
    },
    {
      "cell_type": "code",
      "metadata": {
        "id": "VZ2ZRtBhSe76"
      },
      "source": [
        "#-- Model\n",
        "# be careful: X contains X_0 = [1,...,1] + X_j\n",
        "def f(x:np.array, \n",
        "      betas:np.array)->np.array:\n",
        "  \"\"\"\n",
        "  x: np.array, independent variable\n",
        "  betas: np.array, hyperparameters b0 and b1\n",
        "  Returns np.array of the predicted values (regression line)\n",
        "  \"\"\"\n",
        "  x=np.dot(x, betas)\n",
        "  return 1/(1 + np.exp(-x))\n",
        "\n",
        "#-- Test 1 - simple regression\n",
        "Xs_y_hat = f(Xs_stand_r,[0.2,0.2])\n",
        "#-- Test 2 - multiple regression\n",
        "Xm_y_hat = f(Xm_stand_r, [0.1,0.1,0.1,0.1])\n",
        "# x = np.linspace(test.min(),test.max(),569)\n",
        "# plt.plot(x,test)"
      ],
      "execution_count": null,
      "outputs": []
    },
    {
      "cell_type": "code",
      "metadata": {
        "colab": {
          "base_uri": "https://localhost:8080/"
        },
        "id": "UCy9udxgmbff",
        "outputId": "30a3f14e-8684-434f-b828-90d018437fe4"
      },
      "source": [
        "Xm_y_hat[:10]"
      ],
      "execution_count": null,
      "outputs": [
        {
          "output_type": "execute_result",
          "data": {
            "text/plain": [
              "array([0.69266076, 0.6027069 , 0.65328293, 0.60765327, 0.61047797,\n",
              "       0.56498321, 0.60370224, 0.54995059, 0.58682348, 0.58111438])"
            ]
          },
          "metadata": {},
          "execution_count": 12
        }
      ]
    },
    {
      "cell_type": "code",
      "metadata": {
        "id": "R3HcD4YJSe76",
        "colab": {
          "base_uri": "https://localhost:8080/"
        },
        "outputId": "45624be3-777a-4fa0-f358-33f8c3c138c8"
      },
      "source": [
        "#-- Cost function\n",
        "def cost(X:np.array,\n",
        "         y:np.array,\n",
        "         betas:np.array):\n",
        "  \"\"\"\n",
        "  X: np.array, independent variable\n",
        "  y: np.array, depedent variable\n",
        "  betas: np.array, hyperparameters b0 and b1\n",
        "  Return the mean of the squared residuals\n",
        "  \"\"\"\n",
        "\n",
        "  y_hat=f(X, betas)\n",
        "  # print(y_hat)\n",
        "  loss = -np.mean(y*np.log(y_hat) + (1-y)*np.log(1-y_hat)) #how to deal with inf\n",
        "\n",
        "  return loss\n",
        "\n",
        "#-- Test 1 - simple regression\n",
        "print('Simple regression: ', cost(Xs_stand_r,Y, [0.2,0.2]))\n",
        "\n",
        "\n",
        "#-- Test 2 - multiple regression\n",
        "print('Multiple regression: ',cost(Xm_stand_r, Y, [0.2,0.2,0.2,0.2]))\n"
      ],
      "execution_count": null,
      "outputs": [
        {
          "output_type": "stream",
          "name": "stdout",
          "text": [
            "Simple regression:  0.7542311892640812\n",
            "Multiple regression:  0.9382808744844654\n"
          ]
        }
      ]
    },
    {
      "cell_type": "code",
      "metadata": {
        "id": "McDfHUXFSe76",
        "colab": {
          "base_uri": "https://localhost:8080/"
        },
        "outputId": "6107431f-0801-475f-ae58-aa2dae0d4f58"
      },
      "source": [
        "#-- Gradient\n",
        "def grad(X:np.array, \n",
        "         y:np.array, \n",
        "         betas:np.array)->np.array:\n",
        "  \"\"\"\n",
        "  X: np.array, independent variable\n",
        "  y: np.array, depedent variable\n",
        "  betas: np.array, hyperparameters b0 and b1\n",
        "  Return np.array of the gradients of the function (derivatives in relation to the intercept and the slope)\n",
        "  \"\"\"\n",
        "  m = X.shape[0]\n",
        "  return 1/m*np.dot(f(X,betas)-y, X)\n",
        "\n",
        "\n",
        "#-- Test 1 - simple regression\n",
        "grad(Xs_stand_r,Y, [0.2,0.2])\n",
        "\n",
        "#-- Test 2 - multiple regression\n",
        "grad(Xm_stand_r,Y, [0,0,0,0])"
      ],
      "execution_count": null,
      "outputs": [
        {
          "output_type": "execute_result",
          "data": {
            "text/plain": [
              "array([-0.12741652,  0.38334594,  0.37820036,  0.37515689])"
            ]
          },
          "metadata": {},
          "execution_count": 14
        }
      ]
    },
    {
      "cell_type": "code",
      "metadata": {
        "id": "twdxWFeYKgqS"
      },
      "source": [
        "#%% Gradient descent algorithm\n",
        "def grad_descent(betas: np.array, \n",
        "                 X:np.array, \n",
        "                 y:np.array, \n",
        "                 n_interations: int, \n",
        "                 learn_rate: float) -> (np.array,int):\n",
        "\n",
        "  \"\"\"\n",
        "  betas: np.array, hyperparameters b0 and b1 (initialisation)\n",
        "  X: np.array, independent variable\n",
        "  y: np.array, depedent variable\n",
        "  n_interations: int, number of interations\n",
        "  learn_rate: float, the step in which the function learn the optimal parameters\n",
        "  \"\"\"               \n",
        "  beta_array = list()\n",
        "  cost_array = list()\n",
        "\n",
        "  for _ in range(n_interations):\n",
        "    # step size\n",
        "    betas -= learn_rate * grad(X, y, betas)\n",
        "\n",
        "    # cost function\n",
        "    cost_tosave = cost(X, y, betas)\n",
        "\n",
        "    # check if the diff of two consecutive interations is low\n",
        "    if len(cost_array) > 2 and (cost_array[-1] - cost_tosave < 0.0000000001):\n",
        "      break\n",
        "\n",
        "    # saving list of numpy arrays \n",
        "    cost_array.append(cost_tosave)\n",
        "    beta_array.append(betas.copy()) # copying the betas to solve numpy pointer to the memory issue\n",
        "\n",
        "  return np.array(beta_array), np.array(cost_array)\n"
      ],
      "execution_count": null,
      "outputs": []
    },
    {
      "cell_type": "code",
      "metadata": {
        "colab": {
          "base_uri": "https://localhost:8080/"
        },
        "id": "B-ISvl5G4dmb",
        "outputId": "0a78ef46-9de9-4c8a-f762-7bb2b9609d4c"
      },
      "source": [
        "#-- Test 1  - simple reg\n",
        "x_train_s, x_test_s, y_train_s, y_test_s = train_test_split(Xs_stand_r, Y, random_state=0,test_size=0.25)\n",
        "x_train_m, x_test_m, y_train_m, y_test_m = train_test_split(Xm_stand_r, Y, random_state=0,test_size=0.25)\n",
        "\n",
        "start = [0,  0]  \n",
        "n_interations = 20000\n",
        "new_betas, cost_f= grad_descent(start, x_train_s, y_train_s, n_interations, 0.001)\n",
        "print('Optimal betas \\n \\nSingle variable: ', new_betas[-1], 'Least error: ', np.min(cost_f))\n",
        "\n",
        "#-- Test 2 - multiple reg\n",
        "start_m = [0.5, 0.5, 0.5 , 0.5] \n",
        "new_betas_m, cost_f_m = grad_descent(start_m, x_train_m, y_train_m, n_interations, 0.001)\n",
        "print('\\nMultiple variable: ', new_betas_m[-1], 'Least error: ', np.min(cost_f_m))"
      ],
      "execution_count": null,
      "outputs": [
        {
          "output_type": "stream",
          "name": "stdout",
          "text": [
            "Optimal betas \n",
            " \n",
            "Single variable:  [ 0.72168708 -2.35592088] Least error:  0.25249853849858767\n",
            "\n",
            "Multiple variable:  [ 0.66526306 -1.27530537 -1.38547895 -1.15371805] Least error:  0.16639475762218875\n"
          ]
        }
      ]
    },
    {
      "cell_type": "markdown",
      "metadata": {
        "id": "HoK570suSe77"
      },
      "source": [
        "## Experiment with several initialisations: visualisation of the cost function and parameter values during the iterations"
      ]
    },
    {
      "cell_type": "code",
      "metadata": {
        "id": "HDVoVhYKDbJO"
      },
      "source": [
        "# simple reg\n",
        "param = [start,[0.05,0.05],[-0.08,-0.08]]\n",
        "\n",
        "_,cost_f_2= grad_descent(param[1], x_train_s, y_train_s, n_interations, 0.005)\n",
        "_,cost_f_3= grad_descent(param[2], x_train_s, y_train_s, n_interations, 0.005)\n",
        "\n",
        "y_axis_s = [cost_f, cost_f_2, cost_f_3]\n",
        "\n",
        "# multiple reg \n",
        "param_m = [start_m ,[0.03,0.03,0.03,0.03], [-0.5, -0.5, -0.5, -0.5]]\n",
        "\n",
        "_, cost_f_m_2= grad_descent(param_m[1], x_train_m, y_train_m, 10000, 0.005)\n",
        "_, cost_f_m_3= grad_descent(param_m[2], x_train_m, y_train_m, 10000, 0.005)\n",
        "\n",
        "y_axis_m = [cost_f_m, cost_f_m_2, cost_f_m_3]"
      ],
      "execution_count": null,
      "outputs": []
    },
    {
      "cell_type": "code",
      "metadata": {
        "colab": {
          "base_uri": "https://localhost:8080/",
          "height": 351
        },
        "id": "MIoQPBpfOpg3",
        "outputId": "a95fb255-fdf3-4382-9c00-5b7026b05602"
      },
      "source": [
        "def plot_comparison(y_axis_s:list, \n",
        "                    y_axis_m:list,\n",
        "                    param_s:list,\n",
        "                    param_m:list, \n",
        "                    x_axis_s=None,\n",
        "                    x_axis_m=None,\n",
        "                    legend:str = ''):\n",
        "\n",
        "    \"\"\" Plot a comparison between single and multiple regression \"\"\"\n",
        "\n",
        "    #-- Test 1  - simple reg \n",
        "    fig, (ax1, ax2) = plt.subplots(ncols=2, figsize=(15, 5))\n",
        "    ax1.plot(y_axis_s[0], label = f'{param_s[0]}')\n",
        "    ax1.plot(y_axis_s[1], label = f'{param_s[1]}')\n",
        "    ax1.plot(y_axis_s[2], label = f'{param_s[2]}')\n",
        "    ax1.set_title(f'Cost X Interations (Simple Regression)\\n {legend}')\n",
        "    ax1.set_ylabel('MSE')\n",
        "    ax1.legend()\n",
        "\n",
        "    #-- Test 2 - multiple reg\n",
        "    ax2.plot(y_axis_m[0], label = f'{param_m[0]}')\n",
        "    ax2.plot(y_axis_m[1], label = f'{param_m[1]}')\n",
        "    ax2.plot(y_axis_m[2], label = f'{param_m[2]}')\n",
        "    ax2.set_title(f'Cost X Interations (Multiple Regression)\\n {legend}')\n",
        "    ax2.set_ylabel('MSE')\n",
        "    ax2.legend()\n",
        "\n",
        "    plt.show()\n",
        "\n",
        "plot_comparison(y_axis_s, y_axis_m, param, param_m, legend=\"Different Initialisation Values\" )"
      ],
      "execution_count": null,
      "outputs": [
        {
          "output_type": "display_data",
          "data": {
            "image/png": "[encoded data removed]",
            "text/plain": [
              "<Figure size 1080x360 with 2 Axes>"
            ]
          },
          "metadata": {
            "needs_background": "light"
          }
        }
      ]
    },
    {
      "cell_type": "markdown",
      "metadata": {
        "id": "gyvd7utKSe77"
      },
      "source": [
        "COMMENTS: \n",
        "The results above show that the best init values are represented by the orange and green curves for both simple and multiple logistic regression models, once the error tends closer to 0 after 20k. However, since logistic regression does not have an explicit solution, it is not possible to directly check if the optimal parameters are indeed the best parameters. For simple logistic regression, the model stops running on 20k interactions, not when the error becomes very very, even for the init parameters that performs better, which may indicate the optimal value was still not achieved. On the other hand, for multiple regression, the model stops around 10k interations, indicating the error stabilizes. "
      ]
    },
    {
      "cell_type": "markdown",
      "metadata": {
        "id": "2YKTiiBzSe77"
      },
      "source": [
        "## Experiment with several learning rate: visualisation of the cost function and parameter values during the iterations"
      ]
    },
    {
      "cell_type": "code",
      "metadata": {
        "id": "qDrHpLOyHKtf"
      },
      "source": [
        "# simple reg\n",
        "learn = [0.001, 0.0001, 0.00001]\n",
        "\n",
        "_,cost_f_2_lr = grad_descent(param[0], x_train_s, y_train_s, n_interations, learn[1])\n",
        "_,cost_f_3_lr = grad_descent(param[0], x_train_s, y_train_s, n_interations, learn[2])\n",
        "\n",
        "y_axis_s_learn = [cost_f, cost_f_2_lr, cost_f_3_lr]\n",
        "\n",
        "# multiple reg \n",
        "\n",
        "_, cost_f_m_2_lr= grad_descent(param_m[0], x_train_m, y_train_m, n_interations, learn[1])\n",
        "_, cost_f_m_3_lr= grad_descent(param_m[0], x_train_m, y_train_m, n_interations, learn[2])\n",
        "\n",
        "y_axis_m_learn = [cost_f_m, cost_f_m_2_lr, cost_f_m_3_lr]"
      ],
      "execution_count": null,
      "outputs": []
    },
    {
      "cell_type": "code",
      "metadata": {
        "colab": {
          "base_uri": "https://localhost:8080/",
          "height": 351
        },
        "id": "Y7oQFUdvGsXJ",
        "outputId": "707d2256-3017-43e7-b1f9-73c1a642ade8"
      },
      "source": [
        "plot_comparison(y_axis_s_learn, y_axis_m_learn, learn, learn, legend=\"Different Learning Rates\" )"
      ],
      "execution_count": null,
      "outputs": [
        {
          "output_type": "display_data",
          "data": {
            "image/png": "[encoded data removed]",
            "text/plain": [
              "<Figure size 1080x360 with 2 Axes>"
            ]
          },
          "metadata": {
            "needs_background": "light"
          }
        }
      ]
    },
    {
      "cell_type": "markdown",
      "metadata": {
        "id": "i7T5G0zHqtLl"
      },
      "source": [
        "COMMENTS:\n",
        "The graph above shows the impact of the learning rate on the computation of the cost in each interaction. Lower learning rates requires more time to learn the best parameters. Higher learning rates learn the parameters quicker, but if too big it may overshoot the model parameters. The learning rate 0.001 seens to work fine for both regression model types. "
      ]
    },
    {
      "cell_type": "code",
      "metadata": {
        "colab": {
          "base_uri": "https://localhost:8080/",
          "height": 265
        },
        "id": "Hn2cPvUI3_-x",
        "outputId": "6e50f2ab-ee39-4baf-bfad-92cf83a6583e"
      },
      "source": [
        "# Testing the Model with the parameters retrieved from the Gradient Descent\n",
        "sig = f(x_test_s, new_betas[-1])\n",
        "binary_pred=np.where(sig < 0.5, 0, 1)\n",
        "\n",
        "# plt.scatter(x_test_s[:,1:], binary_pred, label = 'Predictions' )\n",
        "plt.scatter(x_test_s[:,1:], y_test_s, label='True label')\n",
        "plt.scatter(x_test_s[:,1:],sig, label= 'Model') # why plotting as a line is messing up the visualization???\n",
        "plt.legend()\n",
        "plt.show()"
      ],
      "execution_count": null,
      "outputs": [
        {
          "output_type": "display_data",
          "data": {
            "image/png": "[encoded data removed]",
            "text/plain": [
              "<Figure size 432x288 with 1 Axes>"
            ]
          },
          "metadata": {
            "needs_background": "light"
          }
        }
      ]
    },
    {
      "cell_type": "code",
      "metadata": {
        "id": "R5cyFzxx9Hyc"
      },
      "source": [
        "# sig = f(x_test_m, new_betas_m[-1])\n",
        "# binary_pred=np.where(sig < 0.5, 0, 1)\n",
        "\n",
        "# plt.scatter(x_test_m[:,3:4], binary_pred, label = 'Predictions' )\n",
        "# plt.scatter(x_test_m[:,3:4], y_test_s, label='True label')\n",
        "# plt.scatter(x_test_m[:,3:4],sig, label= 'Model') # why plotting as a line is messing up the visualization???\n",
        "# plt.legend()\n",
        "# plt.show()"
      ],
      "execution_count": null,
      "outputs": []
    },
    {
      "cell_type": "markdown",
      "metadata": {
        "id": "-DzA66l3HoWP"
      },
      "source": [
        "# Accuracy without Regularisation"
      ]
    },
    {
      "cell_type": "code",
      "metadata": {
        "colab": {
          "base_uri": "https://localhost:8080/",
          "height": 298
        },
        "id": "oGSC8KbbAVAb",
        "outputId": "3d5b6887-8dc0-4c5a-f240-d5052232c36f"
      },
      "source": [
        "def acc_without_reg(X, y, betas):\n",
        "  \"\"\" Compute the accuracy without regulatisation \"\"\"\n",
        "  y_pred = f(X, betas)\n",
        "  binary_pred=np.where(y_pred < 0.5, 0, 1)\n",
        "\n",
        "  print('Acurracy without regularisation:', accuracy_score(y,binary_pred)*100) # change for accuracy score with different init values \n",
        "\n",
        "  conf_matrix = confusion_matrix(y, binary_pred)\n",
        "  sns.heatmap(conf_matrix, annot=True)\n",
        "\n",
        "print('Simple Model', acc_without_reg(x_test_s,y_test_s,new_betas[-1]))"
      ],
      "execution_count": null,
      "outputs": [
        {
          "output_type": "stream",
          "name": "stdout",
          "text": [
            "Acurracy without regularisation: 90.9090909090909\n",
            "Simple Model None\n"
          ]
        },
        {
          "output_type": "display_data",
          "data": {
            "image/png": "[encoded data removed]",
            "text/plain": [
              "<Figure size 432x288 with 2 Axes>"
            ]
          },
          "metadata": {
            "needs_background": "light"
          }
        }
      ]
    },
    {
      "cell_type": "code",
      "metadata": {
        "colab": {
          "base_uri": "https://localhost:8080/",
          "height": 298
        },
        "id": "ytYkID7hRZGW",
        "outputId": "4e40dc55-7133-4b67-c3fc-3bd3f412a2b7"
      },
      "source": [
        "print('Multiple Model', acc_without_reg(x_test_m, y_test_m,new_betas_m[-1]))"
      ],
      "execution_count": null,
      "outputs": [
        {
          "output_type": "stream",
          "name": "stdout",
          "text": [
            "Acurracy without regularisation: 95.1048951048951\n",
            "Multiple Model None\n"
          ]
        },
        {
          "output_type": "display_data",
          "data": {
            "image/png": "[encoded data removed]",
            "text/plain": [
              "<Figure size 432x288 with 2 Axes>"
            ]
          },
          "metadata": {
            "needs_background": "light"
          }
        }
      ]
    },
    {
      "cell_type": "markdown",
      "metadata": {
        "id": "fpD5Q-211j9s"
      },
      "source": [
        "# Regularisation"
      ]
    },
    {
      "cell_type": "markdown",
      "metadata": {
        "id": "hUuJ0iV6P8h8"
      },
      "source": [
        "**Ridge Regression:** Ridge regression is a regularisation tecnique that aims to penalise models tha are too complex, which tends to overfit the data. The strentgh of the penalisation relies on the alpha parameter that is added to the cost function of the model. The code below shows a comparison of accuracy depending on the alpha parameter. When alpha is 0, no penalization is added to the model and therefore the accuracy is the same as the accuracy without regularization. As alpha increases, the stronger the regularisation, which also leads to a slight increase on accuracy. The increase in accuracy may indicate that the model generalises better, therefore, perfoming better with unseen data. However, for Multiple Logistic Regression, changing the did not changed the accuracy, which requires further investigation."
      ]
    },
    {
      "cell_type": "code",
      "metadata": {
        "colab": {
          "base_uri": "https://localhost:8080/"
        },
        "id": "tIazgYUoMykZ",
        "outputId": "37c4125e-dcc0-4a89-9855-262d5607ecd2"
      },
      "source": [
        "def alpha_ridge(x_train,\n",
        "                y_train,\n",
        "                x_test,\n",
        "                model_name):\n",
        "  \"\"\"\" Compute logistic regression model for different values of alpha\"\"\"\n",
        "  alpha = np.linspace(0,99, 5)\n",
        "  print(f'{model_name}')\n",
        "  for i in alpha:\n",
        "    clf = Ridge(alpha=i).fit(x_train,y_train)\n",
        "    y_pred=clf.predict(x_test)\n",
        "    binary_pred=np.where(y_pred < 0.5,0,1)\n",
        "    print(i, '-', accuracy_score(y_test_s, binary_pred))\n",
        "\n",
        "alpha_ridge(x_train_s,y_train_s,x_test_s, 'Simple Model')\n",
        "alpha_ridge(x_train_m,y_train_m,x_test_m, '\\nMultiple Model')"
      ],
      "execution_count": null,
      "outputs": [
        {
          "output_type": "stream",
          "name": "stdout",
          "text": [
            "Simple Model\n",
            "0.0 - 0.9090909090909091\n",
            "24.75 - 0.9020979020979021\n",
            "49.5 - 0.9020979020979021\n",
            "74.25 - 0.9090909090909091\n",
            "99.0 - 0.916083916083916\n",
            "\n",
            "Multiple Model\n",
            "0.0 - 0.951048951048951\n",
            "24.75 - 0.951048951048951\n",
            "49.5 - 0.951048951048951\n",
            "74.25 - 0.951048951048951\n",
            "99.0 - 0.951048951048951\n"
          ]
        }
      ]
    },
    {
      "cell_type": "markdown",
      "metadata": {
        "id": "kjaGCpo1ULAo"
      },
      "source": [
        "**Comparison of regularization techniques**\n",
        "The outputs below shows the results for running the sklearn's Logistic Regression model considering different regularisation tecnhiques (ridge regression, LASSO and ElasticNet) and not considering any regularisation. In addtion, different regularization strenghts were tested. Differently from the Ridge function, the penalization strength is calculated by the C parameter, which stands for the inverse of the regularisation strength. \n",
        "The value of C was set to 0.01 aiming to a stronger penalization.\n",
        "\n",
        "For simple logistic regression, the highest accuracy was obtained when using ridge and elasticnet, but overall changing the regularisation type did not change considerably the accuracy. For multiple logistic regression, elasticnet showed the best accuracy, with over 2% improvement in comparison to none regularisation. "
      ]
    },
    {
      "cell_type": "code",
      "metadata": {
        "colab": {
          "base_uri": "https://localhost:8080/"
        },
        "id": "ZdcZIi6EWcCL",
        "outputId": "0ba37679-9ece-455d-fb6c-8d7233c59c8b"
      },
      "source": [
        "def test_regularizations(x_train,\n",
        "                         x_test,\n",
        "                         y_train,\n",
        "                         y_test,\n",
        "                         model_name):\n",
        "  # l2=Ridge, l1=lasso\n",
        "  penalties = ['l1','l2', 'none']\n",
        "  print(f'\\n{model_name}\\n')\n",
        "\n",
        "  for i in penalties:\n",
        "    clf = LogisticRegression(penalty=i, solver='saga', C=0.01).fit(x_train,y_train) # C is the inverse of \n",
        "    y_pred = clf.predict(x_test)\n",
        "    print(f'{i}-Betas', clf.coef_)\n",
        "    print(f'{i}-Accuracy score: ', accuracy_score(y_test,y_pred)*100,'\\n')\n",
        "\n",
        "  regr = ElasticNet(alpha=0.1,random_state=0).fit(x_train,y_train)\n",
        "  y_pred = regr.predict(x_test)\n",
        "  print('ElasticNet-Betas', regr.coef_)\n",
        "  print('ElasticNet-Accuracy score: ', accuracy_score(y_test,np.where(y_pred<0.5,0,1))*100)\n",
        "\n",
        "\n",
        "test_regularizations(x_train_s,x_test_s,y_train_s,y_test_s,'Simple model')\n",
        "test_regularizations(x_train_m,x_test_m,y_train_m,y_test_m,'Multiple model')"
      ],
      "execution_count": null,
      "outputs": [
        {
          "output_type": "stream",
          "name": "stdout",
          "text": [
            "\n",
            "Simple model\n",
            "\n",
            "l1-Betas [[ 0.         -0.66770166]]\n",
            "l1-Accuracy score:  86.7132867132867 \n",
            "\n",
            "l2-Betas [[ 9.05101566e-06 -8.53201695e-01]]\n",
            "l2-Accuracy score:  88.11188811188812 \n",
            "\n",
            "none-Betas [[ 0.57392836 -4.09452615]]\n",
            "none-Accuracy score:  90.20979020979021 \n",
            "\n",
            "ElasticNet-Betas [ 0.        -0.3194898]\n",
            "ElasticNet-Accuracy score:  90.9090909090909\n",
            "\n",
            "Multiple model\n",
            "\n",
            "l1-Betas [[ 0.         -0.45442121 -0.2627868   0.        ]]\n",
            "l1-Accuracy score:  84.61538461538461 \n",
            "\n",
            "l2-Betas [[-1.00183671e-05 -5.35230176e-01 -5.30532447e-01 -4.90426579e-01]]\n",
            "l2-Accuracy score:  93.00699300699301 \n",
            "\n",
            "none-Betas [[ 0.38971252 -2.09465711 -4.11231527 -0.92926694]]\n",
            "none-Accuracy score:  93.00699300699301 \n",
            "\n",
            "ElasticNet-Betas [ 0.         -0.16555983 -0.13753655 -0.05491519]\n",
            "ElasticNet-Accuracy score:  95.1048951048951\n"
          ]
        },
        {
          "output_type": "stream",
          "name": "stderr",
          "text": [
            "/usr/local/lib/python3.7/dist-packages/sklearn/linear_model/_logistic.py:1505: UserWarning: Setting penalty='none' will ignore the C and l1_ratio parameters\n",
            "  \"Setting penalty='none' will ignore the C and l1_ratio \"\n",
            "/usr/local/lib/python3.7/dist-packages/sklearn/linear_model/_logistic.py:1505: UserWarning: Setting penalty='none' will ignore the C and l1_ratio parameters\n",
            "  \"Setting penalty='none' will ignore the C and l1_ratio \"\n"
          ]
        }
      ]
    },
    {
      "cell_type": "markdown",
      "metadata": {
        "id": "QGy17jAdmEKa"
      },
      "source": [
        "**Comparison of regularization techniques:** In the previous approaches, the values for the penalization parameter were suggested ramdonly. In order to make a more precise decision on what value of C/alpha to use, cross validation can be used. The GridSearchCV on sklearn package does a cross validated search among all suggested C and regularisation types and returns the best parameters. Then the best parameters find on Grid Search CV were used to computed the cross_val_score for each tested value of C. \n"
      ]
    },
    {
      "cell_type": "code",
      "metadata": {
        "id": "Iju8tgvHzaSW"
      },
      "source": [
        "def cross_val_acc(X,y, model_name):\n",
        "  x_train, x_test, y_train, y_test = train_test_split(X, y, random_state=0,test_size=0.25)\n",
        "\n",
        "  c_values = np.linspace(0.0001, 1, 10)\n",
        "  # penalties=['l1','l2']\n",
        "  hyper = dict(penalty=penalties[:1], C=c_values)\n",
        "\n",
        "  # Cross validated Grid Search / Finding the best model estimator \n",
        "  logistic_model = LogisticRegression(solver='saga')\n",
        "  clf_cross = GridSearchCV(logistic_model, hyper, cv=10)\n",
        "  model = clf_cross.fit(x_train, y_train)\n",
        "  op_model = model.best_estimator_.get_params()\n",
        "\n",
        "  # Cross validation\n",
        "  kfold = KFold(n_splits=5)\n",
        "  l_model = LogisticRegression(C=op_model['C'], penalty=op_model['penalty'], solver='saga')\n",
        "  acc = cross_val_score(l_model, X, y, cv=kfold).mean()*100\n",
        "  print(f'{model_name} - Mean accuracy cross validation:', acc)"
      ],
      "execution_count": null,
      "outputs": []
    },
    {
      "cell_type": "code",
      "metadata": {
        "colab": {
          "base_uri": "https://localhost:8080/",
          "height": 296
        },
        "id": "TiGRJntJ5RzL",
        "outputId": "1f57a0a6-fa44-48d4-9a9c-43cf6b67cf62"
      },
      "source": [
        "cross_val_acc(Xs_stand_r,Y, 'Simple Model')\n",
        "cross_val_acc(Xm_stand_r,Y, 'Multiple Model')"
      ],
      "execution_count": null,
      "outputs": [
        {
          "output_type": "error",
          "ename": "NameError",
          "evalue": "ignored",
          "traceback": [
            "\u001b[0;31m---------------------------------------------------------------------------\u001b[0m",
            "\u001b[0;31mNameError\u001b[0m                                 Traceback (most recent call last)",
            "\u001b[0;32m<ipython-input-28-396bfb3bd268>\u001b[0m in \u001b[0;36m<module>\u001b[0;34m()\u001b[0m\n\u001b[0;32m----> 1\u001b[0;31m \u001b[0mcross_val_acc\u001b[0m\u001b[0;34m(\u001b[0m\u001b[0mXs_stand_r\u001b[0m\u001b[0;34m,\u001b[0m\u001b[0mY\u001b[0m\u001b[0;34m,\u001b[0m \u001b[0;34m'Simple Model'\u001b[0m\u001b[0;34m)\u001b[0m\u001b[0;34m\u001b[0m\u001b[0;34m\u001b[0m\u001b[0m\n\u001b[0m\u001b[1;32m      2\u001b[0m \u001b[0mcross_val_acc\u001b[0m\u001b[0;34m(\u001b[0m\u001b[0mXm_stand_r\u001b[0m\u001b[0;34m,\u001b[0m\u001b[0mY\u001b[0m\u001b[0;34m,\u001b[0m \u001b[0;34m'Multiple Model'\u001b[0m\u001b[0;34m)\u001b[0m\u001b[0;34m\u001b[0m\u001b[0;34m\u001b[0m\u001b[0m\n",
            "\u001b[0;32m<ipython-input-27-c9f7b06f5db3>\u001b[0m in \u001b[0;36mcross_val_acc\u001b[0;34m(X, y, model_name)\u001b[0m\n\u001b[1;32m      4\u001b[0m   \u001b[0mc_values\u001b[0m \u001b[0;34m=\u001b[0m \u001b[0mnp\u001b[0m\u001b[0;34m.\u001b[0m\u001b[0mlinspace\u001b[0m\u001b[0;34m(\u001b[0m\u001b[0;36m0.0001\u001b[0m\u001b[0;34m,\u001b[0m \u001b[0;36m1\u001b[0m\u001b[0;34m,\u001b[0m \u001b[0;36m10\u001b[0m\u001b[0;34m)\u001b[0m\u001b[0;34m\u001b[0m\u001b[0;34m\u001b[0m\u001b[0m\n\u001b[1;32m      5\u001b[0m   \u001b[0;31m# penalties=['l1','l2']\u001b[0m\u001b[0;34m\u001b[0m\u001b[0;34m\u001b[0m\u001b[0;34m\u001b[0m\u001b[0m\n\u001b[0;32m----> 6\u001b[0;31m   \u001b[0mhyper\u001b[0m \u001b[0;34m=\u001b[0m \u001b[0mdict\u001b[0m\u001b[0;34m(\u001b[0m\u001b[0mpenalty\u001b[0m\u001b[0;34m=\u001b[0m\u001b[0mpenalties\u001b[0m\u001b[0;34m[\u001b[0m\u001b[0;34m:\u001b[0m\u001b[0;36m1\u001b[0m\u001b[0;34m]\u001b[0m\u001b[0;34m,\u001b[0m \u001b[0mC\u001b[0m\u001b[0;34m=\u001b[0m\u001b[0mc_values\u001b[0m\u001b[0;34m)\u001b[0m\u001b[0;34m\u001b[0m\u001b[0;34m\u001b[0m\u001b[0m\n\u001b[0m\u001b[1;32m      7\u001b[0m \u001b[0;34m\u001b[0m\u001b[0m\n\u001b[1;32m      8\u001b[0m   \u001b[0;31m# Cross validated Grid Search / Finding the best model estimator\u001b[0m\u001b[0;34m\u001b[0m\u001b[0;34m\u001b[0m\u001b[0;34m\u001b[0m\u001b[0m\n",
            "\u001b[0;31mNameError\u001b[0m: name 'penalties' is not defined"
          ]
        }
      ]
    }
  ]
}